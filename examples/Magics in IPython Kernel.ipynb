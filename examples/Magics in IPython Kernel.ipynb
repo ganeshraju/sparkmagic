{
 "cells": [
  {
   "cell_type": "markdown",
   "metadata": {},
   "source": [
    "# Demonstrating sparkmagic"
   ]
  },
  {
   "cell_type": "markdown",
   "metadata": {},
   "source": [
    "## This notebook will demonstrate how you can use the spark magic to interspere your Python code with code that is running against a Spark cluster"
   ]
  },
  {
   "cell_type": "markdown",
   "metadata": {},
   "source": [
    "Maybe you start by processing some data in regular python.\n",
    "\n",
    "**Notice that this is regular Python code.**"
   ]
  },
  {
   "cell_type": "code",
   "execution_count": 1,
   "metadata": {
    "collapsed": false
   },
   "outputs": [
    {
     "name": "stdout",
     "output_type": "stream",
     "text": [
      "2015-03-0, 12:00, 10, 5, 0\n",
      "2015-03-1, 12:00, 11, 6, 1\n",
      "2015-03-2, 12:00, 12, 7, 2\n",
      "2015-03-3, 12:00, 13, 8, 3\n",
      "2015-03-4, 12:00, 14, 9, 4\n",
      "2015-03-5, 12:00, 15, 10, 5\n",
      "2015-03-6, 12:00, 16, 11, 6\n",
      "2015-03-7, 12:00, 17, 12, 7\n",
      "2015-03-8, 12:00, 18, 13, 8\n",
      "2015-03-9, 12:00, 19, 14, 9\n"
     ]
    }
   ],
   "source": [
    "for i in range(10):\n",
    "    print(\"2015-03-{}, 12:00, {}, {}, {}\".format(i, i+10, i+5, i))"
   ]
  },
  {
   "cell_type": "markdown",
   "metadata": {},
   "source": [
    "Then, **you probably need Spark to analyze some data**. So, we'll load `sparkmagic` in order to be able to talk to Spark from my Python notebook."
   ]
  },
  {
   "cell_type": "code",
   "execution_count": 2,
   "metadata": {
    "collapsed": false
   },
   "outputs": [],
   "source": [
    "%load_ext sparkmagic.magics"
   ]
  },
  {
   "cell_type": "markdown",
   "metadata": {},
   "source": [
    "With it, the `%manage_spark` line magic and the `%%spark` magic are available.\n",
    "\n",
    "The `%%manage_spark` line magic will let you manage Livy endpoints and Spark sessions. You can create and delete sessions for an endpoint from it."
   ]
  },
  {
   "cell_type": "markdown",
   "metadata": {},
   "source": [
    "In order to start using Spark on the kernel, we'll irst, add an Endpoint.\n",
    "\n",
    "An Endpoint is a [Livy](https://github.com/cloudera/livy) installation running on a Spark cluster. \n",
    "sparkmagic allows you to specify the Livy endpoint along with a username and password to authenticate to it. If the livy endpoint is on your local machine or has no password, simply leave the text fields for username and password blank."
   ]
  },
  {
   "cell_type": "code",
   "execution_count": 3,
   "metadata": {
    "collapsed": false
   },
   "outputs": [
    {
     "name": "stdout",
     "output_type": "stream",
     "text": [
      "Added endpoint https://localhost:8998\n",
      "Creating SparkContext as 'sc'\n",
      "Creating HiveContext as 'sqlContext'\n"
     ]
    }
   ],
   "source": [
    "%manage_spark"
   ]
  },
  {
   "cell_type": "markdown",
   "metadata": {},
   "source": [
    "![add_endpoint](images/addendpoint.PNG)"
   ]
  },
  {
   "cell_type": "markdown",
   "metadata": {},
   "source": [
    "Now, add a session to the endpoint you added. The name you give to the session will be used with the `%%spark` magic to run Spark code. You can also specify the configuration you want to start the session with. You can create either Python (PySpark) or Scala (Spark) sessions.\n",
    "\n",
    "A SparkContext will be created with the `sc` name. A HiveContext will be created with the `sqlContext` name.\n",
    "\n",
    "We'll start by adding a PySpark session first."
   ]
  },
  {
   "cell_type": "markdown",
   "metadata": {},
   "source": [
    "![add_session](images/addsession.PNG)"
   ]
  },
  {
   "cell_type": "markdown",
   "metadata": {},
   "source": [
    "You can now run Spark code on the IPython kernel. In order to get some instructions on what commands are available, run `%spark?`"
   ]
  },
  {
   "cell_type": "code",
   "execution_count": 4,
   "metadata": {
    "collapsed": true
   },
   "outputs": [],
   "source": [
    "%spark?"
   ]
  },
  {
   "cell_type": "markdown",
   "metadata": {},
   "source": [
    "## Pyspark"
   ]
  },
  {
   "cell_type": "markdown",
   "metadata": {},
   "source": [
    "From here on, I just need to reference my session by its name 'my_pyspark'.\n",
    "\n",
    ">Note that if there's only one session for the notebook, you do not need to specify a session name."
   ]
  },
  {
   "cell_type": "markdown",
   "metadata": {},
   "source": [
    "Notice that in order to send my code to the Spark cluster, I'll simply add `%%spark` at the beginning of the cell and the magics will handle the execution of the code in the Spark cluster.\n",
    "\n",
    "In the following cell, I'll create a Resilient Distributed Dataset (RDD) called fruits, and print its first element."
   ]
  },
  {
   "cell_type": "code",
   "execution_count": 5,
   "metadata": {
    "collapsed": false
   },
   "outputs": [
    {
     "name": "stdout",
     "output_type": "stream",
     "text": [
      "First element of fruits is apple and its description is:\n",
      "(2) wasb:///example/data/fruits.txt MapPartitionsRDD[1] at textFile at NativeMethodAccessorImpl.java:-2 []\n",
      " |  wasb:///example/data/fruits.txt HadoopRDD[0] at textFile at NativeMethodAccessorImpl.java:-2 []"
     ]
    }
   ],
   "source": [
    "%%spark\n",
    "fruits = sc.textFile('wasb:///example/data/fruits.txt')\n",
    "print('First element of fruits is {} and its description is:\\n{}'.format(fruits.first(), fruits.toDebugString()))"
   ]
  },
  {
   "cell_type": "markdown",
   "metadata": {},
   "source": [
    "Now, you've created your session and executed some statements. If you want to look at the Livy logs for this session, simply run a cell like so:"
   ]
  },
  {
   "cell_type": "code",
   "execution_count": 6,
   "metadata": {
    "collapsed": false,
    "scrolled": true
   },
   "outputs": [
    {
     "name": "stdout",
     "output_type": "stream",
     "text": [
      "SLF4J: Class path contains multiple SLF4J bindings.\n",
      "SLF4J: Found binding in [jar:file:/usr/hdp/2.4.2.0-258/spark/lib/spark-assembly-1.6.1.2.4.2.0-258-hadoop2.7.1.2.4.2.0-258.jar!/org/slf4j/impl/StaticLoggerBinder.class]\n",
      "SLF4J: Found binding in [jar:file:/usr/hdp/2.4.2.0-258/spark/lib/spark-examples-1.6.1.2.4.2.0-258-hadoop2.7.1.2.4.2.0-258.jar!/org/slf4j/impl/StaticLoggerBinder.class]\n",
      "SLF4J: See http://www.slf4j.org/codes.html#multiple_bindings for an explanation.\n",
      "SLF4J: Actual binding is of type [org.slf4j.impl.Log4jLoggerFactory]\n",
      "16/06/03 22:04:17 WARN NativeCodeLoader: Unable to load native-hadoop library for your platform... using builtin-java classes where applicable\n",
      "16/06/03 22:04:18 INFO TimelineClientImpl: Timeline service address: http://localhost:8188/ws/v1/timeline/\n",
      "16/06/03 22:04:19 INFO MetricsConfig: loaded properties from hadoop-metrics2-azure-file-system.properties\n",
      "16/06/03 22:04:19 INFO WasbAzureIaasSink: Init starting.\n",
      "16/06/03 22:04:19 INFO AzureIaasSink: Init starting. Initializing MdsLogger.\n",
      "16/06/03 22:04:19 INFO AzureIaasSink: Init completed.\n",
      "16/06/03 22:04:19 INFO WasbAzureIaasSink: Init completed.\n",
      "16/06/03 22:04:19 INFO MetricsSinkAdapter: Sink azurefs2 started\n",
      "16/06/03 22:04:19 INFO MetricsSystemImpl: Scheduled snapshot period at 60 second(s).\n",
      "16/06/03 22:04:19 INFO MetricsSystemImpl: azure-file-system metrics system started\n",
      "16/06/03 22:04:19 INFO ConfiguredRMFailoverProxyProvider: Failing over to rm2\n",
      "16/06/03 22:04:19 INFO Client: Requesting a new application from cluster with 4 NodeManagers\n",
      "16/06/03 22:04:19 INFO Client: Verifying our application has not requested more than the maximum memory capability of the cluster (25600 MB per container)\n",
      "16/06/03 22:04:19 INFO Client: Will allocate AM container, with 1408 MB memory including 384 MB overhead\n",
      "16/06/03 22:04:19 INFO Client: Setting up container launch context for our AM\n",
      "16/06/03 22:04:19 INFO Client: Setting up the launch environment for our AM container\n",
      "16/06/03 22:04:19 INFO Client: Preparing resources for our AM container\n",
      "16/06/03 22:04:19 INFO Client: Uploading resource file:/usr/hdp/current/spark-client/python/lib/pyspark.zip -> wasb://container@storage.blob.core.windows.net/user/spark/.sparkStaging/application_1464742882191_0030/pyspark.zip\n",
      "16/06/03 22:04:20 INFO Client: Uploading resource file:/usr/hdp/current/spark-client/python/lib/py4j-0.9-src.zip -> wasb://container@storage.blob.core.windows.net/user/spark/.sparkStaging/application_1464742882191_0030/py4j-0.9-src.zip\n",
      "16/06/03 22:04:20 INFO Client: Uploading resource file:/usr/hdp/current/spark-client/conf/hive-site.xml -> wasb://container@storage.blob.core.windows.net/user/spark/.sparkStaging/application_1464742882191_0030/hive-site.xml\n",
      "16/06/03 22:04:20 INFO Client: Uploading resource file:/usr/hdp/2.4.2.0-258/spark/python/lib/pyspark.zip -> wasb://container@storage.blob.core.windows.net/user/spark/.sparkStaging/application_1464742882191_0030/pyspark.zip\n",
      "16/06/03 22:04:21 INFO Client: Uploading resource file:/usr/hdp/2.4.2.0-258/spark/python/lib/py4j-0.9-src.zip -> wasb://container@storage.blob.core.windows.net/user/spark/.sparkStaging/application_1464742882191_0030/py4j-0.9-src.zip\n",
      "16/06/03 22:04:21 INFO Client: Uploading resource file:/tmp/spark-ae85488b-945e-4072-88d2-2fa5a35fa4ae/__spark_conf__1521927856089456486.zip -> wasb://container@storage.blob.core.windows.net/user/spark/.sparkStaging/application_1464742882191_0030/__spark_conf__1521927856089456486.zip\n",
      "16/06/03 22:04:21 INFO SecurityManager: Changing view acls to: spark\n",
      "16/06/03 22:04:21 INFO SecurityManager: Changing modify acls to: spark\n",
      "16/06/03 22:04:21 INFO SecurityManager: SecurityManager: authentication disabled; ui acls disabled; users with view permissions: Set(spark); users with modify permissions: Set(spark)\n",
      "16/06/03 22:04:21 INFO Client: Submitting application 30 to ResourceManager\n",
      "16/06/03 22:04:22 INFO YarnClientImpl: Submitted application application_1464742882191_0030\n",
      "16/06/03 22:04:23 INFO Client: Application report for application_1464742882191_0030 (state: ACCEPTED)\n",
      "16/06/03 22:04:23 INFO Client: \n",
      "\t client token: N/A\n",
      "\t diagnostics: N/A\n",
      "\t ApplicationMaster host: N/A\n",
      "\t ApplicationMaster RPC port: -1\n",
      "\t queue: default\n",
      "\t start time: 1464991461647\n",
      "\t final status: UNDEFINED\n",
      "\t tracking URL: http://localhost:8088/proxy/application_1464742882191_0030/\n",
      "\t user: spark\n",
      "16/06/03 22:04:24 INFO Client: Application report for application_1464742882191_0030 (state: ACCEPTED)\n",
      "16/06/03 22:04:25 INFO Client: Application report for application_1464742882191_0030 (state: ACCEPTED)\n",
      "16/06/03 22:04:26 INFO Client: Application report for application_1464742882191_0030 (state: ACCEPTED)\n",
      "16/06/03 22:04:27 INFO Client: Application report for application_1464742882191_0030 (state: ACCEPTED)\n",
      "16/06/03 22:04:28 INFO Client: Application report for application_1464742882191_0030 (state: ACCEPTED)\n",
      "16/06/03 22:04:29 INFO Client: Application report for application_1464742882191_0030 (state: ACCEPTED)\n",
      "16/06/03 22:04:30 INFO Client: Application report for application_1464742882191_0030 (state: ACCEPTED)\n",
      "16/06/03 22:04:31 INFO Client: Application report for application_1464742882191_0030 (state: ACCEPTED)\n",
      "16/06/03 22:04:32 INFO Client: Application report for application_1464742882191_0030 (state: RUNNING)\n",
      "16/06/03 22:04:32 INFO Client: \n",
      "\t client token: N/A\n",
      "\t diagnostics: N/A\n",
      "\t ApplicationMaster host: 10.0.0.12\n",
      "\t ApplicationMaster RPC port: 0\n",
      "\t queue: default\n",
      "\t start time: 1464991461647\n",
      "\t final status: UNDEFINED\n",
      "\t tracking URL: http://localhost:8088/proxy/application_1464742882191_0030/\n",
      "\t user: spark\n",
      "16/06/03 22:04:33 INFO Client: Application report for application_1464742882191_0030 (state: RUNNING)\n",
      "16/06/03 22:04:34 INFO Client: Application report for application_1464742882191_0030 (state: RUNNING)\n",
      "16/06/03 22:04:35 INFO Client: Application report for application_1464742882191_0030 (state: RUNNING)\n",
      "16/06/03 22:04:36 INFO Client: Application report for application_1464742882191_0030 (state: RUNNING)\n",
      "16/06/03 22:04:37 INFO Client: Application report for application_1464742882191_0030 (state: RUNNING)\n",
      "16/06/03 22:04:38 INFO Client: Application report for application_1464742882191_0030 (state: RUNNING)\n",
      "16/06/03 22:04:39 INFO Client: Application report for application_1464742882191_0030 (state: RUNNING)\n",
      "16/06/03 22:04:40 INFO Client: Application report for application_1464742882191_0030 (state: RUNNING)\n",
      "16/06/03 22:04:41 INFO Client: Application report for application_1464742882191_0030 (state: RUNNING)\n",
      "16/06/03 22:04:42 INFO Client: Application report for application_1464742882191_0030 (state: RUNNING)\n",
      "16/06/03 22:04:43 INFO Client: Application report for application_1464742882191_0030 (state: RUNNING)\n",
      "16/06/03 22:04:44 INFO Client: Application report for application_1464742882191_0030 (state: RUNNING)\n",
      "16/06/03 22:04:45 INFO Client: Application report for application_1464742882191_0030 (state: RUNNING)\n",
      "16/06/03 22:04:46 INFO Client: Application report for application_1464742882191_0030 (state: RUNNING)\n",
      "16/06/03 22:04:47 INFO Client: Application report for application_1464742882191_0030 (state: RUNNING)\n",
      "16/06/03 22:04:48 INFO Client: Application report for application_1464742882191_0030 (state: RUNNING)\n",
      "16/06/03 22:04:49 INFO Client: Application report for application_1464742882191_0030 (state: RUNNING)\n",
      "16/06/03 22:04:50 INFO Client: Application report for application_1464742882191_0030 (state: RUNNING)\n",
      "16/06/03 22:04:51 INFO Client: Application report for application_1464742882191_0030 (state: RUNNING)\n",
      "16/06/03 22:04:52 INFO Client: Application report for application_1464742882191_0030 (state: RUNNING)\n",
      "16/06/03 22:04:53 INFO Client: Application report for application_1464742882191_0030 (state: RUNNING)\n",
      "16/06/03 22:04:54 INFO Client: Application report for application_1464742882191_0030 (state: RUNNING)\n",
      "16/06/03 22:04:55 INFO Client: Application report for application_1464742882191_0030 (state: RUNNING)\n",
      "16/06/03 22:04:56 INFO Client: Application report for application_1464742882191_0030 (state: RUNNING)\n",
      "16/06/03 22:04:57 INFO Client: Application report for application_1464742882191_0030 (state: RUNNING)\n",
      "16/06/03 22:04:58 INFO Client: Application report for application_1464742882191_0030 (state: RUNNING)\n",
      "16/06/03 22:04:59 INFO Client: Application report for application_1464742882191_0030 (state: RUNNING)\n",
      "16/06/03 22:05:00 INFO Client: Application report for application_1464742882191_0030 (state: RUNNING)\n",
      "16/06/03 22:05:01 INFO Client: Application report for application_1464742882191_0030 (state: RUNNING)\n",
      "16/06/03 22:05:02 INFO Client: Application report for application_1464742882191_0030 (state: RUNNING)\n",
      "16/06/03 22:05:03 INFO Client: Application report for application_1464742882191_0030 (state: RUNNING)\n",
      "16/06/03 22:05:04 INFO Client: Application report for application_1464742882191_0030 (state: RUNNING)\n",
      "16/06/03 22:05:05 INFO Client: Application report for application_1464742882191_0030 (state: RUNNING)\n",
      "16/06/03 22:05:06 INFO Client: Application report for application_1464742882191_0030 (state: RUNNING)\n",
      "16/06/03 22:05:07 INFO Client: Application report for application_1464742882191_0030 (state: RUNNING)\n",
      "16/06/03 22:05:08 INFO Client: Application report for application_1464742882191_0030 (state: RUNNING)\n",
      "16/06/03 22:05:09 INFO Client: Application report for application_1464742882191_0030 (state: RUNNING)"
     ]
    }
   ],
   "source": [
    "%spark logs"
   ]
  },
  {
   "cell_type": "markdown",
   "metadata": {},
   "source": [
    "## SparkSQL"
   ]
  },
  {
   "cell_type": "markdown",
   "metadata": {},
   "source": [
    "Thanks to SparkSQL, I can use SQL to simply query the data I have cached in my Spark cluster. I can then analyze it and get automatic visualizations.\n",
    "\n",
    "All Spark sessions will have a HiveContext to run queries on top of. Simply select it by passing the `--context` or `-c` argument with the `sql` value to the `%%spark` magic.\n",
    "\n",
    "First, let's see what tables we have defined:"
   ]
  },
  {
   "cell_type": "code",
   "execution_count": 7,
   "metadata": {
    "collapsed": false
   },
   "outputs": [
    {
     "data": {
      "text/html": [
       "<div>\n",
       "<table border=\"1\" class=\"dataframe\">\n",
       "  <thead>\n",
       "    <tr style=\"text-align: right;\">\n",
       "      <th></th>\n",
       "      <th>isTemporary</th>\n",
       "      <th>tableName</th>\n",
       "    </tr>\n",
       "  </thead>\n",
       "  <tbody>\n",
       "    <tr>\n",
       "      <th>0</th>\n",
       "      <td>False</td>\n",
       "      <td>hivesampletable</td>\n",
       "    </tr>\n",
       "  </tbody>\n",
       "</table>\n",
       "</div>"
      ],
      "text/plain": [
       "  isTemporary        tableName\n",
       "0       False  hivesampletable"
      ]
     },
     "execution_count": 7,
     "metadata": {},
     "output_type": "execute_result"
    }
   ],
   "source": [
    "%%spark -c sql\n",
    "SHOW TABLES"
   ]
  },
  {
   "cell_type": "markdown",
   "metadata": {},
   "source": [
    "Now, let's query one of the available tables.\n",
    "\n",
    "Notice that we are passing the `--output` or `-o` parameter with a `df_hvac` value so that the output of our SQL query is saved in the `df_hvac` variable in the IPython kernel context as a [Pandas](http://pandas.pydata.org/) DataFrame."
   ]
  },
  {
   "cell_type": "code",
   "execution_count": 8,
   "metadata": {
    "collapsed": false,
    "scrolled": true
   },
   "outputs": [
    {
     "data": {
      "text/html": [
       "<div>\n",
       "<table border=\"1\" class=\"dataframe\">\n",
       "  <thead>\n",
       "    <tr style=\"text-align: right;\">\n",
       "      <th></th>\n",
       "      <th>clientid</th>\n",
       "      <th>country</th>\n",
       "      <th>devicemake</th>\n",
       "      <th>devicemodel</th>\n",
       "      <th>deviceplatform</th>\n",
       "      <th>market</th>\n",
       "      <th>querydwelltime</th>\n",
       "      <th>querytime</th>\n",
       "      <th>sessionid</th>\n",
       "      <th>sessionpagevieworder</th>\n",
       "      <th>state</th>\n",
       "    </tr>\n",
       "  </thead>\n",
       "  <tbody>\n",
       "    <tr>\n",
       "      <th>0</th>\n",
       "      <td>8</td>\n",
       "      <td>United States</td>\n",
       "      <td>Samsung</td>\n",
       "      <td>SCH-i500</td>\n",
       "      <td>Android</td>\n",
       "      <td>en-US</td>\n",
       "      <td>13.920401</td>\n",
       "      <td>2016-06-03 18:54:20</td>\n",
       "      <td>0</td>\n",
       "      <td>0</td>\n",
       "      <td>California</td>\n",
       "    </tr>\n",
       "    <tr>\n",
       "      <th>1</th>\n",
       "      <td>23</td>\n",
       "      <td>United States</td>\n",
       "      <td>HTC</td>\n",
       "      <td>Incredible</td>\n",
       "      <td>Android</td>\n",
       "      <td>en-US</td>\n",
       "      <td>NaN</td>\n",
       "      <td>2016-06-03 19:19:44</td>\n",
       "      <td>0</td>\n",
       "      <td>0</td>\n",
       "      <td>Pennsylvania</td>\n",
       "    </tr>\n",
       "    <tr>\n",
       "      <th>2</th>\n",
       "      <td>23</td>\n",
       "      <td>United States</td>\n",
       "      <td>HTC</td>\n",
       "      <td>Incredible</td>\n",
       "      <td>Android</td>\n",
       "      <td>en-US</td>\n",
       "      <td>1.475742</td>\n",
       "      <td>2016-06-03 19:19:46</td>\n",
       "      <td>0</td>\n",
       "      <td>1</td>\n",
       "      <td>Pennsylvania</td>\n",
       "    </tr>\n",
       "    <tr>\n",
       "      <th>3</th>\n",
       "      <td>23</td>\n",
       "      <td>United States</td>\n",
       "      <td>HTC</td>\n",
       "      <td>Incredible</td>\n",
       "      <td>Android</td>\n",
       "      <td>en-US</td>\n",
       "      <td>0.245968</td>\n",
       "      <td>2016-06-03 19:19:47</td>\n",
       "      <td>0</td>\n",
       "      <td>2</td>\n",
       "      <td>Pennsylvania</td>\n",
       "    </tr>\n",
       "    <tr>\n",
       "      <th>4</th>\n",
       "      <td>28</td>\n",
       "      <td>United States</td>\n",
       "      <td>Motorola</td>\n",
       "      <td>Droid X</td>\n",
       "      <td>Android</td>\n",
       "      <td>en-US</td>\n",
       "      <td>20.309534</td>\n",
       "      <td>2016-06-03 01:37:50</td>\n",
       "      <td>1</td>\n",
       "      <td>1</td>\n",
       "      <td>Colorado</td>\n",
       "    </tr>\n",
       "    <tr>\n",
       "      <th>5</th>\n",
       "      <td>28</td>\n",
       "      <td>United States</td>\n",
       "      <td>Motorola</td>\n",
       "      <td>Droid X</td>\n",
       "      <td>Android</td>\n",
       "      <td>en-US</td>\n",
       "      <td>16.298167</td>\n",
       "      <td>2016-06-03 00:53:31</td>\n",
       "      <td>0</td>\n",
       "      <td>0</td>\n",
       "      <td>Colorado</td>\n",
       "    </tr>\n",
       "    <tr>\n",
       "      <th>6</th>\n",
       "      <td>28</td>\n",
       "      <td>United States</td>\n",
       "      <td>Motorola</td>\n",
       "      <td>Droid X</td>\n",
       "      <td>Android</td>\n",
       "      <td>en-US</td>\n",
       "      <td>1.771523</td>\n",
       "      <td>2016-06-03 00:53:50</td>\n",
       "      <td>0</td>\n",
       "      <td>1</td>\n",
       "      <td>Colorado</td>\n",
       "    </tr>\n",
       "    <tr>\n",
       "      <th>7</th>\n",
       "      <td>28</td>\n",
       "      <td>United States</td>\n",
       "      <td>Motorola</td>\n",
       "      <td>Droid X</td>\n",
       "      <td>Android</td>\n",
       "      <td>en-US</td>\n",
       "      <td>11.675599</td>\n",
       "      <td>2016-06-03 16:44:21</td>\n",
       "      <td>2</td>\n",
       "      <td>1</td>\n",
       "      <td>Utah</td>\n",
       "    </tr>\n",
       "    <tr>\n",
       "      <th>8</th>\n",
       "      <td>28</td>\n",
       "      <td>United States</td>\n",
       "      <td>Motorola</td>\n",
       "      <td>Droid X</td>\n",
       "      <td>Android</td>\n",
       "      <td>en-US</td>\n",
       "      <td>36.944689</td>\n",
       "      <td>2016-06-03 16:43:41</td>\n",
       "      <td>2</td>\n",
       "      <td>0</td>\n",
       "      <td>Utah</td>\n",
       "    </tr>\n",
       "    <tr>\n",
       "      <th>9</th>\n",
       "      <td>28</td>\n",
       "      <td>United States</td>\n",
       "      <td>Motorola</td>\n",
       "      <td>Droid X</td>\n",
       "      <td>Android</td>\n",
       "      <td>en-US</td>\n",
       "      <td>28.981142</td>\n",
       "      <td>2016-06-03 01:37:19</td>\n",
       "      <td>1</td>\n",
       "      <td>0</td>\n",
       "      <td>Colorado</td>\n",
       "    </tr>\n",
       "  </tbody>\n",
       "</table>\n",
       "</div>"
      ],
      "text/plain": [
       "   clientid        country devicemake devicemodel deviceplatform market  \\\n",
       "0         8  United States    Samsung    SCH-i500        Android  en-US   \n",
       "1        23  United States        HTC  Incredible        Android  en-US   \n",
       "2        23  United States        HTC  Incredible        Android  en-US   \n",
       "3        23  United States        HTC  Incredible        Android  en-US   \n",
       "4        28  United States   Motorola     Droid X        Android  en-US   \n",
       "5        28  United States   Motorola     Droid X        Android  en-US   \n",
       "6        28  United States   Motorola     Droid X        Android  en-US   \n",
       "7        28  United States   Motorola     Droid X        Android  en-US   \n",
       "8        28  United States   Motorola     Droid X        Android  en-US   \n",
       "9        28  United States   Motorola     Droid X        Android  en-US   \n",
       "\n",
       "   querydwelltime           querytime  sessionid  sessionpagevieworder  \\\n",
       "0       13.920401 2016-06-03 18:54:20          0                     0   \n",
       "1             NaN 2016-06-03 19:19:44          0                     0   \n",
       "2        1.475742 2016-06-03 19:19:46          0                     1   \n",
       "3        0.245968 2016-06-03 19:19:47          0                     2   \n",
       "4       20.309534 2016-06-03 01:37:50          1                     1   \n",
       "5       16.298167 2016-06-03 00:53:31          0                     0   \n",
       "6        1.771523 2016-06-03 00:53:50          0                     1   \n",
       "7       11.675599 2016-06-03 16:44:21          2                     1   \n",
       "8       36.944689 2016-06-03 16:43:41          2                     0   \n",
       "9       28.981142 2016-06-03 01:37:19          1                     0   \n",
       "\n",
       "          state  \n",
       "0    California  \n",
       "1  Pennsylvania  \n",
       "2  Pennsylvania  \n",
       "3  Pennsylvania  \n",
       "4      Colorado  \n",
       "5      Colorado  \n",
       "6      Colorado  \n",
       "7          Utah  \n",
       "8          Utah  \n",
       "9      Colorado  "
      ]
     },
     "execution_count": 8,
     "metadata": {},
     "output_type": "execute_result"
    }
   ],
   "source": [
    "%%spark -c sql -o df_hvac --maxrows 10\n",
    "SELECT * FROM hivesampletable"
   ]
  },
  {
   "cell_type": "markdown",
   "metadata": {},
   "source": [
    ">SQL queries also have other parameters you can pass in, like `--samplemethod`, `--maxrows`, `--samplefraction`, and `--quiet`."
   ]
  },
  {
   "cell_type": "markdown",
   "metadata": {},
   "source": [
    "We can now simply use the Pandas dataframe from the IPython notebook."
   ]
  },
  {
   "cell_type": "code",
   "execution_count": 9,
   "metadata": {
    "collapsed": false
   },
   "outputs": [
    {
     "data": {
      "text/html": [
       "<div>\n",
       "<table border=\"1\" class=\"dataframe\">\n",
       "  <thead>\n",
       "    <tr style=\"text-align: right;\">\n",
       "      <th></th>\n",
       "      <th>clientid</th>\n",
       "      <th>country</th>\n",
       "      <th>devicemake</th>\n",
       "      <th>devicemodel</th>\n",
       "      <th>deviceplatform</th>\n",
       "      <th>market</th>\n",
       "      <th>querydwelltime</th>\n",
       "      <th>querytime</th>\n",
       "      <th>sessionid</th>\n",
       "      <th>sessionpagevieworder</th>\n",
       "      <th>state</th>\n",
       "    </tr>\n",
       "  </thead>\n",
       "  <tbody>\n",
       "    <tr>\n",
       "      <th>0</th>\n",
       "      <td>8</td>\n",
       "      <td>United States</td>\n",
       "      <td>Samsung</td>\n",
       "      <td>SCH-i500</td>\n",
       "      <td>Android</td>\n",
       "      <td>en-US</td>\n",
       "      <td>13.920401</td>\n",
       "      <td>2016-06-03 18:54:20</td>\n",
       "      <td>0</td>\n",
       "      <td>0</td>\n",
       "      <td>California</td>\n",
       "    </tr>\n",
       "    <tr>\n",
       "      <th>1</th>\n",
       "      <td>23</td>\n",
       "      <td>United States</td>\n",
       "      <td>HTC</td>\n",
       "      <td>Incredible</td>\n",
       "      <td>Android</td>\n",
       "      <td>en-US</td>\n",
       "      <td>NaN</td>\n",
       "      <td>2016-06-03 19:19:44</td>\n",
       "      <td>0</td>\n",
       "      <td>0</td>\n",
       "      <td>Pennsylvania</td>\n",
       "    </tr>\n",
       "    <tr>\n",
       "      <th>2</th>\n",
       "      <td>23</td>\n",
       "      <td>United States</td>\n",
       "      <td>HTC</td>\n",
       "      <td>Incredible</td>\n",
       "      <td>Android</td>\n",
       "      <td>en-US</td>\n",
       "      <td>1.475742</td>\n",
       "      <td>2016-06-03 19:19:46</td>\n",
       "      <td>0</td>\n",
       "      <td>1</td>\n",
       "      <td>Pennsylvania</td>\n",
       "    </tr>\n",
       "    <tr>\n",
       "      <th>3</th>\n",
       "      <td>23</td>\n",
       "      <td>United States</td>\n",
       "      <td>HTC</td>\n",
       "      <td>Incredible</td>\n",
       "      <td>Android</td>\n",
       "      <td>en-US</td>\n",
       "      <td>0.245968</td>\n",
       "      <td>2016-06-03 19:19:47</td>\n",
       "      <td>0</td>\n",
       "      <td>2</td>\n",
       "      <td>Pennsylvania</td>\n",
       "    </tr>\n",
       "    <tr>\n",
       "      <th>4</th>\n",
       "      <td>28</td>\n",
       "      <td>United States</td>\n",
       "      <td>Motorola</td>\n",
       "      <td>Droid X</td>\n",
       "      <td>Android</td>\n",
       "      <td>en-US</td>\n",
       "      <td>20.309534</td>\n",
       "      <td>2016-06-03 01:37:50</td>\n",
       "      <td>1</td>\n",
       "      <td>1</td>\n",
       "      <td>Colorado</td>\n",
       "    </tr>\n",
       "  </tbody>\n",
       "</table>\n",
       "</div>"
      ],
      "text/plain": [
       "   clientid        country devicemake devicemodel deviceplatform market  \\\n",
       "0         8  United States    Samsung    SCH-i500        Android  en-US   \n",
       "1        23  United States        HTC  Incredible        Android  en-US   \n",
       "2        23  United States        HTC  Incredible        Android  en-US   \n",
       "3        23  United States        HTC  Incredible        Android  en-US   \n",
       "4        28  United States   Motorola     Droid X        Android  en-US   \n",
       "\n",
       "   querydwelltime           querytime  sessionid  sessionpagevieworder  \\\n",
       "0       13.920401 2016-06-03 18:54:20          0                     0   \n",
       "1             NaN 2016-06-03 19:19:44          0                     0   \n",
       "2        1.475742 2016-06-03 19:19:46          0                     1   \n",
       "3        0.245968 2016-06-03 19:19:47          0                     2   \n",
       "4       20.309534 2016-06-03 01:37:50          1                     1   \n",
       "\n",
       "          state  \n",
       "0    California  \n",
       "1  Pennsylvania  \n",
       "2  Pennsylvania  \n",
       "3  Pennsylvania  \n",
       "4      Colorado  "
      ]
     },
     "execution_count": 9,
     "metadata": {},
     "output_type": "execute_result"
    }
   ],
   "source": [
    "df_hvac.head()"
   ]
  },
  {
   "cell_type": "markdown",
   "metadata": {},
   "source": [
    "However, you might want to visualize the data in the pandas dataframe. You can write your own code with any number of visualization libraries or you can rely on a widget we've created:"
   ]
  },
  {
   "cell_type": "code",
   "execution_count": 10,
   "metadata": {
    "collapsed": false
   },
   "outputs": [],
   "source": [
    "from autovizwidget.widget.utils import display_dataframe\n",
    "display_dataframe(df_hvac)"
   ]
  },
  {
   "cell_type": "markdown",
   "metadata": {},
   "source": [
    "![widget](images/widget.PNG)"
   ]
  },
  {
   "cell_type": "markdown",
   "metadata": {},
   "source": [
    ">You could also choose to have this widget display by default for *all* Pandas dataframes from here on by running this piece of code:\n",
    "\n",
    "```\n",
    "ip = get_ipython()\n",
    "ip.display_formatter.ipython_display_formatter.for_type_by_name('pandas.core.frame', 'DataFrame', display_dataframe)\n",
    "```"
   ]
  },
  {
   "cell_type": "markdown",
   "metadata": {},
   "source": [
    "## Scala support"
   ]
  },
  {
   "cell_type": "markdown",
   "metadata": {},
   "source": [
    "The thing is, maybe you are more comfortable writing Spark code in Scala. I can easily do that, interspersing my regular Python code with Scala code that will run against my Spark cluster."
   ]
  },
  {
   "cell_type": "markdown",
   "metadata": {},
   "source": [
    "Let's add a Scala session:"
   ]
  },
  {
   "cell_type": "code",
   "execution_count": 11,
   "metadata": {
    "collapsed": false
   },
   "outputs": [
    {
     "name": "stdout",
     "output_type": "stream",
     "text": [
      "Creating SparkContext as 'sc'\n",
      "Creating HiveContext as 'sqlContext'\n"
     ]
    }
   ],
   "source": [
    "%manage_spark"
   ]
  },
  {
   "cell_type": "markdown",
   "metadata": {},
   "source": [
    "![add_session](images/addsession_s.PNG)"
   ]
  },
  {
   "cell_type": "markdown",
   "metadata": {},
   "source": [
    "And just run some Spark code. Notice that we now specify the session we want to use, `-s my_spark`."
   ]
  },
  {
   "cell_type": "code",
   "execution_count": 12,
   "metadata": {
    "collapsed": false
   },
   "outputs": [
    {
     "name": "stdout",
     "output_type": "stream",
     "text": [
      "res0: String = apple"
     ]
    }
   ],
   "source": [
    "%%spark -s my_spark\n",
    "val hvacText = sc.textFile(\"wasb:///example/data/fruits.txt\")\n",
    "hvacText.first()"
   ]
  },
  {
   "cell_type": "markdown",
   "metadata": {},
   "source": [
    "Now, we can query the table with **SparkSQL** too:"
   ]
  },
  {
   "cell_type": "code",
   "execution_count": 13,
   "metadata": {
    "collapsed": false
   },
   "outputs": [
    {
     "data": {
      "text/html": [
       "<div>\n",
       "<table border=\"1\" class=\"dataframe\">\n",
       "  <thead>\n",
       "    <tr style=\"text-align: right;\">\n",
       "      <th></th>\n",
       "      <th>clientid</th>\n",
       "      <th>country</th>\n",
       "      <th>devicemake</th>\n",
       "      <th>devicemodel</th>\n",
       "      <th>deviceplatform</th>\n",
       "      <th>market</th>\n",
       "      <th>querydwelltime</th>\n",
       "      <th>querytime</th>\n",
       "      <th>sessionid</th>\n",
       "      <th>sessionpagevieworder</th>\n",
       "      <th>state</th>\n",
       "    </tr>\n",
       "  </thead>\n",
       "  <tbody>\n",
       "    <tr>\n",
       "      <th>0</th>\n",
       "      <td>8</td>\n",
       "      <td>United States</td>\n",
       "      <td>Samsung</td>\n",
       "      <td>SCH-i500</td>\n",
       "      <td>Android</td>\n",
       "      <td>en-US</td>\n",
       "      <td>13.920401</td>\n",
       "      <td>2016-06-03 18:54:20</td>\n",
       "      <td>0</td>\n",
       "      <td>0</td>\n",
       "      <td>California</td>\n",
       "    </tr>\n",
       "    <tr>\n",
       "      <th>1</th>\n",
       "      <td>23</td>\n",
       "      <td>United States</td>\n",
       "      <td>HTC</td>\n",
       "      <td>Incredible</td>\n",
       "      <td>Android</td>\n",
       "      <td>en-US</td>\n",
       "      <td>NaN</td>\n",
       "      <td>2016-06-03 19:19:44</td>\n",
       "      <td>0</td>\n",
       "      <td>0</td>\n",
       "      <td>Pennsylvania</td>\n",
       "    </tr>\n",
       "    <tr>\n",
       "      <th>2</th>\n",
       "      <td>23</td>\n",
       "      <td>United States</td>\n",
       "      <td>HTC</td>\n",
       "      <td>Incredible</td>\n",
       "      <td>Android</td>\n",
       "      <td>en-US</td>\n",
       "      <td>1.475742</td>\n",
       "      <td>2016-06-03 19:19:46</td>\n",
       "      <td>0</td>\n",
       "      <td>1</td>\n",
       "      <td>Pennsylvania</td>\n",
       "    </tr>\n",
       "    <tr>\n",
       "      <th>3</th>\n",
       "      <td>23</td>\n",
       "      <td>United States</td>\n",
       "      <td>HTC</td>\n",
       "      <td>Incredible</td>\n",
       "      <td>Android</td>\n",
       "      <td>en-US</td>\n",
       "      <td>0.245968</td>\n",
       "      <td>2016-06-03 19:19:47</td>\n",
       "      <td>0</td>\n",
       "      <td>2</td>\n",
       "      <td>Pennsylvania</td>\n",
       "    </tr>\n",
       "    <tr>\n",
       "      <th>4</th>\n",
       "      <td>28</td>\n",
       "      <td>United States</td>\n",
       "      <td>Motorola</td>\n",
       "      <td>Droid X</td>\n",
       "      <td>Android</td>\n",
       "      <td>en-US</td>\n",
       "      <td>20.309534</td>\n",
       "      <td>2016-06-03 01:37:50</td>\n",
       "      <td>1</td>\n",
       "      <td>1</td>\n",
       "      <td>Colorado</td>\n",
       "    </tr>\n",
       "    <tr>\n",
       "      <th>5</th>\n",
       "      <td>28</td>\n",
       "      <td>United States</td>\n",
       "      <td>Motorola</td>\n",
       "      <td>Droid X</td>\n",
       "      <td>Android</td>\n",
       "      <td>en-US</td>\n",
       "      <td>16.298167</td>\n",
       "      <td>2016-06-03 00:53:31</td>\n",
       "      <td>0</td>\n",
       "      <td>0</td>\n",
       "      <td>Colorado</td>\n",
       "    </tr>\n",
       "    <tr>\n",
       "      <th>6</th>\n",
       "      <td>28</td>\n",
       "      <td>United States</td>\n",
       "      <td>Motorola</td>\n",
       "      <td>Droid X</td>\n",
       "      <td>Android</td>\n",
       "      <td>en-US</td>\n",
       "      <td>1.771523</td>\n",
       "      <td>2016-06-03 00:53:50</td>\n",
       "      <td>0</td>\n",
       "      <td>1</td>\n",
       "      <td>Colorado</td>\n",
       "    </tr>\n",
       "    <tr>\n",
       "      <th>7</th>\n",
       "      <td>28</td>\n",
       "      <td>United States</td>\n",
       "      <td>Motorola</td>\n",
       "      <td>Droid X</td>\n",
       "      <td>Android</td>\n",
       "      <td>en-US</td>\n",
       "      <td>11.675599</td>\n",
       "      <td>2016-06-03 16:44:21</td>\n",
       "      <td>2</td>\n",
       "      <td>1</td>\n",
       "      <td>Utah</td>\n",
       "    </tr>\n",
       "    <tr>\n",
       "      <th>8</th>\n",
       "      <td>28</td>\n",
       "      <td>United States</td>\n",
       "      <td>Motorola</td>\n",
       "      <td>Droid X</td>\n",
       "      <td>Android</td>\n",
       "      <td>en-US</td>\n",
       "      <td>36.944689</td>\n",
       "      <td>2016-06-03 16:43:41</td>\n",
       "      <td>2</td>\n",
       "      <td>0</td>\n",
       "      <td>Utah</td>\n",
       "    </tr>\n",
       "    <tr>\n",
       "      <th>9</th>\n",
       "      <td>28</td>\n",
       "      <td>United States</td>\n",
       "      <td>Motorola</td>\n",
       "      <td>Droid X</td>\n",
       "      <td>Android</td>\n",
       "      <td>en-US</td>\n",
       "      <td>28.981142</td>\n",
       "      <td>2016-06-03 01:37:19</td>\n",
       "      <td>1</td>\n",
       "      <td>0</td>\n",
       "      <td>Colorado</td>\n",
       "    </tr>\n",
       "  </tbody>\n",
       "</table>\n",
       "</div>"
      ],
      "text/plain": [
       "   clientid        country devicemake devicemodel deviceplatform market  \\\n",
       "0         8  United States    Samsung    SCH-i500        Android  en-US   \n",
       "1        23  United States        HTC  Incredible        Android  en-US   \n",
       "2        23  United States        HTC  Incredible        Android  en-US   \n",
       "3        23  United States        HTC  Incredible        Android  en-US   \n",
       "4        28  United States   Motorola     Droid X        Android  en-US   \n",
       "5        28  United States   Motorola     Droid X        Android  en-US   \n",
       "6        28  United States   Motorola     Droid X        Android  en-US   \n",
       "7        28  United States   Motorola     Droid X        Android  en-US   \n",
       "8        28  United States   Motorola     Droid X        Android  en-US   \n",
       "9        28  United States   Motorola     Droid X        Android  en-US   \n",
       "\n",
       "   querydwelltime           querytime  sessionid  sessionpagevieworder  \\\n",
       "0       13.920401 2016-06-03 18:54:20          0                     0   \n",
       "1             NaN 2016-06-03 19:19:44          0                     0   \n",
       "2        1.475742 2016-06-03 19:19:46          0                     1   \n",
       "3        0.245968 2016-06-03 19:19:47          0                     2   \n",
       "4       20.309534 2016-06-03 01:37:50          1                     1   \n",
       "5       16.298167 2016-06-03 00:53:31          0                     0   \n",
       "6        1.771523 2016-06-03 00:53:50          0                     1   \n",
       "7       11.675599 2016-06-03 16:44:21          2                     1   \n",
       "8       36.944689 2016-06-03 16:43:41          2                     0   \n",
       "9       28.981142 2016-06-03 01:37:19          1                     0   \n",
       "\n",
       "          state  \n",
       "0    California  \n",
       "1  Pennsylvania  \n",
       "2  Pennsylvania  \n",
       "3  Pennsylvania  \n",
       "4      Colorado  \n",
       "5      Colorado  \n",
       "6      Colorado  \n",
       "7          Utah  \n",
       "8          Utah  \n",
       "9      Colorado  "
      ]
     },
     "execution_count": 13,
     "metadata": {},
     "output_type": "execute_result"
    }
   ],
   "source": [
    "%%spark -s my_spark -c sql -o my_df_from_scala --maxrows 10\n",
    "SELECT * FROM hivesampletable"
   ]
  },
  {
   "cell_type": "markdown",
   "metadata": {},
   "source": [
    "And we can still access the result of the Spark query from Scala as a Pandas dataframe!"
   ]
  },
  {
   "cell_type": "code",
   "execution_count": 14,
   "metadata": {
    "collapsed": false
   },
   "outputs": [
    {
     "data": {
      "text/html": [
       "<div>\n",
       "<table border=\"1\" class=\"dataframe\">\n",
       "  <thead>\n",
       "    <tr style=\"text-align: right;\">\n",
       "      <th></th>\n",
       "      <th>clientid</th>\n",
       "      <th>country</th>\n",
       "      <th>devicemake</th>\n",
       "      <th>devicemodel</th>\n",
       "      <th>deviceplatform</th>\n",
       "      <th>market</th>\n",
       "      <th>querydwelltime</th>\n",
       "      <th>querytime</th>\n",
       "      <th>sessionid</th>\n",
       "      <th>sessionpagevieworder</th>\n",
       "      <th>state</th>\n",
       "    </tr>\n",
       "  </thead>\n",
       "  <tbody>\n",
       "    <tr>\n",
       "      <th>0</th>\n",
       "      <td>8</td>\n",
       "      <td>United States</td>\n",
       "      <td>Samsung</td>\n",
       "      <td>SCH-i500</td>\n",
       "      <td>Android</td>\n",
       "      <td>en-US</td>\n",
       "      <td>13.920401</td>\n",
       "      <td>2016-06-03 18:54:20</td>\n",
       "      <td>0</td>\n",
       "      <td>0</td>\n",
       "      <td>California</td>\n",
       "    </tr>\n",
       "    <tr>\n",
       "      <th>1</th>\n",
       "      <td>23</td>\n",
       "      <td>United States</td>\n",
       "      <td>HTC</td>\n",
       "      <td>Incredible</td>\n",
       "      <td>Android</td>\n",
       "      <td>en-US</td>\n",
       "      <td>NaN</td>\n",
       "      <td>2016-06-03 19:19:44</td>\n",
       "      <td>0</td>\n",
       "      <td>0</td>\n",
       "      <td>Pennsylvania</td>\n",
       "    </tr>\n",
       "    <tr>\n",
       "      <th>2</th>\n",
       "      <td>23</td>\n",
       "      <td>United States</td>\n",
       "      <td>HTC</td>\n",
       "      <td>Incredible</td>\n",
       "      <td>Android</td>\n",
       "      <td>en-US</td>\n",
       "      <td>1.475742</td>\n",
       "      <td>2016-06-03 19:19:46</td>\n",
       "      <td>0</td>\n",
       "      <td>1</td>\n",
       "      <td>Pennsylvania</td>\n",
       "    </tr>\n",
       "    <tr>\n",
       "      <th>3</th>\n",
       "      <td>23</td>\n",
       "      <td>United States</td>\n",
       "      <td>HTC</td>\n",
       "      <td>Incredible</td>\n",
       "      <td>Android</td>\n",
       "      <td>en-US</td>\n",
       "      <td>0.245968</td>\n",
       "      <td>2016-06-03 19:19:47</td>\n",
       "      <td>0</td>\n",
       "      <td>2</td>\n",
       "      <td>Pennsylvania</td>\n",
       "    </tr>\n",
       "    <tr>\n",
       "      <th>4</th>\n",
       "      <td>28</td>\n",
       "      <td>United States</td>\n",
       "      <td>Motorola</td>\n",
       "      <td>Droid X</td>\n",
       "      <td>Android</td>\n",
       "      <td>en-US</td>\n",
       "      <td>20.309534</td>\n",
       "      <td>2016-06-03 01:37:50</td>\n",
       "      <td>1</td>\n",
       "      <td>1</td>\n",
       "      <td>Colorado</td>\n",
       "    </tr>\n",
       "  </tbody>\n",
       "</table>\n",
       "</div>"
      ],
      "text/plain": [
       "   clientid        country devicemake devicemodel deviceplatform market  \\\n",
       "0         8  United States    Samsung    SCH-i500        Android  en-US   \n",
       "1        23  United States        HTC  Incredible        Android  en-US   \n",
       "2        23  United States        HTC  Incredible        Android  en-US   \n",
       "3        23  United States        HTC  Incredible        Android  en-US   \n",
       "4        28  United States   Motorola     Droid X        Android  en-US   \n",
       "\n",
       "   querydwelltime           querytime  sessionid  sessionpagevieworder  \\\n",
       "0       13.920401 2016-06-03 18:54:20          0                     0   \n",
       "1             NaN 2016-06-03 19:19:44          0                     0   \n",
       "2        1.475742 2016-06-03 19:19:46          0                     1   \n",
       "3        0.245968 2016-06-03 19:19:47          0                     2   \n",
       "4       20.309534 2016-06-03 01:37:50          1                     1   \n",
       "\n",
       "          state  \n",
       "0    California  \n",
       "1  Pennsylvania  \n",
       "2  Pennsylvania  \n",
       "3  Pennsylvania  \n",
       "4      Colorado  "
      ]
     },
     "execution_count": 14,
     "metadata": {},
     "output_type": "execute_result"
    }
   ],
   "source": [
    "my_df_from_scala.head()"
   ]
  },
  {
   "cell_type": "markdown",
   "metadata": {},
   "source": [
    "# Cleaning up\n",
    "\n",
    "Now, as you've created sessions, make sure to clean them up so that your cluster does not utilize those resources.\n",
    "\n",
    "Simply click on the `Delete` buttons!"
   ]
  },
  {
   "cell_type": "code",
   "execution_count": null,
   "metadata": {
    "collapsed": false
   },
   "outputs": [],
   "source": [
    "%manage_spark"
   ]
  },
  {
   "cell_type": "markdown",
   "metadata": {},
   "source": [
    "![clean_up](images/cleanup.PNG)"
   ]
  }
 ],
 "metadata": {
  "kernelspec": {
   "display_name": "Python 2",
   "language": "python",
   "name": "python2"
  },
  "language_info": {
   "codemirror_mode": {
    "name": "ipython",
    "version": 2
   },
   "file_extension": ".py",
   "mimetype": "text/x-python",
   "name": "python",
   "nbconvert_exporter": "python",
   "pygments_lexer": "ipython2",
   "version": "2.7.11"
  },
  "widgets": {
   "state": {
    "002f92598ec14dfd9dff80a1230ab74d": {
     "views": []
    },
    "0050444053db4f4383fe765a4ebfd651": {
     "views": []
    },
    "006d5483be52489ea4d8bd6d6e201143": {
     "views": []
    },
    "0075937d18d74b04862f8f7b66c3a5d1": {
     "views": []
    },
    "00a11fc4c48f4a4e880c7ce63f1e6dee": {
     "views": []
    },
    "00a1b9a15a294c2db7c8a22814540290": {
     "views": []
    },
    "00a937ace8f545b59f4ddb2741dcbe55": {
     "views": []
    },
    "00afb441fdb54569b2cc52b64846d652": {
     "views": []
    },
    "00b8c511f6264d5b9a33b00471801810": {
     "views": []
    },
    "00cef928d01141ba93f31f0b2530fb25": {
     "views": []
    },
    "010a96e6b18c4893b66d39f00235690e": {
     "views": []
    },
    "01309b5309fd406bbacb5717f326065f": {
     "views": []
    },
    "018ab63da12f47a4ab9845163c551235": {
     "views": []
    },
    "01d6da053cd04958922d2362eef22136": {
     "views": []
    },
    "01e0562562434f38a62d48c3faddbd03": {
     "views": []
    },
    "01f4b3daaace486782a8496f83afcf2d": {
     "views": []
    },
    "020d28de55e04f24ae45c29d158de25a": {
     "views": []
    },
    "02170227aeb74076a0bddec9d93ac6bf": {
     "views": []
    },
    "02209cd5c9f546a0a0b5be421841db35": {
     "views": []
    },
    "022252f15ec74d6fab02a273b26c4401": {
     "views": []
    },
    "0231751706044b0d8ba8d6162ed3efe8": {
     "views": []
    },
    "024af3b9f11f48539a1335d31b888225": {
     "views": []
    },
    "025a4cac11094ed8bf3a54ff4608f1d4": {
     "views": []
    },
    "025c3d5bfd934264b6b8e7c258d06af4": {
     "views": []
    },
    "026aabc250b64ddd85d6f6bf1326c9b6": {
     "views": []
    },
    "026f2caa06804764b257af3b905e7009": {
     "views": []
    },
    "029907b991d94e138729990f47264467": {
     "views": []
    },
    "02e75f5ec5de472f83bedbddd3ee992e": {
     "views": []
    },
    "02e9bf248a5a4f9898e991d531eccbeb": {
     "views": []
    },
    "032aaed2fe4f4c87b4fc773ee1189649": {
     "views": []
    },
    "032c663001684c2b851884d7ba8f2a9d": {
     "views": []
    },
    "034ec725be66478da0b3a22f4e170b0b": {
     "views": []
    },
    "0373901cba4d493eab793e6c4c31e424": {
     "views": []
    },
    "037b95b99029405197d50002802adf59": {
     "views": []
    },
    "038670e40c624bdbba0d9486066aa421": {
     "views": []
    },
    "038fecaa44194eecb94fce3c5a632b0a": {
     "views": []
    },
    "03a3184be9bf49b8889d80ec0647ef81": {
     "views": []
    },
    "03aee71ee3024c3f8740d4549c64870b": {
     "views": []
    },
    "03ca855579ea4e8e9351fd53bef4fb44": {
     "views": []
    },
    "0407df04609a4329a51311133dd19943": {
     "views": []
    },
    "040f157e018549548a720bbf1b3997c5": {
     "views": []
    },
    "0463315d31b74f5fab714c5fc67dadd1": {
     "views": []
    },
    "04df1f8217ac49abb0858bdf6d7f686f": {
     "views": []
    },
    "04f68481d5e346d095b309e486d61f14": {
     "views": []
    },
    "04f7fdad8d9443cb8fe4d924320d3e44": {
     "views": []
    },
    "054e8b03ba8748cb8a1f89c1b41bd620": {
     "views": []
    },
    "05784180b4a34f9ba48e85241a1d988a": {
     "views": []
    },
    "05ad7572e39343f98aaa8d48921689b9": {
     "views": []
    },
    "05c5a5859d234e33ac6694db15199f93": {
     "views": []
    },
    "05f6109e8c634708b6b54c91e3ec1565": {
     "views": []
    },
    "0610b816dc654ee19614f7fbda290456": {
     "views": []
    },
    "062248ea87ad4650a6bc17b16da324d7": {
     "views": []
    },
    "063ef77b8c2b42b799e29fa999f28cd1": {
     "views": []
    },
    "0673b107db874de4a3a47c375034f8ff": {
     "views": []
    },
    "06b93ba642274dd5a3a80393edd69dd3": {
     "views": []
    },
    "06dede1297244f41b988a0378da3fdec": {
     "views": []
    },
    "071692812000409a905ad5e721a01978": {
     "views": []
    },
    "0759da52d4c54511b678dc9c9286081c": {
     "views": []
    },
    "076073d793f4478abebdd763ab3e1d82": {
     "views": []
    },
    "0777b632e7714a36b8cff8ba686d9980": {
     "views": []
    },
    "079f664c4fbb4c6ea2d4c5ad87a07700": {
     "views": []
    },
    "07a3225c55ac4082a858fd05846ffa53": {
     "views": []
    },
    "07bddfde16a147088ab03831c71e998f": {
     "views": []
    },
    "07c6f364cf484b6189368f83444459ff": {
     "views": []
    },
    "082677c92907498d89c2bb6a3ce97b28": {
     "views": []
    },
    "082f0be6518843328d8be2175771807e": {
     "views": []
    },
    "0842d1d767d44ad88307023b391cbaa8": {
     "views": []
    },
    "085a8b4587d64c5eab148fc52479bb61": {
     "views": []
    },
    "08846045bd444d95a68fc9251c5d81be": {
     "views": []
    },
    "08a517cb27b34dd19ab4d699f0c47da0": {
     "views": []
    },
    "08ca87a3aa634e3c838777ca0c596d8c": {
     "views": []
    },
    "08d8b07aa3224fe0aebe97483bb2b778": {
     "views": []
    },
    "08dffc34a49445a381b195e75ebccc6c": {
     "views": []
    },
    "09108dd4c6c34f0189d267605f1e94cf": {
     "views": []
    },
    "0911c16be0b4416f96564b33679c8949": {
     "views": []
    },
    "0932356a2694428f93b84c617183d9d6": {
     "views": []
    },
    "094135b09ffe4f72a6a65223f2f47c36": {
     "views": []
    },
    "0944e74973d349c4851d35244479869d": {
     "views": []
    },
    "0956be739bce463eb1d329c11567914f": {
     "views": []
    },
    "0965432400474c81addf82bb9977b46e": {
     "views": []
    },
    "09a0e100a1d645dbb5193da0dc402535": {
     "views": []
    },
    "09a2f464be0140dcb5689364f8434052": {
     "views": []
    },
    "09b4950d0ec14b86bd61c899a3f62d34": {
     "views": []
    },
    "09b99eded606440db16f6286da487d20": {
     "views": []
    },
    "09d17d422b4047ed99160c261b0564e7": {
     "views": []
    },
    "09ee6a67c2e64317a5fb7dda1606c7c7": {
     "views": []
    },
    "0a0bed94c8e74b7996d5e8165bfb9e75": {
     "views": []
    },
    "0a184ab9d176422babaafd91a922a694": {
     "views": []
    },
    "0a229ef091ca4cb1ba0b953865594c8e": {
     "views": []
    },
    "0a3012df5e224c09a5407b9234cf1f99": {
     "views": []
    },
    "0a54fbe4f1b043c88d77fa913b2b84a3": {
     "views": []
    },
    "0a599c183b76441ab77d9f81e096124d": {
     "views": []
    },
    "0aa8bf0043be4a06bd27a0327394d314": {
     "views": []
    },
    "0ac312e3a04446ef9259526d2e21307a": {
     "views": []
    },
    "0afba1cecdaa4684b3c832b10eb76cde": {
     "views": []
    },
    "0b034245cdaf46f283ffd59aa1eb06da": {
     "views": []
    },
    "0b0ea25dc8a14c50bb8f97dd8796635d": {
     "views": []
    },
    "0b8c17c50cb442039c198e6982406533": {
     "views": []
    },
    "0bb3dd4d60e84afc8e3938d7bc902234": {
     "views": []
    },
    "0be07f939b884afd84928aac33ebd825": {
     "views": []
    },
    "0be786bc27b8400eb05775afbbdc8bde": {
     "views": []
    },
    "0c1901911e804bbca3128f0e6ef5ec4e": {
     "views": []
    },
    "0c69c9b3908c48f8a43a67ab77ad66fc": {
     "views": []
    },
    "0c742470e52b429a93d149e31246f608": {
     "views": []
    },
    "0ca5695e3ea54382a9034418a8c2fe00": {
     "views": []
    },
    "0cc2ea083a7c4ca1872adc7ffaf2f926": {
     "views": []
    },
    "0ce7c35d75ad4c5588f98af659fd6bfa": {
     "views": []
    },
    "0d1576b1d7584b3bbfe4dd5bd5480f10": {
     "views": []
    },
    "0d2d076dbb65426a83f020dfce7516ef": {
     "views": []
    },
    "0d506dd5628f425d8a24a38380c7152e": {
     "views": []
    },
    "0d9d0c06c4694f6d8398d6329e6b54b0": {
     "views": []
    },
    "0db8e8e864ea4e5e9bc532311bf99fb2": {
     "views": []
    },
    "0e7c15ce4aec4142a30ab4ebfe4996ed": {
     "views": []
    },
    "0e7fb11b464f4489981525e5bd8138af": {
     "views": []
    },
    "0e93ba7cb472471ea454a6cc2a8d2558": {
     "views": []
    },
    "0eb1c66456234e339c595196efd7c765": {
     "views": []
    },
    "0eecc30bc87c4c43ae9466decd564723": {
     "views": []
    },
    "0f04fe2d3ac64769a1729d5a30346c27": {
     "views": []
    },
    "0f7bb4790ddf4d5e998f0ed3ff1e733b": {
     "views": []
    },
    "0f98081f84af493f8f0e5e146085a065": {
     "views": []
    },
    "0fd45d818cca43318caae9dd633d99f6": {
     "views": []
    },
    "0fe5a6c7a4d64851b47e56b329eb3591": {
     "views": []
    },
    "0ffb5ac9c55245b0b8d5badb557f216d": {
     "views": []
    },
    "0ffdf2e6a7c9404caf72c4149e5c2e34": {
     "views": []
    },
    "102e9216b28e47989267635313fd9c3f": {
     "views": []
    },
    "103cad90fac7477d9f2ebb181b2ee2e0": {
     "views": []
    },
    "104406aaf901406d82c11b0f52095bb1": {
     "views": []
    },
    "106f2afe95574b5083d9489f810e516b": {
     "views": []
    },
    "10702b25d85249dc908923e134905a73": {
     "views": []
    },
    "1090f4aee7554416bd3ff108adc304d3": {
     "views": []
    },
    "1092d5b1b7de45c2ba4137a23de0c121": {
     "views": []
    },
    "10aed9d769d748f3bd1757f1b11d0b10": {
     "views": []
    },
    "10b0311ec08e4b09909168b328c1e061": {
     "views": []
    },
    "10c2efc9493947bcba4e1c92c5cab0c0": {
     "views": []
    },
    "10e2e762996044d594251045f908c2b7": {
     "views": []
    },
    "10e505b392f642dea3ea61c0a4990ba3": {
     "views": []
    },
    "11b8e9cf53494b0f9e0eb474e8db93eb": {
     "views": []
    },
    "1203fc419d96405590493f7508f7cf43": {
     "views": []
    },
    "12180cab4fe04b6f95a921436ab8545e": {
     "views": []
    },
    "123efd8fcf6f496b8801558db1543393": {
     "views": []
    },
    "12b26b7929394d7a859b1429158a097b": {
     "views": []
    },
    "12b503dfa0dc40f192e650a806aba28c": {
     "views": []
    },
    "130175b6b6a84a80828ed34bb6c0049c": {
     "views": []
    },
    "130961385e96432ab18fbee164959ac6": {
     "views": []
    },
    "1386af6dca1d464ebbb2dbf12219c928": {
     "views": []
    },
    "139d8531cc244fd3a030e405ec61ebf2": {
     "views": []
    },
    "13d6dd04e1ca4bf2899bf1dc85c6e530": {
     "views": []
    },
    "13e89674a60b4a03bb5009760fe283ed": {
     "views": []
    },
    "13ea76a975c14c70876eab6f1b770f14": {
     "views": []
    },
    "140883a2e84141da904ae0b8b8dd2996": {
     "views": []
    },
    "1411a9dbdcc8427e96b7f27cf1a75d2f": {
     "views": []
    },
    "1417c52d72814b4790bfd4c8370489c6": {
     "views": []
    },
    "1440849732eb4979a98e3faa2b36d6e7": {
     "views": []
    },
    "14919466e6ba4e1094dbf3d61bf8072d": {
     "views": []
    },
    "14a13c1b61924cb78988d6ef17bc4664": {
     "views": []
    },
    "14a8c26fe6474abfaabc4b5ff167a189": {
     "views": []
    },
    "14b079258f4b47658a724dfa023cf02f": {
     "views": []
    },
    "14d5f7762e424da88271837efa91d65d": {
     "views": []
    },
    "1516462e539e41068fe158a443ce2949": {
     "views": []
    },
    "15419952aa5f44c9adefff680853e91a": {
     "views": []
    },
    "15574d0782e049f3b0253489edb8a5ae": {
     "views": []
    },
    "15e5f9e8d7414121a501f2432ec6068d": {
     "views": []
    },
    "15f7eabc9e884eb6821e3f9fa422b539": {
     "views": []
    },
    "15f92ff7572c442bb9d80c2c175b4989": {
     "views": []
    },
    "1603b51ecfc34109a2fb45246f452a9b": {
     "views": []
    },
    "162c074d0c0b47d580ec6f67a194352f": {
     "views": []
    },
    "1644542de855456daf9cfc36cd5e889b": {
     "views": []
    },
    "164fbca509bf4f99ac94c9d810ac277e": {
     "views": []
    },
    "1656c02155e345f78f2a740fd6a734c3": {
     "views": []
    },
    "1664a0a709a145e6aa014447f7b36b6c": {
     "views": []
    },
    "169a4bfd210e4930ae54e926a1c21e9b": {
     "views": []
    },
    "16d3dda89dd94751aaaffc56b14ed789": {
     "views": []
    },
    "16ee83f5e17c4dc6b7592fc0699ad8e0": {
     "views": []
    },
    "172ea245d3264d48bafea1667a530c7b": {
     "views": []
    },
    "17366af77b90452983bce5045529767c": {
     "views": []
    },
    "176c58d8711e445b88b8c5707df8f568": {
     "views": []
    },
    "17724aff38c54102a8695aa057889514": {
     "views": []
    },
    "17ab8309a794439e8b5b064c80bbe79b": {
     "views": []
    },
    "17b26cf1e83c44dfac4771ee223d0273": {
     "views": []
    },
    "17c9b049523349c68588f0c2bf1b4206": {
     "views": []
    },
    "1831356a1274478988933f996d696803": {
     "views": []
    },
    "186a7a393ba14742ad4f2fda00462ad4": {
     "views": []
    },
    "18885abf2e2b4853ac8ce64a29432f69": {
     "views": []
    },
    "188df2ec5a634fe6a76045e9ae0bd210": {
     "views": []
    },
    "18aaf7af8dde4326a455a2ce032e3722": {
     "views": []
    },
    "18ab7d51ddaa4a5691b040fc7bf171b0": {
     "views": []
    },
    "18c9cb98c4794947892110d1c68fd10f": {
     "views": []
    },
    "1916d4f76f464a439c04c13003b2afc9": {
     "views": []
    },
    "191d5f7512a1481aaada9599d696557c": {
     "views": []
    },
    "191e9805461248aa8294ce318768037f": {
     "views": []
    },
    "1943ea03e0bd4e9e957ce04503f18a5f": {
     "views": []
    },
    "1966ec67894548d292463a598ae0d5d5": {
     "views": []
    },
    "196c3a4493f04b52a3b8fcf058515a30": {
     "views": []
    },
    "199779f337ba4f83ac394190546e78aa": {
     "views": []
    },
    "19cb93ae227f4dce9c71673dd94028b0": {
     "views": []
    },
    "19fd3e677cf64ae49474d2c326f49dad": {
     "views": []
    },
    "1a055e370ec6416f9f509f68a6e94f2a": {
     "views": []
    },
    "1a1c12368135402a98741311c6b68dc7": {
     "views": []
    },
    "1a7462fd26904a52bb2ec23f1eddc50d": {
     "views": []
    },
    "1a771eb2f1874c87a5991ecd43f7d8d0": {
     "views": []
    },
    "1a81b3e0cb864b1dbbe0f6b6edc6e562": {
     "views": []
    },
    "1a91665f388c45f5bcf5a0349534c99a": {
     "views": []
    },
    "1ac4c743e67c440ba2cdcbfa3def8cc6": {
     "views": []
    },
    "1ae240586ee9438f9106619c844a7c0f": {
     "views": []
    },
    "1af7711d507b42d58d9ed1a22c2ce8dc": {
     "views": []
    },
    "1b0fc7a204e84fb3ab257cd1e2416c0b": {
     "views": []
    },
    "1b79ea876c504286b6434cc1a78ce2eb": {
     "views": []
    },
    "1b8390b0fa4141d79d45e9c42efe9970": {
     "views": []
    },
    "1b84aabee58d446b92b3fece8f684483": {
     "views": []
    },
    "1b84af11ade444de936180ee1de3c8b5": {
     "views": []
    },
    "1ba8224d5e1b4abc8c628019f92e6bb4": {
     "views": []
    },
    "1bbe7ce881874592be4a4b35187150a4": {
     "views": []
    },
    "1bcbad129c134613bf9de8ea8bebc8de": {
     "views": []
    },
    "1bcf9f0e5e5a406097090f30fa59c235": {
     "views": []
    },
    "1c23adcda2174f49be770f6ea585d378": {
     "views": []
    },
    "1c368bba240644959d5ec09169926d0f": {
     "views": []
    },
    "1c93d21041574369808b2dae9cb7cb62": {
     "views": []
    },
    "1cc4c0ececcd4b1b93f44735dd04b8c7": {
     "views": []
    },
    "1d0edf55def142f2aca203f0bc0650bf": {
     "views": []
    },
    "1d268586a4dc465d965f10ac7f350acf": {
     "views": []
    },
    "1d38ebaa160e408ca735a28f4d89d83a": {
     "views": []
    },
    "1d4c2cae4f124ec1987ca169ae38a6af": {
     "views": []
    },
    "1d51f9c8441346c9b80934bd58604d7c": {
     "views": []
    },
    "1d5506b441384e539d5f314dda3d1e59": {
     "views": []
    },
    "1d791905e52b42d0be80106473e11747": {
     "views": []
    },
    "1db4207b8e7048a0b89352971083be29": {
     "views": []
    },
    "1e07b865cfc84f84b3c72196bb4b265e": {
     "views": []
    },
    "1e6d09cf876244d882c4d80aeaa1fbff": {
     "views": []
    },
    "1e77c582fb1b4f3fb864f1756252ed1f": {
     "views": []
    },
    "1e9727a2e523477dac967fab2cb6ef78": {
     "views": []
    },
    "1ecec613fcf24245a0fc1e8387b4ac22": {
     "views": []
    },
    "1ed47a53958a48bd8a28698da56ec547": {
     "views": []
    },
    "1ed85fdb90224e198eac0e386db0aedd": {
     "views": []
    },
    "1edf90cb7ff04bf7968609135061f24b": {
     "views": []
    },
    "1ee422dfb25b4e22a88c3e401777e3cc": {
     "views": []
    },
    "1ef3d6b806234cdbacd70ba5da85ce4a": {
     "views": []
    },
    "1f24c8f5527a4267b0fea05a34fee6db": {
     "views": []
    },
    "1f73238d21c649f5bd3d0afe980a848c": {
     "views": []
    },
    "1fa6afb792c24f8d8c22f7ede1b22377": {
     "views": []
    },
    "1fbda4ebaa5e4ce8936c5f1dd605d942": {
     "views": []
    },
    "1fcb874541b045dc98424f60ae6fdef0": {
     "views": []
    },
    "2003ca3ec92c41aeafde2e524169de12": {
     "views": []
    },
    "203ee7e694294dd88f39a3b799854687": {
     "views": []
    },
    "205d3b54fc334b4280f2b532ac9d42d5": {
     "views": []
    },
    "2077bd47b02e4d279ec96b43a4728ba2": {
     "views": []
    },
    "207972d7c1d94124a386c277785258c3": {
     "views": []
    },
    "20e42d2fe1b048388a123a928783052f": {
     "views": []
    },
    "21168d7d47fd4565aa9738bcb47a81e8": {
     "views": []
    },
    "2122d286490f476e94efa5c97499c6ff": {
     "views": []
    },
    "212cd93d3b884c40adc7b790197dc033": {
     "views": []
    },
    "2144db143d08467fa0420090a03f4157": {
     "views": []
    },
    "218e24b19df2452bada83b9da98f800a": {
     "views": []
    },
    "2195d405392f4e6aa1171f63bbbf0e13": {
     "views": []
    },
    "21a1548f8eca4632917054a8671f37a8": {
     "views": []
    },
    "21c2a9e9a92b41028abda8d4c9dae1bc": {
     "views": []
    },
    "21e97f83cba147d0ae3594178d50bee4": {
     "views": []
    },
    "22363d68bd7e4adc8d7039fd1a0ee9a8": {
     "views": []
    },
    "224e49f055bc484a902de7d8d3217c09": {
     "views": []
    },
    "226265e290d04a469ad7c8a118eb224c": {
     "views": []
    },
    "22854164ff5e4074b4a1c8d7e529ebc2": {
     "views": []
    },
    "229a6cafd329419aa1f0505758f2484a": {
     "views": []
    },
    "230789384c4a4f9ca13e94013bddab95": {
     "views": []
    },
    "233f4ac03f86423ea390303b19b09955": {
     "views": []
    },
    "236351958fab48fb9f45262318147c6a": {
     "views": []
    },
    "23953e8e45ec43d49ba29891b7139f66": {
     "views": []
    },
    "23be8a478d0946d0ab99e7489bdf7da5": {
     "views": []
    },
    "23f5e90747b640bdbc40d17620b9f8e1": {
     "views": []
    },
    "24069096c25844b5a360344cfce01c05": {
     "views": []
    },
    "241825e300fd418db6b5c56f8cb1e1f5": {
     "views": []
    },
    "241bfdcaebc54d119af455da98078c55": {
     "views": []
    },
    "24256fdf2d2442bfa585e9e9561d7597": {
     "views": []
    },
    "2430a119251a4f5eb1faf0566c740148": {
     "views": []
    },
    "2440268ada7e4af5961e57f380ff8047": {
     "views": []
    },
    "2457324108134c329144a7fd7d4351d4": {
     "views": []
    },
    "2484688512dd4eb085230a064f84c20e": {
     "views": []
    },
    "248cdfda53954198abe6a5ac2ce856e7": {
     "views": []
    },
    "24a2cac35c5e43d595b6de0167a7b1db": {
     "views": []
    },
    "24a3e78fa42e4b439f3e3b4c0c4c32ff": {
     "views": []
    },
    "24aeb929fac647cfb0ac3c09482d55da": {
     "views": []
    },
    "24b1f9c5700e45ed91e5507cf16cd844": {
     "views": []
    },
    "24b9da9a8ebd46a28ebe9621b983e65a": {
     "views": []
    },
    "24dbcc83a22a4480b88fa0ed873a637c": {
     "views": []
    },
    "24f9c2388a3f4c9d87b198c405580bb5": {
     "views": []
    },
    "250d8fe5f7e24c0d9cc88db07e8bb128": {
     "views": []
    },
    "252ccbdc51a542159f06186909ddba61": {
     "views": []
    },
    "254518873cef4ebf8b7235a8e66c7080": {
     "views": []
    },
    "255e88a9f5f34d02b9bf081b36a659cf": {
     "views": []
    },
    "25746e214e26434fbb8bcaaca4f8aa63": {
     "views": []
    },
    "25898e547fe44d20ba675e2a883bf8f1": {
     "views": []
    },
    "259dee3206794d11bef208466bf20e5e": {
     "views": []
    },
    "25a1bfaac4c84eb49162119477edf990": {
     "views": []
    },
    "25bff4899df2498a99300c77121d374b": {
     "views": []
    },
    "25f25280df6a4f339cf9a72c0271d84f": {
     "views": []
    },
    "26322f05d60643659a16db147bb59002": {
     "views": []
    },
    "26404cf5d5634a31930cf53baac1525d": {
     "views": []
    },
    "26454d7efbdf40bcb84c432c9c6fc1bd": {
     "views": []
    },
    "266ae995212b47b8a7f241f0b7791cc6": {
     "views": []
    },
    "267e8878459f486d94c613e0dc60ad40": {
     "views": []
    },
    "26a0e5f5a2ae4643bd9ff6110aadb51b": {
     "views": []
    },
    "26a95d806d924f27b726632c4eb8c3f3": {
     "views": []
    },
    "26b5415910574357a3f971ba65a674f7": {
     "views": []
    },
    "26eb023769be46b691d385d54c600434": {
     "views": []
    },
    "26fdcdff339d4d5db5751a575d85ba7b": {
     "views": []
    },
    "272c4299f69c4ace8bb1043673cd0903": {
     "views": []
    },
    "2733b6ec9d9645e3b27da582164b7be4": {
     "views": []
    },
    "2774d7d6eae84fb4a0a3153cc9b04e37": {
     "views": []
    },
    "277b62e6ab564be2be258d44a432ea7e": {
     "views": []
    },
    "27a22a778dc14d648700125c2b5ed9a2": {
     "views": []
    },
    "27b1de16560045f393f54a4caff9d7ea": {
     "views": []
    },
    "27c721e937734a55b862aa4ff24fcb54": {
     "views": []
    },
    "27d9fd5e56084925a155588c05ad4347": {
     "views": []
    },
    "28170d9400d440bfb78f81275205ef52": {
     "views": []
    },
    "288a046ddcd84876822d3d7f0b31cf4f": {
     "views": []
    },
    "28971d8b1c0843af97d224ecb0d4a4f1": {
     "views": []
    },
    "2897a817fe654c55a734822dbbd16fbf": {
     "views": []
    },
    "28b4331fbc3441088270948a7522264a": {
     "views": []
    },
    "28c7f52d11464fd49125e0c6e577b998": {
     "views": []
    },
    "28d6ff10d3c54845b670559c789f01e8": {
     "views": []
    },
    "28e544e36b254bf18c0f1513b2bc4038": {
     "views": []
    },
    "2900113e7e6b4d4fb453054bae06998a": {
     "views": []
    },
    "2943f6047ea4424b941ecbbd1482fc04": {
     "views": [
      {
       "cell_index": 29
      }
     ]
    },
    "294b3821232a410895e8ae9ad6d654d0": {
     "views": []
    },
    "298f4345bd4149f5ad7f6be4b65df993": {
     "views": []
    },
    "2992f090d03a4b1ab56d2b8929b38ac7": {
     "views": []
    },
    "2997316847404d6ebba592355de22423": {
     "views": []
    },
    "299bdd0e735d473e93e005959dc1c408": {
     "views": []
    },
    "2a3bd2ad989548738929bedbb21a4e41": {
     "views": []
    },
    "2a43eb54d0c4473cba95c2a9b762aea3": {
     "views": []
    },
    "2a6cbe15b7504dbe9714ec9286808d82": {
     "views": []
    },
    "2a8f129e080346bbbd87a292ef3f57ce": {
     "views": []
    },
    "2abed97e954946a08f213f331f5e41ab": {
     "views": []
    },
    "2ad3d0f51a4d4f13b025604d03d32e4e": {
     "views": []
    },
    "2ae0300385bb43759ad6efb850cf1b90": {
     "views": []
    },
    "2ae1d83f0c2a4cc7ba991a0d1f4e503b": {
     "views": []
    },
    "2ae26436f7e94ed0b88ec4812f9fde78": {
     "views": []
    },
    "2b0582dcbd834591acc639e159497772": {
     "views": []
    },
    "2b078edace09497e91c63533b8da7b5e": {
     "views": []
    },
    "2b454deda90a4d0c8b7ccc92e0879edb": {
     "views": []
    },
    "2b8f8280f6074e38b843263bc5a28fe2": {
     "views": []
    },
    "2bf09320bb004739aa3190cca1b4552c": {
     "views": []
    },
    "2c081b12a3b54f23b49bb235665ce99a": {
     "views": []
    },
    "2c111fd35ffe43ecbba1be465b19e3a4": {
     "views": []
    },
    "2c26664ad6fa46c592465a213e4b8c66": {
     "views": []
    },
    "2c42f53fbf2d4412a68d654a3a149ed7": {
     "views": []
    },
    "2c577557b5f64d63862db847867724ac": {
     "views": []
    },
    "2c7fc26b9b1642af85ca30207f5f52e8": {
     "views": []
    },
    "2ca8fbd4d98c46b096dfcb534ee4d75d": {
     "views": []
    },
    "2cbbdc069cca4b0c9455d6420da2f3c6": {
     "views": []
    },
    "2d2bf62720e44a1c822db7278921db63": {
     "views": []
    },
    "2d48c6570d2948b6a17b7e121412f1ac": {
     "views": []
    },
    "2d4c921a15db497ab9bc5845d229321a": {
     "views": []
    },
    "2d6395ee60994db5a15b8995104ab241": {
     "views": []
    },
    "2d79403497564c0190f531a289d30814": {
     "views": []
    },
    "2dbe1275fbab4803a7a354e00f87a95e": {
     "views": []
    },
    "2de18526391744a08cdfbad91183f521": {
     "views": []
    },
    "2e2411a68d52404c95381bf938ab72b2": {
     "views": []
    },
    "2e2eb60437e746c2917c6940a98d3518": {
     "views": []
    },
    "2e2f6cb69fb2466696d7302d6af3efbb": {
     "views": []
    },
    "2e3b0e17845f41ffa0a640111a1512e9": {
     "views": []
    },
    "2e5615073e814e70914e527cf6d5fad6": {
     "views": []
    },
    "2e58164f685048d6b99a4c90943fb9ba": {
     "views": []
    },
    "2eaf2c2ff3dd4d64bb69ffd62beee7d5": {
     "views": []
    },
    "2eec2a418ba64e3db2508c65a7a4b350": {
     "views": []
    },
    "2f088a6b789641f9ad03d48d5f00af92": {
     "views": []
    },
    "2f08c51e7a734027bd3083d24f518c21": {
     "views": []
    },
    "2f0b64ca0ed4488ea849902f742babc1": {
     "views": []
    },
    "2f3f8a9e77654aca9dfda9955b58dffe": {
     "views": []
    },
    "2f491886a5d1466484077dc903ca641d": {
     "views": []
    },
    "2f6f851b01ae4b5c98856945d84585c8": {
     "views": []
    },
    "2f94042277924ee38e321c63fa27fdc2": {
     "views": []
    },
    "2fc5b52d6ddf4c7dab6cdfd4adbe4b77": {
     "views": []
    },
    "2fd4ce462f604526a30ff9997d44ba45": {
     "views": []
    },
    "2fd7f277424b4898ae130a22cea5bff1": {
     "views": []
    },
    "2fe60b5b503d42479b3e2edf221918af": {
     "views": []
    },
    "2ffe91fd5ee442cfa7594a3e13006947": {
     "views": []
    },
    "30215d6d4b474e3ea5e55d5230ff1604": {
     "views": []
    },
    "304f92d121724a1280932a40a1d0bd17": {
     "views": []
    },
    "307dc14a654b460e81fd1e26b78f7f54": {
     "views": []
    },
    "30b1e9f54c684642a61f5c87b93d40c1": {
     "views": []
    },
    "30bbb56559294dd6a6dbae9e80047222": {
     "views": []
    },
    "30cf765080df4f8f865f59553014a529": {
     "views": []
    },
    "30e9a67655b74d3f8309026493230824": {
     "views": []
    },
    "30fe3f726d92463dbb53b9d60873c5ed": {
     "views": []
    },
    "3117139abc984647b73779f61c521686": {
     "views": []
    },
    "31346996610b4efba9dcd19181b13ade": {
     "views": []
    },
    "3134c444e54a4ffe8cb0b25a40aff56f": {
     "views": []
    },
    "31659d6030914b69a5186082ada563e1": {
     "views": []
    },
    "3171d9bd132d4cf990835324f86c6824": {
     "views": []
    },
    "31b31d7c4f3a498aa40622d559532d6f": {
     "views": []
    },
    "3226b20dd7a545a4aa5a223b1590ac10": {
     "views": []
    },
    "32302a407f2e408886d57784211dcf3c": {
     "views": []
    },
    "3273a5c3df7342b3b5a7adf60528e1d7": {
     "views": []
    },
    "3273a8be73e146acad8c4ec08105b11d": {
     "views": []
    },
    "328505dfd4ed49f194f73a7806939f39": {
     "views": []
    },
    "32b7c89660674eb3ab9080083d0b2312": {
     "views": []
    },
    "32cb405b13694505baca0ff43fa0bf3b": {
     "views": []
    },
    "32f17ae99f1343bfa97e4d8ade83342e": {
     "views": []
    },
    "3330df2f502945b288adade117faf767": {
     "views": []
    },
    "333e16016a6246f7830c5c9e01e5ff66": {
     "views": []
    },
    "33457d892a4b4f38bff73f7063f73a3d": {
     "views": []
    },
    "33ab8ebd2ebb4004921c8711bb3117d9": {
     "views": []
    },
    "33bc1b4bf2d146b5b74ead7856b43416": {
     "views": []
    },
    "33cda484fc074d96b8108182c2dff8e7": {
     "views": []
    },
    "33e3ef8757204f83be4d58dd2720f45b": {
     "views": []
    },
    "33e8ef64953a49f4ba6cfbe84f03b31f": {
     "views": []
    },
    "3409d7c68b9f46fda5f327f23b7f86ee": {
     "views": []
    },
    "340c8a4456a84f41b6f6cda5ac59b20f": {
     "views": []
    },
    "341db01027cc4b809f6ca66117b3a6c7": {
     "views": []
    },
    "3471a629ca3f427b89f204e49c7a12b6": {
     "views": []
    },
    "347f21565735436d8902f97a48f3b47b": {
     "views": []
    },
    "34810bf233c1430c88e70ba49334f923": {
     "views": []
    },
    "34b6b2b6b63c4add83e3a1ef3ae792df": {
     "views": []
    },
    "34ccb5c2ba8e469c9adfb3e90a242da1": {
     "views": []
    },
    "350b58dc47194b9fbeb243c17dd69b87": {
     "views": []
    },
    "35190f820b97442eaa71f6aff9874362": {
     "views": []
    },
    "3519d2fbda5444ee9981193b8bd223c2": {
     "views": []
    },
    "351f72e75ed8491bbd676ceb656a32e6": {
     "views": []
    },
    "35328b8f055e4e44b69d8fbd8de6d267": {
     "views": []
    },
    "3553f2ff945842adb9aa87bb01bcfa25": {
     "views": []
    },
    "35696044bc49475ea3f7bcfc3aac1999": {
     "views": []
    },
    "35c12899dd0b4a6da175e2b310fc89d1": {
     "views": []
    },
    "35d3ced28805408b884785e10fa53981": {
     "views": []
    },
    "35d63af5b6534016b35b5a6d542aeb9a": {
     "views": []
    },
    "362cc443fcee4d1b9881f01dd555e3b0": {
     "views": []
    },
    "362d2a854ea14c939e81b8fa5fe91d90": {
     "views": []
    },
    "3630b39e00084ea6937f0b59cf3b4ce2": {
     "views": []
    },
    "36ab23219ac2459a99cfa3aba29b28bd": {
     "views": []
    },
    "36d813583e36468a8de2ca638103fac5": {
     "views": []
    },
    "36e4c823fe7f4a589b5f06c7208cf936": {
     "views": []
    },
    "36f4febe478041808962b9b976d0ceaa": {
     "views": []
    },
    "371f12cded914eed9088963df92386c2": {
     "views": []
    },
    "373039a727dd472398b21e294cbf6c17": {
     "views": []
    },
    "3744e6d2a00c4c4997006387041870ca": {
     "views": []
    },
    "3746487442ff4d02b4cb8a7450dde8b4": {
     "views": []
    },
    "375b3ae57f3b466f9e91e9c6cfd748d1": {
     "views": []
    },
    "376a02b80beb4a3eaa1e46d0aec6567b": {
     "views": []
    },
    "3780a95d17c84dc4863699a9d29a35b8": {
     "views": []
    },
    "37b084f592ea420c99ea628960578a82": {
     "views": []
    },
    "37c178118d7f43968919f6e2283dd1ef": {
     "views": []
    },
    "37ccc2e2804849e3b3318625f17897ed": {
     "views": []
    },
    "37d99ed70fd341e1a7e94471c6d256f2": {
     "views": []
    },
    "37da92d8d5424fb9961ad86fd584efd2": {
     "views": []
    },
    "37ed34e465b3468a981c1e39e8802621": {
     "views": []
    },
    "382d4c77406642d8a6fbae8d11a69c22": {
     "views": []
    },
    "3846c8d099db4c4fa0aea1146a2d58e3": {
     "views": []
    },
    "38846211eff74d4db67546bab23fe22c": {
     "views": []
    },
    "3899036a77f340cf800686e1c222fe91": {
     "views": []
    },
    "38ad26688f0a4811bca73a402af394e7": {
     "views": []
    },
    "38f5f2923de143c89b755e926de206ca": {
     "views": []
    },
    "38fa5c33e1dc480db1f24e3fa5309e72": {
     "views": []
    },
    "38fb484a88bb49e6a84544b783f33142": {
     "views": []
    },
    "38fceaeaa988443e895870140c9c3e1c": {
     "views": []
    },
    "3901746bd8814d4eb7753a2110546d50": {
     "views": []
    },
    "391e8a2e167a469eadb7069b2685501a": {
     "views": []
    },
    "396aacdfb43841328ec6774f7b7dfd46": {
     "views": []
    },
    "396d861bef374cdfb50f491f6eca4504": {
     "views": []
    },
    "39b00bbd75364d1c86f694e785f69733": {
     "views": []
    },
    "39b9299efca4408eb94dd7287855dc0a": {
     "views": []
    },
    "3a1d1165db734b678c13a6547992dfdd": {
     "views": []
    },
    "3a2b8e510cf144b388f98f3d0c14d7f0": {
     "views": []
    },
    "3a2d66ebff5d42329d2fa893e9f62ff9": {
     "views": []
    },
    "3a50920d932d4529b0ff4b66bc745131": {
     "views": []
    },
    "3a8c6b7b17a04850958536d716cb8866": {
     "views": []
    },
    "3a99b2ef41f34b5eb1c781c2a183fa7c": {
     "views": []
    },
    "3aa5034f9148424688a65f34d659ea2c": {
     "views": []
    },
    "3aaa759fbd0d4d56ad0fff06e4ebf387": {
     "views": []
    },
    "3abc85feb52b4b33bdcc9ed5e5243517": {
     "views": []
    },
    "3ae89d673dcd408a8cfd0f5ac27376f3": {
     "views": []
    },
    "3b273a0026bd4e0f83b6dd67da0e2397": {
     "views": []
    },
    "3b4815f97efb4dc58c49016ccb7acf77": {
     "views": []
    },
    "3b7f7b13a2fe4d08a80614ff479eeac6": {
     "views": []
    },
    "3b9b6cc9e64741cb8b73223472053985": {
     "views": []
    },
    "3bb7747c9c0f48edbb733ca4c9bef6a8": {
     "views": []
    },
    "3c0820f05f3a44e8b9720e5ddafcd265": {
     "views": []
    },
    "3c08927fcc9f498d9a9c9d88ea717c50": {
     "views": []
    },
    "3c464350461545f28bfb203c592c95d6": {
     "views": []
    },
    "3c6dd99560bb41b0bb41121b9e4e57ce": {
     "views": []
    },
    "3c7bdeff48e144f5b55d02dbde205539": {
     "views": []
    },
    "3c88fdef4a374abc94ed3419809c0dea": {
     "views": []
    },
    "3c89b2d1ee8c459d90f1108cf8430eb4": {
     "views": []
    },
    "3cb3901dd95c48cb958605be9e2c23fa": {
     "views": []
    },
    "3ce67cc9bbd540c7bf8f6ee95e96155c": {
     "views": []
    },
    "3ceaceb793d64f8bb017bacf808dd13b": {
     "views": []
    },
    "3cfce0884ed8483aa5cc680f75b98929": {
     "views": []
    },
    "3d40a88bbea842d99f8931040b6ba4e2": {
     "views": []
    },
    "3d6e26bc55014df19d4420814cdc676d": {
     "views": []
    },
    "3d6ff4016bd147c68792f584761e46e8": {
     "views": []
    },
    "3d803fb068f74665b37191a1673c9754": {
     "views": []
    },
    "3d8b59836ade447f9e009cb6d7ff00d1": {
     "views": []
    },
    "3d936a167282403881553d7cfffc4f42": {
     "views": []
    },
    "3dc138dce73f4d1fa12cae2c0d63d21f": {
     "views": []
    },
    "3dc669b11d454e28aeccfc13a49cb8f6": {
     "views": []
    },
    "3ddf63b3db3a4f4bb0d6244b842399eb": {
     "views": []
    },
    "3e2714b7a32c4151b5aeed9af55d7a25": {
     "views": []
    },
    "3e62cc724e214c7d9b37189554a50a06": {
     "views": []
    },
    "3e885fd62f3b436483e1b91920d48c1c": {
     "views": []
    },
    "3e8ddb7241844ba28906a2927e297270": {
     "views": []
    },
    "3e9404ecd98c4b4799d400a2c81a2bc3": {
     "views": []
    },
    "3eb0713306bd42e184e9bf8b125e6d4c": {
     "views": []
    },
    "3ec6b55a7d364ee89b216193e8be78d8": {
     "views": []
    },
    "3edf69e929b047a984fca9a60d24223e": {
     "views": []
    },
    "3ee887f7e8ae4714bcef9ea566cd9057": {
     "views": []
    },
    "3ee9ad3f7b8b48059acf0f82d291d8b0": {
     "views": []
    },
    "3eead997fc56485ea308b3e7d18b8d70": {
     "views": []
    },
    "3f203f4562a24e2295787921e25957ee": {
     "views": []
    },
    "3f4ccb40d53e4772b021898e9dc98865": {
     "views": []
    },
    "3fa145329e1044208675311a19cd727d": {
     "views": []
    },
    "3fec071d550045ce943149108414ce83": {
     "views": []
    },
    "3ff62f4374e740d5a12fe625d569c7aa": {
     "views": []
    },
    "408ed351dfdd41bba09acfaf0370d966": {
     "views": []
    },
    "40963dbdb83245edba7d6464a4fb0236": {
     "views": []
    },
    "409a78f81c174c04918ca129b2d2670d": {
     "views": []
    },
    "40b3bc26efa3447a89d44622015c1656": {
     "views": []
    },
    "40d52a751dd248729cb4dad83ec20cfc": {
     "views": []
    },
    "41261de80ca348e6a33954232c4cba46": {
     "views": []
    },
    "415e506e965648b480b392930cb08ae9": {
     "views": []
    },
    "41611c98e4cc436fa206dfa0da0ecdba": {
     "views": []
    },
    "41901c897b43446cb3d5ec68db29a674": {
     "views": []
    },
    "41a94dda04684dfa9889c2f9ddcdf871": {
     "views": []
    },
    "41b2ac448745406e8f687a529669eeb6": {
     "views": []
    },
    "41d37ce04b9243928fb8abb565f44129": {
     "views": []
    },
    "41f94582a1664faba7d1c0f86309b3eb": {
     "views": []
    },
    "421aaff7bbd24228ba216baecd686baf": {
     "views": []
    },
    "421e90b308ca44ea86422df799ff6d90": {
     "views": []
    },
    "4224f4a3b08e4170b75d35bed9b781e5": {
     "views": []
    },
    "42607dec9f0e4aeabb670becb5e11b7d": {
     "views": []
    },
    "42b3a64445c44faab0519965b1d8a115": {
     "views": []
    },
    "42bbee58751e4bb3b6f91afa013ec36b": {
     "views": []
    },
    "42ca5fdf5d344aabb399c43cd0dc9d1d": {
     "views": []
    },
    "430b14b520e446a2b6593bd2c462d881": {
     "views": []
    },
    "43612d998c44403c91e4afabe6bb62d8": {
     "views": []
    },
    "43a8c85886cd44a396cc40c427243d0c": {
     "views": []
    },
    "43d36cb317744aab8c8e51b272e985e8": {
     "views": []
    },
    "43e0bb71b28e4f3d9127276f396c7eb1": {
     "views": []
    },
    "43ec70801f5940a3aa2bc2d5522113ad": {
     "views": []
    },
    "4400e8eff86046ed82839f118555efe5": {
     "views": []
    },
    "4407573ba35c4f7098a3111de240e881": {
     "views": []
    },
    "440de39966ef4f048469f15d5d58b53c": {
     "views": []
    },
    "443b907c4d1c4831be7370e9dae58bdc": {
     "views": []
    },
    "447705fff5314ae69724be186fcb788a": {
     "views": []
    },
    "4486b783f9f64649bed7be2c247524d0": {
     "views": []
    },
    "44a5a56d93ee488da3695f5d3a5ca39b": {
     "views": []
    },
    "44db11d660f74fac8847c21b56357390": {
     "views": []
    },
    "44e1755a4a4e4b3ea88fc47f994deca7": {
     "views": []
    },
    "4529ffe242ad4567a1a1ab09adca626b": {
     "views": []
    },
    "4545d1e6f6b241149378a0dd78854cd1": {
     "views": []
    },
    "454949a910354464b1ac91fbe28a6f62": {
     "views": []
    },
    "4565a0fa458947808a1eec636858360b": {
     "views": []
    },
    "4595ae372dfd49939476013d9216ee97": {
     "views": []
    },
    "459a33ef3b044a2c9a88865fee1ad8fb": {
     "views": []
    },
    "45adf7cd0b44422894a527e5a7a3e7a7": {
     "views": []
    },
    "45b021366904442b91faaf91115d1212": {
     "views": []
    },
    "45bc1a8538874814904e1533b78d6b36": {
     "views": []
    },
    "46069ad08b004ec9baacc1ed5b5975e7": {
     "views": []
    },
    "4621d6af421644788464985ec42edebb": {
     "views": []
    },
    "464c4ad6470d45b8aa7d5dfb33bad805": {
     "views": []
    },
    "4676df79a2314efcb23d1672719b8d35": {
     "views": []
    },
    "46777e507764464fa62b3f42a366cf8f": {
     "views": []
    },
    "4693e1a649d64686b3df253943c18dfe": {
     "views": []
    },
    "46bf4518c74c417297ffd897b111dbda": {
     "views": []
    },
    "46d2fe8f7d2344e18ae870db37a8ce07": {
     "views": []
    },
    "46d8cfb561924b1e818e23129d171874": {
     "views": []
    },
    "46f249ab3ce846cc9fa45190fdcd8040": {
     "views": []
    },
    "476f6adbe51942099f145c20cbcc1650": {
     "views": []
    },
    "47886be16f1948c39eb94c4b752353b0": {
     "views": []
    },
    "47972d1ba22649b78d9c2c5488fa6868": {
     "views": []
    },
    "479a00ccdd8444a8aa28b5bdc69746cd": {
     "views": []
    },
    "47f0e873aed24d2fbdfdb86318216903": {
     "views": []
    },
    "481cc17b258a4c48aee9a3aed9f3c01e": {
     "views": []
    },
    "4839e559ad54480586282637c0a41f30": {
     "views": []
    },
    "48759a7055f7476caca0c955de03a47c": {
     "views": []
    },
    "48ae4383df7641cea135a2dcb8be8b32": {
     "views": []
    },
    "48bbf13e0ca94f0eb9669254dafa663b": {
     "views": []
    },
    "48cd630816a2465a82a55073c7043107": {
     "views": []
    },
    "48cee2fcc54d44acb0304321b1b0e98d": {
     "views": []
    },
    "48d528dcd96340f9bf8c0ac74be856c2": {
     "views": []
    },
    "490f2e05d8b54f33b5bf33792b6d937a": {
     "views": []
    },
    "4966446cf602459aa23fa4343db71cb9": {
     "views": []
    },
    "497ce668af9e4ce38456821c4aa9ba8b": {
     "views": []
    },
    "499990f8c5ad4a6ebaeff245aa1d9780": {
     "views": []
    },
    "49d5777ef6c0464cb203f1054523d2bd": {
     "views": []
    },
    "49fa61f7eb5841bb813e68f292f61228": {
     "views": []
    },
    "4a2181a4120140679c544b04766153a7": {
     "views": []
    },
    "4a3c9ecbfd7b4e1585d81ac3a555fcb4": {
     "views": []
    },
    "4a47c4d4016e49e5a978f06a6058b398": {
     "views": []
    },
    "4a583d704ecb4a56a07eea3d4b38b071": {
     "views": []
    },
    "4a78dab44cda43358935c6bdc05e99bc": {
     "views": []
    },
    "4aaf950cd4e84c1096f11e2284af321e": {
     "views": []
    },
    "4acb6a6f231d445cb2d77b40385bc598": {
     "views": []
    },
    "4ae1b5712d714c8382df3c8c1642e24f": {
     "views": []
    },
    "4afb31c07e6643869356d106cc1431ec": {
     "views": []
    },
    "4b012b1f85a441d6a102af89812c8857": {
     "views": []
    },
    "4b25a9fafa504982a833db010ae9c17f": {
     "views": []
    },
    "4b2eb05535c647c39d99c701f3c40735": {
     "views": []
    },
    "4b7bb48b61294d23b985518249b07e07": {
     "views": []
    },
    "4bb602b9dea0444da7cd87fa1b448566": {
     "views": []
    },
    "4bc353f1bdb9488b8aeb80aff590d419": {
     "views": []
    },
    "4bd0d0d7c8a3465b8c2b040f97792362": {
     "views": []
    },
    "4bd2571826954f88bf2808bdee2c9573": {
     "views": []
    },
    "4c006ad371f94d5a8f9163773be26151": {
     "views": []
    },
    "4c10718efedd4459bc0eaea6a01d9998": {
     "views": []
    },
    "4c2ade62028a4ce6a1a9be441f88cb07": {
     "views": []
    },
    "4c3a124cc2e147788666ad30b16885ee": {
     "views": []
    },
    "4c785be405704d909215cb9ac3d04741": {
     "views": []
    },
    "4cbeeb187ded4123985dd500c6ef8490": {
     "views": []
    },
    "4cfa694bc62f4caa98dbe0786d272d5a": {
     "views": []
    },
    "4cfe2a673a8e4d59aa3672ccb822ee12": {
     "views": []
    },
    "4d11255c4da8454fad1c4c224f1d0d3c": {
     "views": []
    },
    "4d2b4e9d060444c5bf7cd325829c140c": {
     "views": []
    },
    "4d44954379e94c749547a96422dca359": {
     "views": []
    },
    "4d4730b0444244ad951d9a8ad729769b": {
     "views": []
    },
    "4d6fb2c371eb4375b96c7884c23d7773": {
     "views": []
    },
    "4da1f1c246274792924390b6dff071ad": {
     "views": []
    },
    "4daf1e98655941acab196014834b3ff5": {
     "views": []
    },
    "4db0659059d84818a18792ab3a5fdce7": {
     "views": []
    },
    "4de0a4c1ac2c4da8a6ed85c9c94947ec": {
     "views": []
    },
    "4e344ef655764a37bf843c86f076871f": {
     "views": []
    },
    "4e3fa8c964dc4b389310a04d2c8d45b9": {
     "views": []
    },
    "4e82032b44c04894b20fbef5916583ac": {
     "views": []
    },
    "4ea7a00ec51f4422b9e0958c5a56acac": {
     "views": []
    },
    "4eb8b65e80824efcb153683ae98cc391": {
     "views": []
    },
    "4ebe6afdbad645488cae14d972d66ab8": {
     "views": []
    },
    "4f216d5ecac84c7983bd6b7107e9f65a": {
     "views": []
    },
    "4f564f3f9e5f4d6dbf78be3ccd95c2aa": {
     "views": []
    },
    "4f59d9dea8c143fcbce3242dae6f76bb": {
     "views": []
    },
    "4f5d08101f16486d84497115476a412c": {
     "views": []
    },
    "4f85f66cc8f54b27bbbdc7bdd6131bb8": {
     "views": []
    },
    "4fae1c94004448cd9c7f3ffb1717f344": {
     "views": []
    },
    "4ffd870b6d46442189beac1b0ba29b81": {
     "views": []
    },
    "50092ebba6264c6588b76956dc493572": {
     "views": []
    },
    "500f4e5f03a6432fb5676cdd334fc3d6": {
     "views": []
    },
    "50199b284f1f44f3b6a1e25cf625efe4": {
     "views": []
    },
    "501f4e25ab6f4112a61b91962d3058c0": {
     "views": []
    },
    "50277ab1ffbc4f0ca5828cea66a2d0ee": {
     "views": []
    },
    "5061db4d94794ddd8ebd8e9d6c22a56c": {
     "views": []
    },
    "509f16baecce46a5a6b21072fec224a0": {
     "views": []
    },
    "50a041a5f6234a32ab4968b37a3cf763": {
     "views": []
    },
    "50d61099066149c884f192422e10dc69": {
     "views": []
    },
    "50dafe9c0d744cdfb39824d6e38f521d": {
     "views": []
    },
    "5100732d2e9e4598b5bfae0099e38b2e": {
     "views": []
    },
    "510958a282fb4069b44b341419333eb3": {
     "views": []
    },
    "51117e23908743b5b5a0bbd99441b301": {
     "views": []
    },
    "514a83d9126b4beda4121b50cd356302": {
     "views": []
    },
    "515d0472a36141baaf579f6322c908c1": {
     "views": []
    },
    "5163fd24c5b74e81bda9378838d08e33": {
     "views": []
    },
    "516be4de85e6451597022d8fb66e41b8": {
     "views": []
    },
    "516fd8ff10fa482b8b0fd4b2178f49cf": {
     "views": []
    },
    "517532654e1c499fb8925459da875696": {
     "views": []
    },
    "51dcba293d1b40578febab102a61c7c5": {
     "views": []
    },
    "52c751d1a4864911bfd9727575b6ec76": {
     "views": []
    },
    "53047797d9c548c9b7bd55299c1f4a9b": {
     "views": []
    },
    "534cf082ebdc4ae0bc0a904d5d5d125b": {
     "views": []
    },
    "5366efe023144f959e2ac639abc52d74": {
     "views": []
    },
    "53712b8bbfbd46569b7d8afcc3054c56": {
     "views": []
    },
    "53a8c63c8ac149e18f1fcbfee2f16918": {
     "views": []
    },
    "53ad1e5c0d2b4504ad9768c773362bc5": {
     "views": []
    },
    "53b591d32cf84bb189c07d955455e8b1": {
     "views": []
    },
    "53d29e25eeb44215823963625f7e0b34": {
     "views": []
    },
    "541e1467e885490584252972b6cd34ac": {
     "views": []
    },
    "541e7202ff374567aa56ff4d29c89b95": {
     "views": []
    },
    "54413bb95f2649009fa2179114d2c1f5": {
     "views": []
    },
    "544c797fbbfd4594896b65eb8ec453bc": {
     "views": []
    },
    "544dd3b29c7042a990d322126c4353c8": {
     "views": []
    },
    "544dddd754534563b2c1ecc0f16219d2": {
     "views": []
    },
    "54624ab6b5934e05980b75c9e213ca07": {
     "views": []
    },
    "54871c80b3e04b97bfa51df1794ddc45": {
     "views": []
    },
    "54a6fbb3645f4f84a90e747d01ae3d0e": {
     "views": []
    },
    "54ba05e8036b4d95b08afce336ee4f6d": {
     "views": []
    },
    "54bd29bfac434449b1e6a8f91ae094c8": {
     "views": []
    },
    "54dc86f38ce84229b2a1cbb22b486ca3": {
     "views": []
    },
    "54f3933f2a9e4346b2e4de5a84d19456": {
     "views": []
    },
    "55014dd007fc4205bbdd1b9e2a49600f": {
     "views": []
    },
    "553b7e1e973f4c058ccb4ac049f6e2e6": {
     "views": []
    },
    "555e7f01d82049bc8e8399c80ad6a506": {
     "views": []
    },
    "55771ebbfb6847e78c002fac7ffbd355": {
     "views": []
    },
    "558ab8b8cca048c3bee6544fa9c1cf01": {
     "views": []
    },
    "55afd81ffcf94d8d8937acee6f8334de": {
     "views": []
    },
    "55cc185185d34e1cb795c7a3e8f68f02": {
     "views": []
    },
    "562328b7a7434f51b312742d461fb288": {
     "views": []
    },
    "5632e61dfc24402c874669d246c12dcb": {
     "views": []
    },
    "568eb424462241fc99f56285d3d32325": {
     "views": []
    },
    "569f2ddf98f2494fa7bbd93082c0777d": {
     "views": []
    },
    "56d822713390439487be79543536dcae": {
     "views": []
    },
    "56f25492acfe426cb2f10317f2b2c31e": {
     "views": []
    },
    "5711e8e5b8a34e7c8acac51b97145a62": {
     "views": []
    },
    "572c64f3dfa6404ca848b1959c005337": {
     "views": []
    },
    "57362c79b0554b9fad50093ce5afc477": {
     "views": []
    },
    "574bb9d9170046419a920b99ba564a27": {
     "views": []
    },
    "578247f0990a4c8581a35f991e5bcda7": {
     "views": []
    },
    "578a7694162641048a33585233702a83": {
     "views": []
    },
    "57b4377334724567a120f8ace8751044": {
     "views": []
    },
    "57b9582909e54f3eb53b11ece765407f": {
     "views": []
    },
    "57cf589f79864782b76741bf4e63f53f": {
     "views": []
    },
    "57d2185199e54372bd397c476d4d9480": {
     "views": []
    },
    "57e1b4e4adae431a8c53d0b1fd65a977": {
     "views": []
    },
    "581b9817f22e4402904c30084df5a50e": {
     "views": []
    },
    "582071b97f054236a4c54298509d7026": {
     "views": []
    },
    "582d08e99f3d42eb82835e650552ab00": {
     "views": []
    },
    "585e6402ec5a4f22b1af3a2e9455d871": {
     "views": []
    },
    "585e6f74a3b04761af05dd79733bf366": {
     "views": []
    },
    "58b90c37cac241789102a489b867b957": {
     "views": []
    },
    "5904abfa65b74c1e881d36baad542054": {
     "views": []
    },
    "59291e6348d74cf691c4f52035119494": {
     "views": []
    },
    "5931104cfe55443d99bcd500f3c50ce3": {
     "views": []
    },
    "596521c022a34aefa6c8795e0dc6a332": {
     "views": []
    },
    "59bee47214da47b9818d14ecbd31018a": {
     "views": []
    },
    "5a32da75d7c844c395a75bd2878e92a7": {
     "views": []
    },
    "5a337faad5b74ebc855565cf04aeaee7": {
     "views": []
    },
    "5a80970d9aec4f0995eb2d246a0a15ed": {
     "views": []
    },
    "5b1f518fa6c544f08f9acb5447dca674": {
     "views": []
    },
    "5b29ab4c3dab4156b53109d1733d959d": {
     "views": []
    },
    "5b304bf6531e4e60a09be02d42f50228": {
     "views": []
    },
    "5b321382aa754d46bb461fde5311e51c": {
     "views": []
    },
    "5b4a587144234efc9d007149d7b3e81c": {
     "views": []
    },
    "5b5c27844f8741dcbe46b2247cd8b9bd": {
     "views": []
    },
    "5b6e3e129c654b929feb8414cce8042f": {
     "views": []
    },
    "5bb55e14f6f8404d9b1b28b010efb341": {
     "views": []
    },
    "5bbfdf6999dc42a8b02e081870c38368": {
     "views": []
    },
    "5bd2873a918b45a5be34864e0dd5601b": {
     "views": []
    },
    "5c02a86383d64bd4a0caa4082e0b5363": {
     "views": []
    },
    "5c04606bd11443c1b1d649d889e8f8e1": {
     "views": []
    },
    "5c610976f6b04dbc9138602711eec897": {
     "views": []
    },
    "5c66d9de3de54e25b41b423f9d33f139": {
     "views": []
    },
    "5c9d6264203343439d4a7ef2d62e8fca": {
     "views": []
    },
    "5cbd76d692004c56a75625c48de39144": {
     "views": []
    },
    "5d069abd3bd84fbbace95db58fbe0a70": {
     "views": []
    },
    "5d253d6f65bd4da0877e3abc32c24234": {
     "views": []
    },
    "5d2ab83ec9e0498d98fba5f7284be60d": {
     "views": []
    },
    "5d30917123c34332855eb23c2d96b825": {
     "views": []
    },
    "5d9aae828d63497fbd11545f8b098a0f": {
     "views": []
    },
    "5db0aab4243045209a6b416078a63865": {
     "views": []
    },
    "5db4a88d1acf4e7ca9b068772973ca5d": {
     "views": []
    },
    "5dde488d0c0e4f2e8f0dace2edb2f3d3": {
     "views": []
    },
    "5de4d180e114453c8774e38530bc1a69": {
     "views": []
    },
    "5df5b161f0ea41099be04a2ca52383d4": {
     "views": []
    },
    "5df711bd2e814317a64eeb48878de5f0": {
     "views": []
    },
    "5e7ce50205c14b53b2b2a205a9b2e917": {
     "views": []
    },
    "5e998ae096a94d10836615a508138f83": {
     "views": []
    },
    "5eac74ad8d4149ac86c041b29cc8d1f6": {
     "views": []
    },
    "5eb46d7508564ad1a89e92447c288af6": {
     "views": []
    },
    "5f28088c4f0d4e37ad89b535a53641a6": {
     "views": []
    },
    "5f340701de244517aa5623f376046831": {
     "views": []
    },
    "5f59abb3ed664d19b3c2e3ced5cadcb1": {
     "views": []
    },
    "5f69552835f042e2b60acf65d63614f6": {
     "views": []
    },
    "5f70b23b60884107814e2f961c43e081": {
     "views": []
    },
    "5f7a2e91b8d5434286eea5e6feafdee0": {
     "views": []
    },
    "5f7b987fabee43ae9445deb4cd30a51d": {
     "views": []
    },
    "5f876a7a5bff4ca38a06dca02804a04a": {
     "views": []
    },
    "5f8a02609b49463782e1b7eaa4a5d58c": {
     "views": []
    },
    "5fa7a17c1acb4a1a8d7cdbe7f33c6cf6": {
     "views": []
    },
    "5faa39188e6f41fbb3a0ae650876f18e": {
     "views": []
    },
    "5fdec03666e04bfbb7aba7987f4285c2": {
     "views": []
    },
    "5fe8d9e704bc443fabecbf5896af3382": {
     "views": []
    },
    "602c9e2690294364a675df77303e582f": {
     "views": []
    },
    "603ceed8a6f9431e9f12e0de42f148b7": {
     "views": []
    },
    "6047d705ecbc4988a5cbbce4030bda37": {
     "views": []
    },
    "608cfea7a5e54daa8c836aa979d74801": {
     "views": []
    },
    "60d06a5907564de9b608a2fa80cfa932": {
     "views": []
    },
    "60d7e71fc7a84d2b99fb0f16049a2829": {
     "views": []
    },
    "60dfd415365b41338d2faf5b8335ee8c": {
     "views": []
    },
    "61378f7a974f4627bb8a13121b8b4a7a": {
     "views": []
    },
    "617979a3c1ac4e06a12fc83a210daadd": {
     "views": []
    },
    "619c2ee012614c5d82c88ff757e10c48": {
     "views": []
    },
    "61c954fcd0334e67a073e8463bbf3ff3": {
     "views": []
    },
    "61d24445478c44199d498dfa1431498d": {
     "views": []
    },
    "623b859f5e754f39af16132b34536b45": {
     "views": []
    },
    "624d75149437407f98c58e83da95f1fb": {
     "views": []
    },
    "626857ba9aff41c19f491d50c09eccff": {
     "views": []
    },
    "62a0e906d594485cb422fda8faf4e43f": {
     "views": []
    },
    "62b5a542381946a383036cb128477a7a": {
     "views": []
    },
    "62c223943b414a71b4d588ba87e970f4": {
     "views": []
    },
    "62ddd46b2be348bea8615f57c1c65d88": {
     "views": []
    },
    "62ddec25395e4fd9bbfcac0a6506a59c": {
     "views": []
    },
    "62e07599132348b1adc47d29fdbbcf1d": {
     "views": []
    },
    "630d08022eb7457bbb6091b447a0e68d": {
     "views": []
    },
    "6321aa59c2da49b1b3af8b6a4a1e9ff8": {
     "views": []
    },
    "636fcff0a7d24660996a9771abd5cd1c": {
     "views": []
    },
    "637359d262a44bc48a26070416252e76": {
     "views": []
    },
    "63934a724ab24cc2b3a222d6890483b7": {
     "views": []
    },
    "63d7859729e74432a629e0ff6fc40665": {
     "views": []
    },
    "63e1301fc3f74767b3e9e8a63ef4aa4a": {
     "views": []
    },
    "63f05dd4a4c247b0827980a452cdc520": {
     "views": []
    },
    "640aff86905f4cb88f91fd1f0d4bc3a9": {
     "views": []
    },
    "641d1f9625d74048ba3a1199a05fd70d": {
     "views": []
    },
    "64405e543b024d82bb9fc3eb5019047f": {
     "views": []
    },
    "6449aafff8dc4df583dc8fe4dbff85ba": {
     "views": []
    },
    "6462c204888543298c8a63936e512bd9": {
     "views": []
    },
    "64954239d2444c5eb4e613005e65120a": {
     "views": []
    },
    "64c02956bd6a40909fb43756a9bb328a": {
     "views": []
    },
    "64d587243164455e81b154c4c29c4222": {
     "views": []
    },
    "64e1fa9b7733434b97927c10661da344": {
     "views": []
    },
    "64e42f8684dc4ecd9b099d21ef43f881": {
     "views": []
    },
    "652d5e6e585d4b49b762db9696e941a6": {
     "views": []
    },
    "6558dfd041c046ad9fb76345667cd15c": {
     "views": []
    },
    "657876ed951b429192977ae98a0c8be9": {
     "views": []
    },
    "65a53f5eed1b4352a7e7b7f6616600ee": {
     "views": []
    },
    "65bdc10e63e140fdb4723446fe52e64e": {
     "views": []
    },
    "65c90f7472644c3aaaf3b79c904acdc2": {
     "views": []
    },
    "65e2a545dc4f4607bb6fa0644cb321b0": {
     "views": []
    },
    "661fed72769b4a7490feb00772842030": {
     "views": []
    },
    "663bcbd3c0094f988e9ce19b15125b6d": {
     "views": []
    },
    "666e10a7838a41478f35492ad936eeb8": {
     "views": []
    },
    "668b9a447b854c85b2ba618f8d47fdc2": {
     "views": []
    },
    "669ba78cb9c147d3a5b6f1db7ab8c593": {
     "views": []
    },
    "66c44b81c0e74b9ea6b1131f2faa59f3": {
     "views": []
    },
    "66e35812e4b94a5da1b6169e8f4b109c": {
     "views": []
    },
    "66f63ca4b2d54ec5930329ee3c220b70": {
     "views": []
    },
    "66f8b24d436241ada138887d17c35deb": {
     "views": []
    },
    "6717f599d9d44ed4aa2022f3654aaf2e": {
     "views": []
    },
    "6737589c58cd448e9c20cf0e13033572": {
     "views": []
    },
    "67393fa8497f4aaf979fcdabdc12d46d": {
     "views": []
    },
    "676554445bde435097f1d47dfd4324d4": {
     "views": []
    },
    "67944ec6155845ce9b8fa6b630705565": {
     "views": []
    },
    "6799febb956440d6b24f718bd524129c": {
     "views": []
    },
    "67a74d26ce53491a93728a429bf6f895": {
     "views": []
    },
    "67aa5822ff4846dc813f30a92943ce4a": {
     "views": []
    },
    "67d3648e4ad5490aaab2f7d74d40aeba": {
     "views": []
    },
    "67ed47f0e1ce4beda25443a97a475e8c": {
     "views": []
    },
    "67eff07a09d74dd89a1020d40dfa9752": {
     "views": []
    },
    "6809224ac80746f7be8c97a1e2d802f5": {
     "views": []
    },
    "682c3266288c44568d62c569a53c8623": {
     "views": []
    },
    "69016c53725f46cdb238b2512956cdb6": {
     "views": []
    },
    "69044926360b446d825b4b627e63f621": {
     "views": []
    },
    "6920575db34f4ff78311541dc7b1498c": {
     "views": []
    },
    "6947f45bc1f64effb3d974918c8ee7e5": {
     "views": []
    },
    "696faf0e96bb46bfaaedd51e27e89977": {
     "views": []
    },
    "6974afa3f4a1446ead6526ec1804cea4": {
     "views": []
    },
    "697ddada4b5843e286f650578190b8ea": {
     "views": []
    },
    "69a3293e88254bcf8fecb126b524dca0": {
     "views": []
    },
    "69ab2fc6e3014c4d810741895470c7f9": {
     "views": []
    },
    "69c13d7b4a6e42efb528d1cbd8165b5b": {
     "views": []
    },
    "69c8279cc01f4fd8961b79ff8adf80eb": {
     "views": []
    },
    "69d385e290414a5d9d618e9792535a67": {
     "views": []
    },
    "69fc7f104bd54f3b86dc71d0bf278d58": {
     "views": []
    },
    "6a0c3587b7424450ae9d5b6207e4e5bb": {
     "views": []
    },
    "6a479fb317e045f09882d02bdac81872": {
     "views": []
    },
    "6a6827ae44064e5aa5a6259541667446": {
     "views": []
    },
    "6a71249966f74a50a7733cfa17a1120d": {
     "views": []
    },
    "6a8eb965e4594cd8b774ea2d34a35afa": {
     "views": []
    },
    "6abf552afe3c472692db00bd9270a825": {
     "views": []
    },
    "6ae6b8e599e84624b0fe976083d2e29e": {
     "views": []
    },
    "6aec7541ca714a97af7ce93106743086": {
     "views": []
    },
    "6b23d2c08d50443cbd9a4a1c79bc9d64": {
     "views": []
    },
    "6b24cd7c95954fdeb83dfb238ccb51cb": {
     "views": []
    },
    "6b44a052deb245f193dfeade880f32a3": {
     "views": []
    },
    "6b697325bca34be8b0a1ea5b2f625e5d": {
     "views": []
    },
    "6b7d0a0c01f1483c83660e07c4c2ba43": {
     "views": []
    },
    "6b8cd7be92d14d918f3614c5e1da9f1a": {
     "views": []
    },
    "6baf266f3ef444229275dad2c360d468": {
     "views": []
    },
    "6bbbc510aa9a4b8e98380ea2e96d7fed": {
     "views": []
    },
    "6bcca494ee324e489c9d6073b67b88c6": {
     "views": []
    },
    "6bdcb3c6e02b4b39b81d98dd4d4784a5": {
     "views": []
    },
    "6c020435c63644d8a9f0270b3e368ae8": {
     "views": []
    },
    "6c21594ae51549d2830c4ddaa2427170": {
     "views": []
    },
    "6c27c38c8d0c40c8828b44115316cc01": {
     "views": []
    },
    "6c3b75586dfd4d86a29afd878981de0d": {
     "views": []
    },
    "6ca44bf1bc85490c94892a7964bab9f2": {
     "views": []
    },
    "6cce19b4c6704e6d92607f07aee7fbae": {
     "views": []
    },
    "6ceb216405e342b6b0821f3e5cef8446": {
     "views": []
    },
    "6d1ca7f57a6c45ddaced687ada6b7d9b": {
     "views": []
    },
    "6d21845ab83741adadf18e1846422727": {
     "views": []
    },
    "6d28593edf314d64b621336182cd7f07": {
     "views": []
    },
    "6d50b5aadb6f41639bea41fea5c94dc5": {
     "views": []
    },
    "6de29471c7664c818edf60324b754b73": {
     "views": []
    },
    "6dfdda12037248f3bb9cb00ef2471c01": {
     "views": []
    },
    "6e09fbd3ea374004b7ec223ef56473ff": {
     "views": []
    },
    "6e0e4279a5e54189ac0d5e0ffd8b1921": {
     "views": []
    },
    "6e1deee0346d475599ac058a77761331": {
     "views": []
    },
    "6e28106adc6e4a5ebe3ac394755fb3f2": {
     "views": []
    },
    "6e75bb5428f04ff6b424d67ee959ce99": {
     "views": []
    },
    "6e7c718ab19b4a5a9a5a1b9e5c3ddf87": {
     "views": []
    },
    "6ec2a8dc8c5a4d9abddd29236808a2f7": {
     "views": []
    },
    "6ec74f0c60a54bbca14f00bca167fd7f": {
     "views": []
    },
    "6ef289b8722f4140968514a227759c3c": {
     "views": []
    },
    "6ef312dbaf8849abb13d36e8e593e5d9": {
     "views": []
    },
    "6f3fa0d619d54647bb285c737b607b02": {
     "views": []
    },
    "6f4915d1653045cb9461bc109f528150": {
     "views": []
    },
    "6f56cfb70dd1499990ef460cb40a7015": {
     "views": []
    },
    "6f6def4f78c34ad0a558c0ed8b0f768d": {
     "views": []
    },
    "6f9de759b22a47dda59e27000a9af037": {
     "views": []
    },
    "6fc9fe3de67e4b43ace1a4f7383dab6f": {
     "views": []
    },
    "6fcb22fe5ddd45b28eb702fa8d1cb7cb": {
     "views": []
    },
    "6fd6a35c23fa4cf18d30dd90eb9d67f3": {
     "views": []
    },
    "6fdf5f6ca055489a87bc870e6a5f4a63": {
     "views": []
    },
    "6fe621ffc0c5434c87662540f6473d54": {
     "views": []
    },
    "6ff3945bc42f478486b16580d440db48": {
     "views": []
    },
    "6fff86c45ce4421781f9dd21f170bf7d": {
     "views": []
    },
    "703c64ad8fb24e6b8de43590bbd21adf": {
     "views": []
    },
    "703ed0b7fbdf44cea871ac5b5e255d17": {
     "views": []
    },
    "7080de0f88744c608c1478a4e5922092": {
     "views": []
    },
    "709508f174ee46a08ef79fdc202e06e2": {
     "views": []
    },
    "70beba8a952e46aa9be1e1afcbd6d189": {
     "views": []
    },
    "710e307a1dc64323a3c0df6ccd59f17e": {
     "views": []
    },
    "710fa443431045a1b99753b14544ae47": {
     "views": []
    },
    "7165e9fba8224e6daea9855695332c20": {
     "views": []
    },
    "71860a7c4eb0454da33cf1b2686fecc1": {
     "views": []
    },
    "71b0b46e4e34437793b129e84c05f958": {
     "views": []
    },
    "71c75deedb0f4930bc4759dec02b2395": {
     "views": []
    },
    "71c7f9259cdd4b7899c6462573ab6385": {
     "views": []
    },
    "71d8543da47048108c0cf8fe2d60d4bc": {
     "views": []
    },
    "7206540bbc2a49b393a25dc6a1c2ea20": {
     "views": []
    },
    "7218343c55db4a19a55910806761ff20": {
     "views": []
    },
    "72340a890e774e52891cacb0ab3c4678": {
     "views": []
    },
    "72520715fc1a46f092f54b34022596ac": {
     "views": []
    },
    "72bf8fb5ddb14af39058e2616b8bce0b": {
     "views": []
    },
    "72d1133fa1d54cbb87fd64d60d73542d": {
     "views": []
    },
    "72f8f151801d4c029394a50126625c5e": {
     "views": []
    },
    "73542a90e0a7470e94ff5f371e6b8e61": {
     "views": []
    },
    "736c967037c24bf3bfd646d98078cb72": {
     "views": []
    },
    "7371ca2bde9345e1b46688ca7b230938": {
     "views": []
    },
    "73889eb735124b74ab1cef9e731e2c6b": {
     "views": []
    },
    "738f8e403e404315bc6b1e48624e5765": {
     "views": []
    },
    "73b0e05000084d2691e334f2da59e9ab": {
     "views": []
    },
    "73b2be6c5b73422ebe75f4b69b77df7c": {
     "views": []
    },
    "73b648c912c841f290a60da4d5c85c7c": {
     "views": []
    },
    "73c34a3c586d438cbebd89dd14304332": {
     "views": []
    },
    "741c42f73d0949fd9cdf7ef121722aab": {
     "views": []
    },
    "744ef79e07304345b4b7106dc3266bcb": {
     "views": []
    },
    "747d050592f94bccaf7ee28b2bfa80ac": {
     "views": []
    },
    "74bf990452cd458db1edb6cfd0c0fd3e": {
     "views": []
    },
    "74d29ce186754ce7a91148d3dabe6153": {
     "views": []
    },
    "74e3d03eec12477ca05358d18c50e21c": {
     "views": []
    },
    "75091c6a4d1943ec8e46acd905194e8d": {
     "views": []
    },
    "75137aae8aec4b40a137db450eb6dbc1": {
     "views": []
    },
    "7518390589d64f36b09eccedd2fcc419": {
     "views": []
    },
    "75330e3d91564a16a9db769b7a20ced6": {
     "views": []
    },
    "753df0cfd9c54870b3fa69d0d91cfebf": {
     "views": []
    },
    "7556a8aa578041529d8807b0a9632e3e": {
     "views": []
    },
    "7586107f17fb47fd8035f687e56e48e1": {
     "views": []
    },
    "758e6b7bf2c04bb4bbb2bfd9bf9e02e5": {
     "views": []
    },
    "75a21893c9964f0587be402ee86359c2": {
     "views": []
    },
    "75cf5a0450b94542985fe3b03df729a6": {
     "views": []
    },
    "75e31bc63a0e4a378292615511751368": {
     "views": []
    },
    "75f7811071c94f4f80ccdf3bba3e1a48": {
     "views": []
    },
    "766813a0284a4c25ac1d25de869a00f7": {
     "views": []
    },
    "76715daf5c034803b7c13e9bb5619e83": {
     "views": []
    },
    "76c0d17dfa7841ca82005df324761e40": {
     "views": []
    },
    "76ce02a9c36d49e88e8374d3f64e9456": {
     "views": []
    },
    "76f5a92dbc9c4b05af57dd469a89c0cc": {
     "views": []
    },
    "772f4f38c32d4ffe9ba24c79bbdc94bf": {
     "views": []
    },
    "776ae9769dcd4143806da0bd91e04bcd": {
     "views": []
    },
    "779299ecb1da4df48e53800d2f9eb71e": {
     "views": []
    },
    "77bbdcf0ae1f4212a68773ccd0cf876a": {
     "views": []
    },
    "77d957be8e3b4a29b25fa7e8eda37105": {
     "views": []
    },
    "77e68aa956c5416081c64a1a7b6bf9f4": {
     "views": []
    },
    "780a58774d5b45a789dcdcaaf1c1ce98": {
     "views": []
    },
    "781380229b2741568db56d8234d1f695": {
     "views": []
    },
    "7849740fe9bd4c3f81a67626fbe2bc5c": {
     "views": []
    },
    "787f34ec5e1248c2908b778451bfa520": {
     "views": []
    },
    "78a256653ab146fc8733fcd119066147": {
     "views": []
    },
    "78d39e80c96c460985c00109a0120f64": {
     "views": []
    },
    "78efd303dd634ec89a9a55c80cdd3570": {
     "views": []
    },
    "78faaff1541647b29358e91f83c631ab": {
     "views": []
    },
    "79857001f95d477c81ea21f8d1e1e619": {
     "views": []
    },
    "799e9b631e7a4f5fb65f1a09df4dc4b6": {
     "views": []
    },
    "79a7007d86f444178624030f59060a87": {
     "views": []
    },
    "79c5c7226a40443284aada10c60e451d": {
     "views": []
    },
    "79d958270c074660a392c2529424dff0": {
     "views": []
    },
    "79e5e6da1b45467cbdd4419dbe3b9ffa": {
     "views": []
    },
    "79ec125cc14241e1ab790abd07d316c4": {
     "views": []
    },
    "7a122b5f5c1c435689c8dba25844d332": {
     "views": []
    },
    "7a14bf864de74269828c3950d6648404": {
     "views": []
    },
    "7a343b3192cc44668db24f5efaa0a4c4": {
     "views": []
    },
    "7a3ef954f28c411c844d227f9f7ff776": {
     "views": []
    },
    "7a5ca2705f7342ae833553243673f44a": {
     "views": []
    },
    "7a8327878aea45279eff48ab8281e272": {
     "views": []
    },
    "7af2148b5917419e9f4e06d36cae77c0": {
     "views": []
    },
    "7b0551fc9b884cadb88b7f2d55942c56": {
     "views": []
    },
    "7b29bbd6db524435ab3d0496af5ea8b8": {
     "views": []
    },
    "7b2d5557e3024f58972f47a253593d29": {
     "views": []
    },
    "7b32e56380f84b83a98caf6e66cfa2a5": {
     "views": []
    },
    "7b5d285ea4484c70804fe4721c7730d2": {
     "views": []
    },
    "7b69291c7d064191b1c60aac028f1eee": {
     "views": []
    },
    "7b70e14023244cfdb5ac778dfc4e9c6e": {
     "views": []
    },
    "7b973d8d4caf4f44a7750efd76883e1a": {
     "views": []
    },
    "7baf114d77be4b4e94b1baf69a664cee": {
     "views": []
    },
    "7bb7472b36184a398244bd6ee1d78536": {
     "views": []
    },
    "7bf98a15787247dd9f33d0d43076733f": {
     "views": []
    },
    "7c01acde90444adf86f4bd918a05eca9": {
     "views": []
    },
    "7c06eada44244d8ab1ea456b7152fdc5": {
     "views": []
    },
    "7c5b15a84261489a9c7263cef2528077": {
     "views": []
    },
    "7c759487063647ad8cb0695dc457beb3": {
     "views": []
    },
    "7c778cf101b54275b5a69e1af10275f8": {
     "views": []
    },
    "7cb0ad6e58cf4cc097feeafe11345884": {
     "views": []
    },
    "7cbe085d6565484aa9d012787bb21d52": {
     "views": []
    },
    "7ccb8650ac484983b8928a9bb275f3a5": {
     "views": []
    },
    "7cfb060f98b84f259ffa6991e09f61c3": {
     "views": []
    },
    "7d1252ff453a458fabd9fa590169cb86": {
     "views": []
    },
    "7d5bf0ee2c2b4e74b61f5512750568a3": {
     "views": []
    },
    "7d95fdf767e246b58fd1c898e7bfcc5b": {
     "views": []
    },
    "7daa4106aaa549768574b4dd38313cfb": {
     "views": []
    },
    "7db03e84d201439bbe99b12b8226a83c": {
     "views": []
    },
    "7dd20dbe116b4184b3a3673116a27f06": {
     "views": []
    },
    "7de8b273fd53454794ee1bcadc48bfb6": {
     "views": []
    },
    "7dedc0e12808462bbdc1a1faf7050fb1": {
     "views": []
    },
    "7df4eb18a4884dc497ce22e285cefd48": {
     "views": []
    },
    "7e0afb7e7fe844628cc5c31b37eb1e32": {
     "views": []
    },
    "7e15af4a03f04df4a39bb8de3495f855": {
     "views": []
    },
    "7e2b96d960244287a26c110801c217b3": {
     "views": []
    },
    "7e2d2fc382d5441ab648eb03127a4c92": {
     "views": []
    },
    "7e3a4adb88f64f9d9e2b6ef064c34858": {
     "views": []
    },
    "7e90c46c71f84a93b7bc7bec093b9ba3": {
     "views": []
    },
    "7edbee668ef84defbd1a372bd2fdfc0c": {
     "views": []
    },
    "7ef242d3f946489683bf36a9895030ec": {
     "views": []
    },
    "7f0f54daded74452b4ce7e4d3c9aaf46": {
     "views": []
    },
    "7f62ee6da0414a0eb75652eb3805ce0e": {
     "views": []
    },
    "7f65bb90c71d48baa05eb97cd53b81dd": {
     "views": []
    },
    "7f8e55a660ff4ed199622a672c5a5ddd": {
     "views": []
    },
    "7f979c33c44840d09584b28d460d7f22": {
     "views": []
    },
    "7fc2b39c6dde4979b8f712a2f75a5378": {
     "views": []
    },
    "7fc329619a9c49d2b9385697b9b3cd11": {
     "views": []
    },
    "7fc76e1857844a4ea51fd60e6171f6c9": {
     "views": []
    },
    "80050e4960c046d4abbad61919e6b026": {
     "views": []
    },
    "806691b8da5c4ca6926e665966d60385": {
     "views": []
    },
    "807175d37ea3469cab5cb0b740c6fbb9": {
     "views": []
    },
    "8072277ba9e84df988fbf4c750d97b88": {
     "views": []
    },
    "80870ac5174a45bdb7781f0e413fade8": {
     "views": []
    },
    "80b917859b394035b563387538dc0dc7": {
     "views": []
    },
    "8101a24101534a44bec279d111971bc3": {
     "views": []
    },
    "810b8b1163f54599ab0c2d9fc284bfdd": {
     "views": []
    },
    "812b2ec60e82448d8d0f93e027958b0e": {
     "views": []
    },
    "8133ed6d47214342b5cb3a538307ba22": {
     "views": []
    },
    "815fdf51f7c143fc940185bb8856e0e9": {
     "views": []
    },
    "817bce4810e84cdba6d9d18fc068c2cc": {
     "views": []
    },
    "81827a2318704a1b90faad765fbded9d": {
     "views": []
    },
    "819bdbd747fd4dfb825ed30d8dab45ea": {
     "views": []
    },
    "81ac7df38e9e4d838b90b1e1b0bf2dcd": {
     "views": []
    },
    "81c5eb863a344a82afcff463ef33759c": {
     "views": []
    },
    "81c616827fbb4bdeba83a9e65ac69d2f": {
     "views": []
    },
    "81c6407f5bd84e649833381cb3ae6c6d": {
     "views": []
    },
    "81cbe109b1164c3283d2c6a031e7849b": {
     "views": []
    },
    "81e7bc6cffee4005903a2df299d4a566": {
     "views": []
    },
    "81f410279bb64c798fe2b95fcca6be6b": {
     "views": []
    },
    "82126d8794c54730a591ef3c176caa43": {
     "views": []
    },
    "822332cc8d49428a881547f570d56922": {
     "views": []
    },
    "82275e7c8f5c4b67abfec287727146bb": {
     "views": []
    },
    "824d2214f760455ba9db5e529547d505": {
     "views": []
    },
    "825b0bd56b524d289e8898ffcbc292a2": {
     "views": []
    },
    "829460debb3c4901b166c4fc1fb2571a": {
     "views": []
    },
    "8363d96c3b2a404eb7920f0a7e6ba268": {
     "views": []
    },
    "837eb29a45174143b8a071a4b30fdabe": {
     "views": []
    },
    "83ad4caa6c28498d8218cef796125492": {
     "views": []
    },
    "83b51355a9274980b7e3be6af35d4f51": {
     "views": []
    },
    "83d5bc0271b34053913857f4c18397dd": {
     "views": []
    },
    "845b7c12cfde4c49a6d034ddc165c523": {
     "views": []
    },
    "8463e921f10e4a82852744f16ec42780": {
     "views": []
    },
    "84698adebacc47f48e8602edeb7d9b2c": {
     "views": []
    },
    "846ee55d1ea147d29eeee5d2ac703afb": {
     "views": []
    },
    "848971b2addc46a68e88b6ba9417031a": {
     "views": []
    },
    "8489d348a99047f39844290e2f8197e5": {
     "views": []
    },
    "84ddd08a312844dcacf9c8ef60764587": {
     "views": []
    },
    "84ecd6aa95294d989a57cfbec1112328": {
     "views": []
    },
    "84f933eb017f43ad8566b2e16eb553f1": {
     "views": []
    },
    "85265e0fa7764c099d3f35b7b5269d16": {
     "views": []
    },
    "853117384c654c32864c6a3788ff3ade": {
     "views": []
    },
    "854001a28e594cc28db2cafb9a523c33": {
     "views": []
    },
    "85a66158d1874f90897c410e00087368": {
     "views": []
    },
    "862335b1e0154182bffe712e68793497": {
     "views": []
    },
    "86392b08bf494c8e9b90b6182a567a3a": {
     "views": []
    },
    "864dad05c307460d93476a5160d0d339": {
     "views": []
    },
    "86592d3f25664bcb81236ac5acfaface": {
     "views": []
    },
    "86610bea9fe745c1a73506cba6660996": {
     "views": []
    },
    "867082a5f2824e08822a283dc71b2e17": {
     "views": []
    },
    "86856934ea1046a4b8a733640bda8feb": {
     "views": []
    },
    "869b488c65f045ff8e375ea7958d57a5": {
     "views": []
    },
    "86b4d8f9b8ff4f58a5be31e9d37543ab": {
     "views": []
    },
    "86e03262a24847aba759bb2317a583ca": {
     "views": []
    },
    "86e2cf3e5a904cd3aa9f2761d7a56230": {
     "views": []
    },
    "871135df472242adb19e891bdd8a0317": {
     "views": []
    },
    "87232f89ad64479ba8aecc9a7dbafca3": {
     "views": []
    },
    "872bd06b9e5040e988781d5250849018": {
     "views": []
    },
    "873849de154245af909068a4e2b690de": {
     "views": []
    },
    "8739785d32ab470cbf9fc6e5f0f18acd": {
     "views": []
    },
    "874b5624fb5c4d3c8c446d88c69e6faa": {
     "views": []
    },
    "8750080f514c40d5ae3e5e40b4b22d99": {
     "views": []
    },
    "8770c47401f54da2a4a509a66f376f55": {
     "views": []
    },
    "87a66b81e63649c8b87fb854eaea5ffd": {
     "views": []
    },
    "88150ce5579749fc9232d6eef6799ce9": {
     "views": []
    },
    "883eb69c65594fe79ce3dd444e082ff0": {
     "views": []
    },
    "8850228bdf124aa6b20be510dbaa2f60": {
     "views": []
    },
    "8851820f7a2b4419961f1616a1f6fd37": {
     "views": []
    },
    "88976382ebec4617bf509acc66d92c4a": {
     "views": []
    },
    "88df442f32474e179b5dd5f20f186d83": {
     "views": []
    },
    "88eafa55041744cbb2cea1ed7453afd2": {
     "views": []
    },
    "8931886651b8491ba7bc913a7a823be7": {
     "views": []
    },
    "89896ddbf3f3415a814f19074ab765bb": {
     "views": []
    },
    "8992b08b2d9f4d909222617757b5a73c": {
     "views": []
    },
    "899b8aade9e8479aa2287ea7f7b4b954": {
     "views": []
    },
    "89a000f5265e4d6280e9a770b27ea3ef": {
     "views": []
    },
    "89b614bf40004b239a0dd3f00a6b28f6": {
     "views": []
    },
    "89c163fe221d4b69b218ba7c7f13ad84": {
     "views": []
    },
    "8a00a0ec5acf49df8d553628bd57342f": {
     "views": []
    },
    "8a06e50a2f5a489b822b12f34ccdb35b": {
     "views": []
    },
    "8a1478fde0b641499def695b7c75b09f": {
     "views": []
    },
    "8a1a31d3c61046aab996e5c28eb60288": {
     "views": []
    },
    "8a5f3ef29b1f4bbc8fa1eca6f8bda7c1": {
     "views": []
    },
    "8a68f7f405ce4ef789af0da083d94153": {
     "views": []
    },
    "8a9a7674d30e4d8b8ca7d50ef541ec8f": {
     "views": []
    },
    "8ac796a633694778af05b3b43addc3ee": {
     "views": []
    },
    "8b0e0d3accb74aba9cd7fd6bf72f6791": {
     "views": []
    },
    "8b15176992214de59180d62acd607b73": {
     "views": []
    },
    "8b40f856620e4339a999ba92798faac5": {
     "views": []
    },
    "8b54d846d4084a2b9e9cc8c5454c3e96": {
     "views": []
    },
    "8b58e8e98af54ab990f7fd042dd62951": {
     "views": []
    },
    "8b62700056904726bc29033fcdc1b8f2": {
     "views": []
    },
    "8b8eb2b0246145e5964b13f306da404c": {
     "views": []
    },
    "8b8ef1246fd4480081b309de1d7cc442": {
     "views": []
    },
    "8b9a34cf4c394212a18f544f2a0d41de": {
     "views": []
    },
    "8b9a3883b0a54953be3713c59ad00c87": {
     "views": []
    },
    "8ba3cfc59e2b493bb28a92eec87d0812": {
     "views": []
    },
    "8c14db27eb0e4d26b69c8ca040091bc1": {
     "views": []
    },
    "8c47990bb91249659be34654987088c0": {
     "views": []
    },
    "8cb16d81bba9481ab5c9080631af6bec": {
     "views": []
    },
    "8cb2c5d2aea94a15a86e23723de954d6": {
     "views": []
    },
    "8cd7d03974b744388c01b4e0d9a31af3": {
     "views": []
    },
    "8d047152dce44b33809ecffb8dc45902": {
     "views": []
    },
    "8d3424ca0ca34c3c9f46786276fd5f8e": {
     "views": []
    },
    "8d49a0603c1c46e3b3e3cdef5f84ee13": {
     "views": []
    },
    "8d4eb546f5a743cba43394798cb9395e": {
     "views": []
    },
    "8d636e5c7b6e4befac3039c087835a28": {
     "views": []
    },
    "8d90c48c188e40c08b229d78e4876d43": {
     "views": []
    },
    "8d9ab346ae9d41689d504c8a7e737775": {
     "views": []
    },
    "8d9dd8f5db324d438dcd80822bc66b75": {
     "views": []
    },
    "8da8ca50a82d49af9f298baf9c994285": {
     "views": []
    },
    "8da96139bd9b40ca92c6b2d78ec396f9": {
     "views": []
    },
    "8de4f2682ab74b1abf53888b21bf1dda": {
     "views": []
    },
    "8e1baec696144c13bb0b9251b5bf1d20": {
     "views": []
    },
    "8e298cbea10f4a82aa206cf4a7777ba4": {
     "views": []
    },
    "8e3eaf4579c048ccbe89e4d98434eb29": {
     "views": []
    },
    "8e7072634bff48788ebcd14ca5e64c08": {
     "views": []
    },
    "8e75b7ce4b894849bcfd47cfb6305140": {
     "views": []
    },
    "8e7f95811f52463a920e3aa751490127": {
     "views": []
    },
    "8eb6bfa1e3a44db2a72751d7870f5d52": {
     "views": []
    },
    "8ebeb39408e748ce872ba761fa8dac08": {
     "views": []
    },
    "8ebee78c02ea4f5fa8112023317c53b7": {
     "views": []
    },
    "8ec36ca035044bce87c8144edc68553b": {
     "views": []
    },
    "8ed1fd5efdf74bc287d431d3f0bc3b98": {
     "views": []
    },
    "8f0f56f6a0ce466e990ee52e69d3fd2e": {
     "views": []
    },
    "8f15be906c0d4788918439f9e08b6c8e": {
     "views": []
    },
    "8f2bb3ad257e45ad82d0f32a8373f985": {
     "views": []
    },
    "8f35a6eea4394e8ea56c263d69ba86d7": {
     "views": []
    },
    "8f3d224739c741df90bab82d19cc5adf": {
     "views": []
    },
    "8f625e5536b74d69a691b081e7990798": {
     "views": []
    },
    "8f7783a9fdc14ca8b7830d408c5fa927": {
     "views": []
    },
    "8f77dba3a614434cb65d143b0907123e": {
     "views": []
    },
    "8fcd44253e9d4d8baf62d367fd47fd23": {
     "views": []
    },
    "8fd7e510576946b3830d3f1dfa980b61": {
     "views": []
    },
    "90064ffa3624456bba7f86eaff68a076": {
     "views": []
    },
    "903111993b094e668304448272977d31": {
     "views": []
    },
    "903f243c1c4141b88ea845dd10930a91": {
     "views": []
    },
    "9059fbd781dc4feca1a482d5a550657c": {
     "views": []
    },
    "90b88f26ede94985ab2b55713c8e3682": {
     "views": []
    },
    "9112a3973f5840af97c5b2adb8ddd670": {
     "views": []
    },
    "9136a1e2d7ee47fdbfd75c5739de733a": {
     "views": []
    },
    "914030a36fe640d3b25dc7eb91cf6374": {
     "views": []
    },
    "9142bad2d94a4de382f5ecb39cfcf106": {
     "views": []
    },
    "916e1489a91b4ee983b7b02548b4e28e": {
     "views": []
    },
    "918c4ee94f7d4f178f32ff6a429ea6a0": {
     "views": []
    },
    "919d8f533fc441b399b75b947a226ba4": {
     "views": []
    },
    "91ddbe63751241d29f8f12805ad7cbad": {
     "views": []
    },
    "91fa36584e7642f69f9285d4d489146b": {
     "views": []
    },
    "924105ca4c1d49f0a64d512c41ddf2bb": {
     "views": []
    },
    "924883302e7e46b9a8a389f3f1115b64": {
     "views": []
    },
    "924f5295246446acba767c425c8353c8": {
     "views": []
    },
    "9274d14872e34397ae9e252f84f722df": {
     "views": []
    },
    "92928abf03f54cf9a123e7528fee2423": {
     "views": []
    },
    "92953701ef7343dd9ee47fc000e353cf": {
     "views": []
    },
    "92ec91a9f16d4afabcc59efeca8929fb": {
     "views": []
    },
    "92fc4a9a8a4e46739ef7e3b97e12c5df": {
     "views": []
    },
    "930e05af4af5467fb57138577b7434aa": {
     "views": []
    },
    "937e0b71a5c0434592379358a4e2d1aa": {
     "views": []
    },
    "93b96fe83f7e4839b75e68a67f845e32": {
     "views": []
    },
    "93d2634c76704e5facae16dcf89e9343": {
     "views": []
    },
    "9425e2446c4443f698bea37517eae0fe": {
     "views": []
    },
    "942fc20d18554119ad529e3442c4b74f": {
     "views": []
    },
    "94652ff0755c4e3a9e916843ae4b4948": {
     "views": []
    },
    "94755bf2b0a94908a38beca98dbb473d": {
     "views": []
    },
    "94898aaf0c2b4776a5f34fccbc4a70db": {
     "views": []
    },
    "94cb0dd23c1a45d78a33e7bfb5d06d70": {
     "views": []
    },
    "94ec5e86273a445ca47c83acf5c2d43d": {
     "views": []
    },
    "9536e2ba808d44a5a88a671d7416247d": {
     "views": []
    },
    "954a5e0146224d5da01075fad0f38509": {
     "views": []
    },
    "955d7f13cefc4bfc94beb90e764b1071": {
     "views": []
    },
    "95955086629449799d334c91993564cb": {
     "views": []
    },
    "95a35ced631540ff87f8428e7fd47b45": {
     "views": []
    },
    "95aaf9e5ccdf4fb4b9ecc14fc744070b": {
     "views": []
    },
    "95de87dad09441f28ba16b92dc8fc2c9": {
     "views": []
    },
    "9623e46d03314eb9b99f1fc45971235c": {
     "views": []
    },
    "963468a2fa104ebea53351275daeaaef": {
     "views": []
    },
    "964619ab98dd425096acfc5ab9405b3e": {
     "views": []
    },
    "96583072f6ab4dcbb75b9f5b3dc1d7f4": {
     "views": []
    },
    "96a4671ea1bb4943b0fedbfaed674ce1": {
     "views": []
    },
    "96ce20643b274a029bc03e50bf8159b6": {
     "views": []
    },
    "96cec804b3a3448c92ccb7826f05d245": {
     "views": []
    },
    "96e7fa5ac6144697a9d37dbdbd3cb453": {
     "views": []
    },
    "96edc27cbfcb45ad997a0c68fac6a684": {
     "views": []
    },
    "972c9fe816ad45488d62299f045a2602": {
     "views": []
    },
    "9787ef6a394748b7965121d4353ab994": {
     "views": []
    },
    "97c734ac88bd4b1090b07f2d75a083ab": {
     "views": []
    },
    "97ec2f5f745a487fac9a1fb3f613af4c": {
     "views": []
    },
    "98070a49b6654495a0e4c41c36bb71db": {
     "views": []
    },
    "9840306ded56484e912c4b7d46f7db83": {
     "views": []
    },
    "98489d2a2cf9468b88f156089f4d6279": {
     "views": []
    },
    "987b3c69385a452eb96b8b3a466711f7": {
     "views": []
    },
    "987bd505f4a544fbb9d210a94433492b": {
     "views": []
    },
    "988a742d98b1454a8a732b548c03acae": {
     "views": []
    },
    "98f4f9a052a64549a16abd15996d5d9b": {
     "views": []
    },
    "98f7606d43324a1594f34d179ec29f8b": {
     "views": []
    },
    "98f81564e91b4caf81520227aadcdfc4": {
     "views": []
    },
    "99380d08f2824171a2fb884cdffb630f": {
     "views": []
    },
    "994d870585f242ba9bbb952b07aaf99d": {
     "views": []
    },
    "99720bb2fe7c4c4eb6410517fe1347ca": {
     "views": []
    },
    "999a75685ef843b58739d631dc6a4824": {
     "views": []
    },
    "99c964510405406b86bf67e71dc51550": {
     "views": []
    },
    "9a139602d37d47fba3c8f0e3e59a5d8c": {
     "views": []
    },
    "9a1f754d7a5344729361b71c26d70362": {
     "views": []
    },
    "9a4df554fe3d40c684ac0066ec171d90": {
     "views": []
    },
    "9a68bd3c4ef144c78827b49438413a93": {
     "views": []
    },
    "9a8f0efaa1054436b1a9b8523f5168ba": {
     "views": []
    },
    "9ab20e6d343c41da87c57518605d7c61": {
     "views": []
    },
    "9ab21779822f43c58b75c4bf418ad6c5": {
     "views": []
    },
    "9ae7193224b54904ba05381aa9285aa8": {
     "views": []
    },
    "9b02944fcd9c4083b9082decd24a187f": {
     "views": []
    },
    "9b06dbd566c84157b3cb8b6764cf054d": {
     "views": []
    },
    "9b15dccb3ee5426db88977502cc4bd44": {
     "views": []
    },
    "9b1e8dda41114333a6442b95231dad99": {
     "views": []
    },
    "9b225b6aa0d644678f06403234f5b424": {
     "views": []
    },
    "9b87b65fda3f48a880045292ace02899": {
     "views": []
    },
    "9b8e549dd88946908f87152f880e25d2": {
     "views": []
    },
    "9b9bcf8a83db48e0b1a469ba984c5ba2": {
     "views": []
    },
    "9c2cd19ea96c44c28906fb8e6cb3a56b": {
     "views": []
    },
    "9c4c718a921747cda40c2b1b5add4a16": {
     "views": []
    },
    "9c6c2294533049bc9213862ad30d3e5b": {
     "views": []
    },
    "9c9fb4e72b80439489609b6ff75e67fe": {
     "views": []
    },
    "9cae7c63b9c04efeb1dd26c1382ef6bc": {
     "views": []
    },
    "9d0e1f07512947da99d90bca43d33684": {
     "views": []
    },
    "9d186fa16c2543adad8a81953c8dd93e": {
     "views": []
    },
    "9d390d5968354fb0be1e692785998a8b": {
     "views": []
    },
    "9d3a41b14eae4d369c7500a7b491714e": {
     "views": []
    },
    "9d4871eea9f44495b63af1baa4f8b4f2": {
     "views": []
    },
    "9d59c1ea0a3c4d12928fa5ff7c53c156": {
     "views": []
    },
    "9d670e45b7424226896ec1174d893678": {
     "views": []
    },
    "9d671fc729a746c6bb200ee5a1734ddf": {
     "views": []
    },
    "9db115c09dfb4617a465e72e2172fc70": {
     "views": []
    },
    "9de51464cb994104afa3f0482addb154": {
     "views": []
    },
    "9e23b746910948d399afe5aaec40d249": {
     "views": []
    },
    "9e251ea9a8e2442c8385e99c38deda68": {
     "views": []
    },
    "9e5b2dd06b7b44c48fa7ce06ca668cc2": {
     "views": []
    },
    "9e5f2e66726045d9908f95ba50a67a73": {
     "views": []
    },
    "9e8e0fa952544f4a9cece619a887748c": {
     "views": []
    },
    "9e93b583d95649a8a7ddc6600c106e4b": {
     "views": []
    },
    "9e9dbec8dafb4002bbfcbd5b3f4affd2": {
     "views": []
    },
    "9f9f8778421d4153bd262a89e40ca347": {
     "views": []
    },
    "9faa4fe2ae784858add669c2f0d33b8a": {
     "views": []
    },
    "9fbab0eaad014f6fb902223d4f794f5e": {
     "views": []
    },
    "9fc196580e304df48c69a15b720eb0ae": {
     "views": []
    },
    "9fee11429e1b4e5b9e4928728021fa3e": {
     "views": []
    },
    "9ffa4f242c8d4f20ba0de7e9de191b91": {
     "views": []
    },
    "9fff4ab212e44c248228f1efe62995a0": {
     "views": []
    },
    "a0026f19e4544c22a4bb40915a7d6202": {
     "views": []
    },
    "a018f6571d9f43baa975ccc0e9921d38": {
     "views": []
    },
    "a06bf69b52ca46eb86e5e3d13f9ad919": {
     "views": []
    },
    "a0cadd5037d84a6ebe85a3eceba4e5a6": {
     "views": []
    },
    "a0e3375d5b204a24b418f97050668aea": {
     "views": []
    },
    "a10939289f3642bdb437f06bf88d88d3": {
     "views": []
    },
    "a1404d1bd5124340bf71b073976f6ef9": {
     "views": []
    },
    "a149c1bf0751427abf8d1a152b800827": {
     "views": []
    },
    "a16f20b297c64a9085c32685c81c7a30": {
     "views": []
    },
    "a1d655c55b0d49d2a85be8a0d6f0efae": {
     "views": []
    },
    "a2a3b01d20a147c3ad77ab442030c27c": {
     "views": []
    },
    "a2c6b09382724a439319ded5b519fcd1": {
     "views": []
    },
    "a32f71e5b68348b895907a8d41715b93": {
     "views": []
    },
    "a36ed278bdc748eba5869a4593132180": {
     "views": []
    },
    "a37bdcaa5f154820b459dca9db8df6ce": {
     "views": []
    },
    "a382328d2ac5499c9bdcacb0d8ed2eb0": {
     "views": []
    },
    "a390ba5711b94102b355c12db6341837": {
     "views": []
    },
    "a3a4a1e599694db5bad41bad32e7d6c4": {
     "views": []
    },
    "a3e2db13f29c405a8fac030fa6bb610e": {
     "views": []
    },
    "a3f90ccaef284dcc94b82bc2ba06f871": {
     "views": []
    },
    "a3fa684f4b80419c8d1177346f12dfd6": {
     "views": []
    },
    "a3fe36e9de7140969e926a90c73ea9c4": {
     "views": []
    },
    "a3fff5736ece44c3899efb80d7990d57": {
     "views": []
    },
    "a4088d98c63d4cc2b63ea421ba4770ba": {
     "views": []
    },
    "a4362ed5f7a14a0ba688d29fbac05754": {
     "views": []
    },
    "a4422bf8928d4312a8337cfbf5663b75": {
     "views": []
    },
    "a453569d95eb4f908b50b5365ecf86cb": {
     "views": []
    },
    "a4642c4e2dbb45ab91ec1a83be94bd10": {
     "views": []
    },
    "a4783d5faef04b43bec78cf8f1e09207": {
     "views": []
    },
    "a4cfbcd41e94409bbe0de49fd5bd9fdf": {
     "views": []
    },
    "a4f0ada4c5e74712ae20bedd0d2e1abd": {
     "views": []
    },
    "a4f44094e5f84acd92faf171ee7a9d63": {
     "views": []
    },
    "a515e7ee586145b59743039a21e12839": {
     "views": []
    },
    "a531cb176e9a407cb90e4cd76517bb6b": {
     "views": []
    },
    "a53535ac640144898dcf49a346fcf0fa": {
     "views": []
    },
    "a53d290849824070b11d532d3a6533d2": {
     "views": []
    },
    "a55152a729764d3d98b84b3b90b4c94a": {
     "views": []
    },
    "a589d5ec55564bf58a18615816e76255": {
     "views": []
    },
    "a5cafb6095e24df995dd7f58e96ef48f": {
     "views": []
    },
    "a5d7481f446145bda7ff81b87676465c": {
     "views": []
    },
    "a5de51b3417e44259f507b97125b2af0": {
     "views": []
    },
    "a5e6d6cd68c34264a75281d96eda4572": {
     "views": []
    },
    "a5f08018964143b6936788a5e23dda2f": {
     "views": []
    },
    "a609c7a524664bf49e016e4aeffe9ac4": {
     "views": []
    },
    "a681639a60e647c185e800564e678f50": {
     "views": []
    },
    "a6e0fb84ee9a4f75b23a9f7c1f456e5b": {
     "views": []
    },
    "a7461b5000cd4d789feb9632f5d2ec8d": {
     "views": []
    },
    "a75cd9267cc14a9b98c2183647d6b345": {
     "views": []
    },
    "a75d2420c0e44e3bb713227a5871d3b1": {
     "views": []
    },
    "a7692f094591488a8df6d51050c06cbf": {
     "views": []
    },
    "a7aa1e2a671a43deb672420fd50ff996": {
     "views": []
    },
    "a84c694cb5d34b6498c9f982b1f0af9b": {
     "views": []
    },
    "a86acaaecfc042f4b8935d3d820cb541": {
     "views": []
    },
    "a8a175f111e04d14a551674efe409f15": {
     "views": []
    },
    "a8a650842d0047f6b795c379602b16ea": {
     "views": []
    },
    "a8c2c8f699834a9ca0c0caf48db92fae": {
     "views": []
    },
    "a8d7d31fbe954b20bcca9ba8f43d3934": {
     "views": []
    },
    "a8df1b1113834d3292bdf9539501e697": {
     "views": []
    },
    "a8fe71a46073425788d4165564909b54": {
     "views": []
    },
    "a91478ab7de44465a54d4157d40aa364": {
     "views": []
    },
    "a923efde8e6a4c48a44ec3cadd29ecdd": {
     "views": []
    },
    "a9488bb191a541ad89d157d69839ce42": {
     "views": []
    },
    "a95811a254f349348ff0d29053247131": {
     "views": []
    },
    "a974e1e0650f488d949d182ea0501b7b": {
     "views": []
    },
    "a9804e6ea8684012b855a59de20f19c5": {
     "views": []
    },
    "a98e6b2a55f647f1b4127292ef4ba2e4": {
     "views": []
    },
    "a9bfe3f863424c59bf8a62060a3c90e8": {
     "views": []
    },
    "aa1803bf6dd649e1b29f421ef8dc595f": {
     "views": []
    },
    "aa2574edf7454fc6b2a9b92c24994637": {
     "views": []
    },
    "aa2f312eb18a46cea66ade4b1c57ef4d": {
     "views": []
    },
    "aa341423d6e7476e8c7c475bb352cc2e": {
     "views": []
    },
    "aa37eb3c087a42baa3fcc96382edf51d": {
     "views": []
    },
    "aa4deb96dddc405a8bf325b25a948448": {
     "views": []
    },
    "aa5729be0a364f18a594c96dfcabaf67": {
     "views": []
    },
    "aa764a31b6254525b109e7fca0177c4f": {
     "views": []
    },
    "aa88231cfc5d4cf8b467e077d7eb003d": {
     "views": []
    },
    "aa8a1e2908f34b6caa5654437dc01c64": {
     "views": []
    },
    "aa93b3ae10c24d2cb806ec3fe5c7f320": {
     "views": []
    },
    "aacca84983b94890af684b922a62f1a3": {
     "views": []
    },
    "ab86ef05f6744b2f956664cce13ecd2c": {
     "views": []
    },
    "ab8a8b8e6cf54e54ab4c5d3cdb306aa5": {
     "views": []
    },
    "ab945cc1e76f42c2ab37d4fbc24bf28a": {
     "views": []
    },
    "aba196252a9d47ab8426ccb490596f84": {
     "views": []
    },
    "abda1f765b6842b1905116cca7547151": {
     "views": []
    },
    "abdb9c6331514e508672f09955893693": {
     "views": []
    },
    "abe2da204c414cb9b50686989f935d7a": {
     "views": []
    },
    "abf9a2deb8f54d9799f714574189f23b": {
     "views": []
    },
    "ac0e40c4bc2c4496a8e0af8dca44b36a": {
     "views": []
    },
    "ac23ba734e3745768a923b3205388098": {
     "views": []
    },
    "ac40c8fe65ad4d50841ba67e07efa484": {
     "views": []
    },
    "ac4e11e89f82400a80d74d02e84ed05f": {
     "views": []
    },
    "ac63da42642e43b6bf489407d46271e8": {
     "views": []
    },
    "acb6d9f6d5c942d7b869e8b9b4c05665": {
     "views": []
    },
    "acdafc3677c54a36958d26a36ce8acb3": {
     "views": []
    },
    "acffa05533764516bd1c2576769baad2": {
     "views": []
    },
    "ad007c6711cc4a6cbbfec05c4672c983": {
     "views": []
    },
    "ad2293adab6c42b89832d1830fa515b3": {
     "views": []
    },
    "ad31681d21c04928bb047842c78537b4": {
     "views": []
    },
    "ad75e488343840a4a51e74f8fcaade18": {
     "views": []
    },
    "adb4d02312624e26b33efb6c8968ba45": {
     "views": []
    },
    "add3755928cf4e2fa88c338fd8effc62": {
     "views": []
    },
    "ae239098b378421398da0ced16f77417": {
     "views": []
    },
    "ae68916a57ab427caf5f1298b81889c3": {
     "views": []
    },
    "aea521e0eddb4cb78b19f5cd79a6a0ba": {
     "views": []
    },
    "aecee7604377492cbf3bf702f4f2d1c9": {
     "views": []
    },
    "aefa385c32284433a583dd7253314ce4": {
     "views": []
    },
    "af1b11a0742c4d50a4cebf4cf8981c12": {
     "views": []
    },
    "af6d60cf8c07477cb8a9085b3a6ffa60": {
     "views": []
    },
    "af7d56ed8f5c45eabf29d8053f620afe": {
     "views": []
    },
    "af84202ef4584eddb4c2ea03d36fcd20": {
     "views": []
    },
    "af892a15fdc34e7c882c4cb810a17f67": {
     "views": []
    },
    "af95009934734188b94ac5be8af18cda": {
     "views": []
    },
    "af972732955e49e2a310df028ca5d767": {
     "views": []
    },
    "afdc98779658404ea0435ec984634001": {
     "views": []
    },
    "afe49c5ea15045ee85d90e82ca66d18b": {
     "views": []
    },
    "afe5881d671149358747f3bf0d006471": {
     "views": []
    },
    "b045c4d27eb5485aa179952dcc60e369": {
     "views": []
    },
    "b0483d6f13c842fba28bbd250960f6e5": {
     "views": []
    },
    "b049c8d0375a418680528778910c03fe": {
     "views": []
    },
    "b0664e63104c490db2a6944fe3ad32cb": {
     "views": []
    },
    "b0668f7595f546d39031b33b9865e8b2": {
     "views": []
    },
    "b08845d8aee24a68a3931219599041d7": {
     "views": []
    },
    "b0b6ae23246e4218818ba14490080206": {
     "views": []
    },
    "b0bfaf7cbf324c29a08c0441d9a12507": {
     "views": []
    },
    "b0f2a81cc3cc450f879bff672eef44aa": {
     "views": []
    },
    "b1112df0d18a458f9a9b2edda8368f47": {
     "views": []
    },
    "b124f65bb78c4bf38b6df719fc40add9": {
     "views": []
    },
    "b1620336965d4d838642b9322918f5eb": {
     "views": []
    },
    "b199acdf9c1342b79d975bbf1034cd58": {
     "views": []
    },
    "b19e4c7b834040a7948e2b8ff57c7dd0": {
     "views": []
    },
    "b1af403e94e146c286792ca0508102ea": {
     "views": []
    },
    "b1f137549dd946c797bc5db49933ab08": {
     "views": []
    },
    "b1f1c5d1a2ef4c9bab0c80af114431c8": {
     "views": []
    },
    "b1f870e53c7f4e31b05bcc4da92644dd": {
     "views": []
    },
    "b1fa43469c854284ba42704f8541c96e": {
     "views": []
    },
    "b20bc73eae014c3985ab92544000f76e": {
     "views": []
    },
    "b22b02224c0d4d5b92c085063ec2edf0": {
     "views": []
    },
    "b2eeefe115804e42b66520f41b581a57": {
     "views": []
    },
    "b2f5691a9a254f19a7c9c9630355854f": {
     "views": []
    },
    "b3033f52973844c287325b8e02ea04ee": {
     "views": []
    },
    "b30e4ac4725d4e5da3a39907d8fbaaa1": {
     "views": []
    },
    "b3267c6aa10347f59c1b02289d054563": {
     "views": []
    },
    "b344463ebbb645b0ae9b005dc44cea58": {
     "views": []
    },
    "b348f472eeb24fa3accdd42ad7bc0ec2": {
     "views": []
    },
    "b352fe190e7f4a5983ebdbd96b31dffa": {
     "views": []
    },
    "b3683b21363049bf80575fe36411afea": {
     "views": []
    },
    "b36c82a7e2a144fa9b729b847916f0d7": {
     "views": []
    },
    "b3883f8315794eefa1f00de3f3f093c8": {
     "views": []
    },
    "b399ab4040994b3a9fe2cccd432053b5": {
     "views": []
    },
    "b3affbb92af043ceb527462648c78041": {
     "views": []
    },
    "b3dc99155e3a4d15927d70651e4e79d3": {
     "views": []
    },
    "b400f29335f14359a9964d7bf5ffd5f6": {
     "views": []
    },
    "b480dc58de594e249e5b79091ecb265a": {
     "views": []
    },
    "b488793d2ccd4d5aae5eac18e58a3d32": {
     "views": []
    },
    "b4ae2996ee3f4c81a6b7e9350bfa0769": {
     "views": []
    },
    "b4f3b3550e5a4f308b56cb7b5638abe9": {
     "views": []
    },
    "b4fd1d89c3764690b1f8f823a1b94019": {
     "views": []
    },
    "b50f62266081474eaaa8b0d60a19621b": {
     "views": []
    },
    "b51cfa8969cd4b7c80797655ea1e420e": {
     "views": []
    },
    "b5343bfbe3d04d19964449e84ca93287": {
     "views": []
    },
    "b564b33ecd9347d69181157c2784c762": {
     "views": []
    },
    "b567bc928b5a462480734bf90abf150b": {
     "views": []
    },
    "b5b9f190eba0420ca73f55948e876bd8": {
     "views": []
    },
    "b5d8862572a94858984539cce5dea68c": {
     "views": []
    },
    "b5dcb5570d6c4ab191f128742b9ad751": {
     "views": []
    },
    "b634425af74c4323afe734847dc99327": {
     "views": []
    },
    "b64fe0a3d84844398511b7531456d90c": {
     "views": []
    },
    "b68cf1f4d6724a7db507b2e895e45bbc": {
     "views": []
    },
    "b6dbee7730b54c75b2983a4ec6eb835c": {
     "views": []
    },
    "b7157cf8409f4e059858bacfff69d95f": {
     "views": []
    },
    "b719a1cb1ff04aecb61fe6e76d1438d4": {
     "views": []
    },
    "b741072c80cb40079d49bdb31544c316": {
     "views": []
    },
    "b744ac7fb8f94ca58b58bbf6214bddea": {
     "views": []
    },
    "b76fd7c3f34543c7bd46f5700dab3536": {
     "views": []
    },
    "b7a5c68d94744bc7af4b0b872c0fcf5b": {
     "views": []
    },
    "b7b5c537abc0492eb6198f26e7b34357": {
     "views": []
    },
    "b7bdbb81f36540109022edd2ff9ddf9e": {
     "views": []
    },
    "b7c7b4c45b3f4726b48ef685c9a866f4": {
     "views": []
    },
    "b7e891a35b1e4560be6fd05ebaa14eb1": {
     "views": []
    },
    "b7ee471869154eb18933b74b988d6da5": {
     "views": []
    },
    "b7fdc4786b6f4a758877a7dd9035d255": {
     "views": []
    },
    "b83417a50a8a413bb1009df496cf20b6": {
     "views": []
    },
    "b86a585ab224451aaf58c5ea35b7794b": {
     "views": []
    },
    "b8861f0270d346e1a2f0b6ad827f0d12": {
     "views": []
    },
    "b8b33958200243399cf622c003c4c1c1": {
     "views": []
    },
    "b8bb3d960a244cc9b2199aac98733366": {
     "views": []
    },
    "b8ce3ad94a9f4c9d8f8634a28cebb6f6": {
     "views": []
    },
    "b910bb9c468e4d359cba50fd71f642cd": {
     "views": []
    },
    "b92a796a500d43bdb066cd984c19de90": {
     "views": []
    },
    "b9a012a4687148dc94413c2f3c0c94f0": {
     "views": []
    },
    "b9c4f4aabfd143eb80c8e91608893e5b": {
     "views": []
    },
    "b9f25784bf2d4f30a92f0a69f942fce7": {
     "views": []
    },
    "b9f7321621d44eb39fdddee2f5771ab1": {
     "views": []
    },
    "ba89195ef21549519c0caa7c8f55115a": {
     "views": []
    },
    "ba902f2023254e3c8b5ad311daf00538": {
     "views": []
    },
    "baa83d970f0043e399eca0d70d42a56a": {
     "views": []
    },
    "baa9c771a5d645be877e3b844682d6dd": {
     "views": []
    },
    "bac6e9ad62884334914cbde4c7aeb6b9": {
     "views": []
    },
    "bada29c0e1714918a5dec72a0560730b": {
     "views": []
    },
    "bb28c1d782f14f0e98c785d38c26d0ea": {
     "views": []
    },
    "bb572cfd20ee457f8725ca91e0bb0902": {
     "views": []
    },
    "bb80cf9f80844ed4bc6693a37dc9f70a": {
     "views": []
    },
    "bb99b132b5544eaaa80e26160e70cae0": {
     "views": []
    },
    "bb9e3e9a324b429e8bfe6290d2b8ea87": {
     "views": []
    },
    "bbf65bbb665b40bcbde891c27c017f51": {
     "views": []
    },
    "bc02417b55e6413bae948d87b60d7d12": {
     "views": []
    },
    "bc0612202bd34757aa6dd8a3ac3efe11": {
     "views": []
    },
    "bc1a80bacdda4b2da4b9c3eba9ed9113": {
     "views": []
    },
    "bc1c556eb9d040fb8031d35c9a9df43d": {
     "views": []
    },
    "bc466aeed4a94db888f426afd71bab87": {
     "views": []
    },
    "bc4b0505a30041f4aa6659bebb34a800": {
     "views": []
    },
    "bc5806d6898743c3abc138daf179f49b": {
     "views": []
    },
    "bc5ae44b75584e2ea0949e8fabb76f76": {
     "views": []
    },
    "bc8d9d772e754809a5405a829d1fa6bf": {
     "views": []
    },
    "bcb26de7bfaf43b6a5b18d030342bb0e": {
     "views": []
    },
    "bcdc3a8a8cf4431197ddda682185c635": {
     "views": []
    },
    "bcf4ae36771e494c8dccecb79f87c350": {
     "views": []
    },
    "bd1b9c2f062f4706a68bc0e579eb47a5": {
     "views": []
    },
    "bd2f1ef180ae4f0fabdc6ef11079d72e": {
     "views": []
    },
    "bd403b87e8344894ae1acc1c59eff26b": {
     "views": []
    },
    "bd56df2f096e4c50aadf66d409a22cde": {
     "views": []
    },
    "bd67493b4bfa4c2aaa568e71212bd17c": {
     "views": []
    },
    "bd73411964b842348903a8982ac6d934": {
     "views": []
    },
    "bd7582b7ca614b47b25b4c7cbdfe1278": {
     "views": []
    },
    "bd8311e1e3a34f18a6359766769a220c": {
     "views": []
    },
    "bd930dfbd5b545a2b5aa8b84225eb386": {
     "views": []
    },
    "bdc54f20c9c8472db0dc3e5764f4eae9": {
     "views": []
    },
    "bddb5424e3194d828d36ef29410dbe22": {
     "views": []
    },
    "be2029860fc14a4cb888aa133c876c25": {
     "views": []
    },
    "be264505b6bb46048e46dc222146b54d": {
     "views": []
    },
    "be37e1a79e5046df9011d1761b6ca1aa": {
     "views": []
    },
    "be48d5faa6b046cca739730c433fd33b": {
     "views": []
    },
    "be7d5a9250914cb7bb59467c8911d11d": {
     "views": []
    },
    "be7f9b7f197645a5be776c218181608d": {
     "views": []
    },
    "be8f95c6a4174f3f8c17e1af08881a88": {
     "views": []
    },
    "bea066b5625043b192676d1750481d0c": {
     "views": []
    },
    "bea4f825f7104037bf780b3852bc2ba2": {
     "views": []
    },
    "becbef611b454f9982d9401bf61f6153": {
     "views": []
    },
    "bf21a012971f4a2393a50aca520e7a84": {
     "views": []
    },
    "bf28e13b8ec64c97b14d02a00ad1058c": {
     "views": []
    },
    "bf2cfb60e5744d478e75a348d5cf986a": {
     "views": []
    },
    "bf9c7c1193934923a855226e38170ff1": {
     "views": []
    },
    "bfa48b45687247f1ba2dd7f002ecdc17": {
     "views": []
    },
    "bfe6df95d15e48aa99f8c225bfb12c53": {
     "views": []
    },
    "bfee00bdbd464b0989179af08d95abfa": {
     "views": []
    },
    "c001547acf58441ab7a6576a8d0c2620": {
     "views": []
    },
    "c0abcc790da84916a8a20618612656c4": {
     "views": []
    },
    "c0c47e27a5b246ffa573ba33c977e9be": {
     "views": []
    },
    "c1087ff1924c48da995e614cd1a5e65c": {
     "views": []
    },
    "c122b92cba534473b6b45f6d70d982aa": {
     "views": []
    },
    "c15a7cb33c3444c3b9a4b4212da1d8e7": {
     "views": []
    },
    "c189a80b328641cb9ebd1bba4df10a19": {
     "views": []
    },
    "c1aa29cc41c14059ab2f1552530ff8f1": {
     "views": []
    },
    "c1b6c7e1800a4bd18233e02f2b6de2f8": {
     "views": []
    },
    "c1b9279e75ab4100818df74714a90e18": {
     "views": []
    },
    "c1bcd0d048d743c792b9b07f555fc9b1": {
     "views": []
    },
    "c1d00dbd48074bffa9d9aad772d2de44": {
     "views": []
    },
    "c1d97c76d2264ec7bf3e89ba8718f11a": {
     "views": []
    },
    "c21b5d2cd56b461294362a1d52b82697": {
     "views": []
    },
    "c249a9056792494d855afa43660c9930": {
     "views": []
    },
    "c2669b18fe06487fbe35c9670cd4e5ac": {
     "views": []
    },
    "c27d4c97bf874b3aac722210efb31f25": {
     "views": []
    },
    "c2afda2330114916993da6fe6c173192": {
     "views": []
    },
    "c2b0f41fa2954bdb8064339c193e8c63": {
     "views": []
    },
    "c321f9c18eef4513889a34657a9f910d": {
     "views": []
    },
    "c322f8f03ce64ad09433af02d61b924a": {
     "views": []
    },
    "c371a1c7e7b3496b804a21bbc3c4eda6": {
     "views": []
    },
    "c3bbe37c1fe94391840a178507b46746": {
     "views": []
    },
    "c48b19ba74624befbb77ad562f794b39": {
     "views": []
    },
    "c4dc46aa9ff94e57bdd3881e6888e526": {
     "views": []
    },
    "c4fb44d7f4eb485bb0ee62d1e012dd1d": {
     "views": []
    },
    "c520694c6b94485fb76e176a204c60d4": {
     "views": []
    },
    "c520fd08551948e8be2d6cccb7355354": {
     "views": []
    },
    "c5704f224af446b7b241f05ebcb86b57": {
     "views": []
    },
    "c5a084ad841e401da81d5ce6d0a787b4": {
     "views": []
    },
    "c5c3cbaf91ec43c787f50f6ac24e377e": {
     "views": []
    },
    "c5e447a1673c4a29ae675fedf9c084f6": {
     "views": []
    },
    "c635ef85a3254c069ced59a27df6b092": {
     "views": []
    },
    "c68d10675163468588051bca49d030db": {
     "views": []
    },
    "c6a505b06c0842f2bb6e92f3cb9d3b87": {
     "views": []
    },
    "c6ad40a9bd1047daa8d47fb3811c8134": {
     "views": []
    },
    "c6b1ef5ca8e046e68efc0d7e7c0e375f": {
     "views": []
    },
    "c6f0038bbbb24692a3a62f4da6d3723a": {
     "views": []
    },
    "c6f359310dfc4c15b92608f361fd8451": {
     "views": []
    },
    "c713bb0815264f19b5b783768fcce387": {
     "views": []
    },
    "c72db31c40274cd5a9a423132188a006": {
     "views": []
    },
    "c734a042f4d64205be54a0e47608ab0f": {
     "views": []
    },
    "c738a9e03a4f44488ddc120ff4c5bebd": {
     "views": []
    },
    "c73e5887efc44e049dee216e5f3282a9": {
     "views": []
    },
    "c75babf0b0924ac88f8b8ed422a1b9e4": {
     "views": []
    },
    "c771b11249d540edb639aebf0299ea09": {
     "views": []
    },
    "c77fce64791d4d01b2aae5561a7144c8": {
     "views": []
    },
    "c787dcbebbf14e20beaafb32f946ff67": {
     "views": []
    },
    "c7b6e8ba0c0d4d99a078c5035f7f513c": {
     "views": []
    },
    "c80cc967ec624f328eb152a504b7afe1": {
     "views": []
    },
    "c86a3dc00a724f6b873df50b869e809d": {
     "views": []
    },
    "c8762afb0e8b4ea99788d4d4ec3fc15d": {
     "views": []
    },
    "c8c8187eaf164792a0c277153fe9fb40": {
     "views": []
    },
    "c8cb61ae5d8e439f912c4945d6b83945": {
     "views": []
    },
    "c8d2abba39a54024b47a7569842c5b37": {
     "views": []
    },
    "c8d35e208f434d33a0ed21fc0fe69262": {
     "views": []
    },
    "c952e6f28e074df998557273b0be012d": {
     "views": []
    },
    "c983e628e82240f59a009ce671118215": {
     "views": []
    },
    "c9af74f007bc4a7a86ecbc1f22fa974e": {
     "views": []
    },
    "c9b96bb7127d41a7b6f9544bf41ba547": {
     "views": []
    },
    "ca0fd3028c914f70806078b69fd55649": {
     "views": []
    },
    "ca151d8ae2a2432d937623c926e0aed8": {
     "views": []
    },
    "ca1f7d4f3279425d8bbb94be5af172cb": {
     "views": []
    },
    "ca4f9ebb1acc4c349bf03c6171c2d1b4": {
     "views": []
    },
    "ca5f3cf5f1e44f67ad9fe169304988ab": {
     "views": []
    },
    "ca752097f86f4471aa94db5ec3662941": {
     "views": []
    },
    "ca83f96f0fae4deface23cd40a44c5ae": {
     "views": []
    },
    "ca9361b6b6ab4c6a815c3a62a907b6f0": {
     "views": []
    },
    "caae4158cd7e4698a8a1873052f6c00c": {
     "views": []
    },
    "cac38ae4eee54d70b9c1ba52882b2447": {
     "views": []
    },
    "caeb5771041145d5b51f4d0da88cf3bd": {
     "views": []
    },
    "caf240d9642747dab3075a4ba03c5204": {
     "views": []
    },
    "cb0941a5e0db47dda48c30373a4a2b17": {
     "views": []
    },
    "cb2af8e0a47d45fd943ede975876b6d7": {
     "views": []
    },
    "cb431d1f44244307b9d7159101abf177": {
     "views": []
    },
    "cb471cec5e3c487bbf413f0038584892": {
     "views": []
    },
    "cb62f321ed944b0a85cb9cf1cdff7ec9": {
     "views": []
    },
    "cb73ca2d578a4d51bd2a29d7f6f7261d": {
     "views": []
    },
    "cba17892763741c18444c81152b74f93": {
     "views": []
    },
    "cbc01edb4da240e38d5d96be06b07d6f": {
     "views": []
    },
    "cc0a76c57ef346818d371c6d3482b82b": {
     "views": []
    },
    "cc2f250fc2dc408097540b1d1882777a": {
     "views": []
    },
    "cc89f45571ea4d7ea0374c11b76db203": {
     "views": []
    },
    "cca0b8eeb6ab4997837536ea6a8840eb": {
     "views": []
    },
    "ccc4613695fc464680509d39694d5310": {
     "views": []
    },
    "ccd895bad6294a919482b408af91a4bf": {
     "views": []
    },
    "ccf8319de9184a0faf73a1de815670dd": {
     "views": []
    },
    "cd0ec366b1984cb6a0fe898f3299a6ac": {
     "views": []
    },
    "cd1ce86681414328994b3e88e5f8b881": {
     "views": []
    },
    "cd48ce4f3885464d9851551dbc0ed4c0": {
     "views": []
    },
    "cd7fb80b641c4609986e6f46242a32f9": {
     "views": []
    },
    "cd9a88c2a6704419a37144820cfd1ace": {
     "views": []
    },
    "cde11811797a4cfea72608a879cdafe3": {
     "views": []
    },
    "cdf49d919dab446fbe1dde0da3a132d1": {
     "views": []
    },
    "cdfa094cd4c34495927e96ad8359906d": {
     "views": []
    },
    "ce3ecabdae6c49c59c2c5717848ff565": {
     "views": []
    },
    "ce530b54b27c4852836a73d2bc2d1263": {
     "views": []
    },
    "ce6acdabf43643b28db8576a1361cd94": {
     "views": []
    },
    "ce7031330b4240468e7669f77a013292": {
     "views": []
    },
    "ce79156f908f415b8ab860616425a101": {
     "views": []
    },
    "ce8304d017cd4fe886d0b66b491add16": {
     "views": []
    },
    "cebc6aff126347e2894f7072d49891a4": {
     "views": []
    },
    "cee32e8b07504b84803d3236228c95f8": {
     "views": []
    },
    "cf2ccc1405b34c31838177767ae7371b": {
     "views": []
    },
    "cf5f260faa714f9985bc3565bd13bfac": {
     "views": []
    },
    "cf621cf3bcdb4f168b6743786c932fa0": {
     "views": []
    },
    "cf630f45d1644b8588ed65dafd4c5ecf": {
     "views": []
    },
    "cf78a54d10004cc7abb714f86c33d1d1": {
     "views": []
    },
    "cf877ad984bf42f59200e660d7b2ae48": {
     "views": []
    },
    "cf891ebb68df4c68af125bc8a7a80095": {
     "views": []
    },
    "cf8bac5e2c4243e4803fcd8ff9cf494f": {
     "views": []
    },
    "cfc1d8fed0a14352bf4225652fa9ac90": {
     "views": []
    },
    "cfe659e05579475aa3c65f3e3406e5bd": {
     "views": []
    },
    "d039f4730ca04014b59c4d2b50f0c64d": {
     "views": []
    },
    "d043296b888b4717a3fc50467c1023d5": {
     "views": []
    },
    "d051e36e5ace441facffa918f6a71f6c": {
     "views": []
    },
    "d0b17899595044b2b569e073ed9709ee": {
     "views": []
    },
    "d0c2fc07231842c28ad37d1362905d68": {
     "views": []
    },
    "d0c855b545fc43f2b786118e67d4dc82": {
     "views": []
    },
    "d0ea85315f2d48d2b9221819f27678a5": {
     "views": []
    },
    "d100f284c7ff4d41abae0eac552bff94": {
     "views": []
    },
    "d1095bdab2bb403aaa66797c291a9a46": {
     "views": []
    },
    "d11447b364044bdbac7f83e76fd71c4a": {
     "views": []
    },
    "d11695d8271a4da19dc82c9f51965c27": {
     "views": []
    },
    "d11916d7e8524c568a0dfb33f019ebab": {
     "views": []
    },
    "d14bfc5b373341638491105afa573ef6": {
     "views": []
    },
    "d1969d869e2a4f8eaddcb40e10ebf120": {
     "views": []
    },
    "d1a1478df7d549e68ddd793340bbf518": {
     "views": []
    },
    "d1a9ffeedf6c4c4ebd82ca0f22644c7a": {
     "views": []
    },
    "d1c36f49470a442e9be7e115de7faa88": {
     "views": []
    },
    "d1cb7e7aac3c4dc480161c55785a19de": {
     "views": []
    },
    "d1d9ee53e09a4cc2b2c216c32ee6d27f": {
     "views": []
    },
    "d1f1b23313c240009aa03f18b75e2d6a": {
     "views": []
    },
    "d2142e4fd7b04ba89fd165a49714ae43": {
     "views": []
    },
    "d22e1ca87fc5437dad4a47ee5f8e5a6d": {
     "views": []
    },
    "d260c9408bdb4aa19c5d2e00e9bd9f24": {
     "views": []
    },
    "d29f50ef8dca4cb6b397aa997e09b277": {
     "views": []
    },
    "d2a3a8ad7b0c4376aa09de2ff4001626": {
     "views": []
    },
    "d2b0053cd69b422cbe5b4ecb42914da7": {
     "views": []
    },
    "d2b319284a11484cbb082480bee50e9b": {
     "views": []
    },
    "d2e27e0f66e84cfcab2a938f9e4ae428": {
     "views": []
    },
    "d2fe984b3a8547e989327e57a4860eca": {
     "views": []
    },
    "d3088028b506483292fbe912dde0d443": {
     "views": []
    },
    "d374706fa50f48fcbfadf6573aa496da": {
     "views": []
    },
    "d39e9d5e29384d9b93688ef6db01ede1": {
     "views": []
    },
    "d3ab41a7d7e141e5a7e34e09a9d5c0ac": {
     "views": []
    },
    "d3b41b8fad0e4402939b33f6300e9e81": {
     "views": []
    },
    "d3b7935a17564060b0e308280112298b": {
     "views": []
    },
    "d3b861f0521742ef9c69ee1142f6da06": {
     "views": []
    },
    "d3cad47fd8344da7a4a270bd22e5cb44": {
     "views": []
    },
    "d3db13f694554d06aa3e06719218094d": {
     "views": []
    },
    "d40224539a8d49df97685e9af887475a": {
     "views": []
    },
    "d42883b497804e00b5b46aa375951056": {
     "views": []
    },
    "d4325f95d1514d9189d833c7cc0fe87b": {
     "views": []
    },
    "d44eb907e3f3411ba59ee299d3bf0d48": {
     "views": []
    },
    "d45c497fb0a844cab51db0359436bdc1": {
     "views": []
    },
    "d463560cf6f84d7ba959907b1ef64e9b": {
     "views": []
    },
    "d47b599a3a9d44a6aa5a5ed454afc202": {
     "views": []
    },
    "d48aa921559747c0966eb3bc28a7fa96": {
     "views": []
    },
    "d4b7563f170a4f11a78e82d74578f155": {
     "views": []
    },
    "d4d31a6f619e4e5d8f6459f64654ae1a": {
     "views": []
    },
    "d4d65dd954cd4111b74203f100c1b707": {
     "views": []
    },
    "d508dc6c15e9417ea10bc4c7e9a59e09": {
     "views": []
    },
    "d521b5017512444b809827afa4f11f41": {
     "views": []
    },
    "d52fe0a6709c42e08436bb2ff36bc3b8": {
     "views": []
    },
    "d54338e68de64c3c82e70a3e2f6a10c2": {
     "views": []
    },
    "d54d8fddaade4ed79a4f3db065d9e1b4": {
     "views": []
    },
    "d55ff0de5488460082246e525228df7a": {
     "views": []
    },
    "d56f006382db47c1ac8a0a2e2139f39c": {
     "views": []
    },
    "d575c03e186b48f3b95535854ac6d94c": {
     "views": []
    },
    "d58de1faab294f188f491029ac09063e": {
     "views": []
    },
    "d5daa9fbdb9148b2bb19930a0a01eba0": {
     "views": []
    },
    "d6268fb11add4cc7b55ca3e694ffd541": {
     "views": []
    },
    "d643c00d581c47718c8b1704e53ab21d": {
     "views": []
    },
    "d67d82e43a0c44659772534418069780": {
     "views": []
    },
    "d687bd7def4a41d181d1559c178c5a84": {
     "views": []
    },
    "d6a765f26ecb40c9b38de3e993588cb0": {
     "views": []
    },
    "d6be2d53692e42f4ab6ea5989b5cbb63": {
     "views": []
    },
    "d6c1e7f054884ba0ae39695e6283762d": {
     "views": []
    },
    "d6ffe9a78f6c42779a767c7e6c090292": {
     "views": []
    },
    "d702a1729fcc4b739f253576303facdd": {
     "views": []
    },
    "d736d666ab0244eb81a23c065e376c57": {
     "views": []
    },
    "d75e31117aa540ea8743a521fc573fea": {
     "views": []
    },
    "d7a7bd79d0e54e1d83cdab5f53cb8759": {
     "views": []
    },
    "d7fe32aac4294bd18a7d106c316ed2a2": {
     "views": []
    },
    "d80646b517e64a1592914bf3a0c56388": {
     "views": []
    },
    "d8107fc96384474bbd30db823b32399d": {
     "views": []
    },
    "d83f2a2b6bc2442887dcbcc5622b62be": {
     "views": []
    },
    "d861f9422f224ed8ac450f1d605cfa6a": {
     "views": []
    },
    "d8652504c2974ec7ab762cf48a6277ee": {
     "views": []
    },
    "d874e17e05824991a103d87f9c59a4d0": {
     "views": []
    },
    "d8b97d94dd7b4d9db4bbdf848827add4": {
     "views": []
    },
    "d8c93e96a3b34ffc84b5f335c9c73c2d": {
     "views": []
    },
    "d8d125f96e284926acb124ab18218bb2": {
     "views": []
    },
    "d8d846f3dbc24623ac563b3c0e2b1db3": {
     "views": []
    },
    "d91195e2c46b4875acc9d9f3a008237f": {
     "views": []
    },
    "d9353eae6e934cf08387964de05cee14": {
     "views": []
    },
    "d951bfeb4e404bf6851e111eb4583827": {
     "views": []
    },
    "d96e8c6608bf41a5852e5d6550bf9f4f": {
     "views": []
    },
    "d99dbdd818ca49dbb5b13ec4d10b0956": {
     "views": []
    },
    "d9cec11bd8ff4ce0bfb384a77af3e8e2": {
     "views": []
    },
    "dab72387c8b843e6bf645afb2275802f": {
     "views": []
    },
    "dafc20956333428caec0c3f5ea38cfcc": {
     "views": []
    },
    "db2a5967a18e4863be730ccca3e947af": {
     "views": []
    },
    "db9c649e23424637883e13139fa41754": {
     "views": []
    },
    "dbd6b066443341a19fe730f86e457d5c": {
     "views": []
    },
    "dc097616810b40389c6a13da66ec4bff": {
     "views": []
    },
    "dc3a223feeed40b4bf58a4f185711d8d": {
     "views": []
    },
    "dc49deba5cdb475493cc9ef95d42101c": {
     "views": []
    },
    "dc6b75fed3594d088c5ee68b2fa36177": {
     "views": []
    },
    "dc86ab6c723e4096bc03656d2daae560": {
     "views": []
    },
    "dcc27b305e704ad280e3f7177cfcd7d8": {
     "views": []
    },
    "dcd9e1d73e3c4560908a410501593915": {
     "views": []
    },
    "dd3412f05cf7470b88294cdbf969af13": {
     "views": []
    },
    "dd3473c8798245bd94704d8a16eb659d": {
     "views": []
    },
    "dd41f092079749d1afe44c7c40f571cb": {
     "views": []
    },
    "dd4dfe8ff9e34c54bb2a0281e3221f82": {
     "views": []
    },
    "dd746366cc1f436895fb8b869045250b": {
     "views": []
    },
    "dd8dc97d985f4e2f9910b38456f05960": {
     "views": []
    },
    "ddc293ba6c124864bda0b425be7cba36": {
     "views": []
    },
    "dde72ce902ac47249e8b9885dddbfe80": {
     "views": []
    },
    "de038acc2f1a493e9e7843ff89874408": {
     "views": []
    },
    "de8248dc45bf4e6f887493935b67838a": {
     "views": []
    },
    "deef90d020194803bd9566ea2bdb4251": {
     "views": []
    },
    "df105bab713c4adf976a21ddeebc6550": {
     "views": []
    },
    "df171c1af5154701b27c7bf4f2e1c3e3": {
     "views": []
    },
    "df2ac0f5ad574947a62b166fa356c0c4": {
     "views": []
    },
    "df4cfbb214984269893c85be58746123": {
     "views": []
    },
    "df6be5134e674dfeb593dc8cf657a9ad": {
     "views": []
    },
    "df70853edeba438a8bc5e25990c0f5f0": {
     "views": []
    },
    "df9b2df60abe43d1abdba9f5ddb1457b": {
     "views": []
    },
    "dfd070e0ec2040e3a20ce9b6f440c18f": {
     "views": []
    },
    "dfe5cbde631d46a6b0979541e3b32661": {
     "views": []
    },
    "dff84a34112c4e6f8002503d8a269632": {
     "views": []
    },
    "dffcb535156f465da8649a4a92f403c4": {
     "views": []
    },
    "e005033703ea4046ae8cd85f301b81ae": {
     "views": []
    },
    "e009e6fd6ea94660b5e3d814599f8cb5": {
     "views": []
    },
    "e01d40d34d1c40a585026cb5eac8a472": {
     "views": []
    },
    "e02270b3511c4cd8bf77e909fc68d480": {
     "views": []
    },
    "e03a0f4303f24699a2c9c458242e9939": {
     "views": []
    },
    "e06ffb52da434ef9ad2720b41f798471": {
     "views": []
    },
    "e07416198fe847c0849f90eee990fe58": {
     "views": []
    },
    "e07a429003f34b0c802957df3d5868bd": {
     "views": []
    },
    "e09a333cb1724fdbac1990a28861fb78": {
     "views": []
    },
    "e0a727761cdf4f5eba23ccc9b8350e94": {
     "views": []
    },
    "e0ae3dd0a1c04ca8bb8289800cb113e5": {
     "views": []
    },
    "e0cceabf4882411590ce02c528db2914": {
     "views": []
    },
    "e0d3f1788869409c8f9f23baab4f5872": {
     "views": []
    },
    "e0f5b18b69e643798d24b9380959151a": {
     "views": []
    },
    "e0fe72001b94441eb4fbaa99f4bb6d7e": {
     "views": []
    },
    "e11d2a5ee5e64c47bf63c53c547ba45b": {
     "views": []
    },
    "e1229738124e472f9c701b6b5d76483a": {
     "views": []
    },
    "e12e995a5a2b43ef8b12162b97b11429": {
     "views": []
    },
    "e1425b9a01834165b6117ec7466f5f2f": {
     "views": []
    },
    "e163bd5dc6514adf8f03811bce37524e": {
     "views": []
    },
    "e16ca704966c4ab08105c540ad7635c6": {
     "views": []
    },
    "e1e426eda7214a57acfb070055b5ed81": {
     "views": []
    },
    "e21a3c9f09644a1aa76c6aa530abdcf9": {
     "views": []
    },
    "e24d6b5de74844b49568b61137ef7e2a": {
     "views": []
    },
    "e2540f82be4d41a1a83f762131cab095": {
     "views": []
    },
    "e26fc71af5b04758b9f8c93558a12256": {
     "views": []
    },
    "e2779c888cf949698bec16ce043d8a7f": {
     "views": []
    },
    "e27890cabaaf434fac42b1f4bbfcee71": {
     "views": []
    },
    "e28d658601c744acb3e7f4a9e4266d04": {
     "views": []
    },
    "e2a833f13db5429b800066dbd7e24876": {
     "views": []
    },
    "e2bb8f35d9b24b8f84b56fac65abc817": {
     "views": []
    },
    "e34678883cce4741aaccd8747bc75ac2": {
     "views": []
    },
    "e3491fe6bff44486b91658ef978993dd": {
     "views": []
    },
    "e354639340ac4b88907fde691147b423": {
     "views": []
    },
    "e361fe6785dc48f38cbe500b72afffed": {
     "views": []
    },
    "e364deb84ba543a9858acdf7083634ab": {
     "views": []
    },
    "e385c93a405f4726a7eaa61a5a3a3626": {
     "views": []
    },
    "e39b7bc3d7ce4f4d9ea0170de9c3fad2": {
     "views": []
    },
    "e3b315a07083436a94d6c07a77fbb25a": {
     "views": []
    },
    "e3b7a379ae66489ba78850a3b6279753": {
     "views": []
    },
    "e3c3515feada4e1c8461d897021f8dba": {
     "views": []
    },
    "e3c8afe075954c79a8da5d6b476b2734": {
     "views": []
    },
    "e3e93c36f9664e45a6571dc03d781573": {
     "views": []
    },
    "e4089b6abc0741dabc6d93008cb50fea": {
     "views": []
    },
    "e4137d9169784467b904e1f9a1212eb9": {
     "views": []
    },
    "e41809640f51454ebc81fed57f866dc1": {
     "views": []
    },
    "e41fca8c9a1f4fb9a75b55c128317cbe": {
     "views": []
    },
    "e4248190920f4927823ebd0490b16967": {
     "views": []
    },
    "e42c6110da604d7eb706ff3929de575c": {
     "views": []
    },
    "e45ffd8cf0a54f2d87d0adf26b2f7d11": {
     "views": []
    },
    "e46c3aac883d45a58794f468fc530aff": {
     "views": []
    },
    "e4b00a0e14b6444dabd39d6836bbd7b0": {
     "views": []
    },
    "e4b0901b6c62402c92270187130f2e67": {
     "views": []
    },
    "e598648eb96f48729169aa0179ed75d3": {
     "views": []
    },
    "e5a59b4029dd43268131537f41083056": {
     "views": []
    },
    "e5af14c4afe74c31bf2ee00e41017b79": {
     "views": []
    },
    "e5b5cf595bec42d9b66a64d0820d9f53": {
     "views": []
    },
    "e5e390b75c6541a2aa2715efc0ec3f6c": {
     "views": []
    },
    "e61ba5e1c2ef4784a7d3260840819705": {
     "views": []
    },
    "e630189abd704ce6bf7a0b6dfe6f99e1": {
     "views": []
    },
    "e6461910f054444db5989e702885912c": {
     "views": []
    },
    "e65f8cb92f9e4f3091ddbbef88c1f592": {
     "views": []
    },
    "e675b220a6b7425bb1a2e5bae673ad66": {
     "views": []
    },
    "e6924058ab3c4558b7665f43d7f63bf5": {
     "views": []
    },
    "e69b283b3f8c4dc2bf86809d988e91d8": {
     "views": []
    },
    "e6a884b06b8e4ee7a45a98c910071c68": {
     "views": []
    },
    "e6c1c124378e4b8395eaf859f75fd781": {
     "views": []
    },
    "e6e0b99b8c9346738f450de0d45f1cb9": {
     "views": []
    },
    "e6ec935cd8544462be9d95877be63470": {
     "views": []
    },
    "e737c819847f4004b349a22e4f1c2800": {
     "views": []
    },
    "e741ec912f3c4080a18004c455f142a5": {
     "views": []
    },
    "e76c7b9cf9a44ccbbb56051e87912744": {
     "views": []
    },
    "e7a3f589c8774d5dac920a3544ea133d": {
     "views": []
    },
    "e7b3e3f3e7124e629cf18eb37cef2293": {
     "views": []
    },
    "e7cdd95fdba040a79e0124a5cb9d3310": {
     "views": []
    },
    "e8119610941941829872e18a42181826": {
     "views": []
    },
    "e89ecce5c7e6470b8db30719c5b18be2": {
     "views": []
    },
    "e8d2ea9cf2da44f6b8c26dc57b09fdae": {
     "views": []
    },
    "e8e5238a71b7493fb924df722a5daf88": {
     "views": []
    },
    "e8e7e961436f426897e122a9706b2d77": {
     "views": []
    },
    "e90f42817e944d6b80dfede9240d9a62": {
     "views": []
    },
    "e92097f2fc934d62a87dee8398fbd8a5": {
     "views": []
    },
    "e922db50884c4b009a50bcbe69e9634d": {
     "views": []
    },
    "e92345a5bab043bd91cb243ee7552651": {
     "views": []
    },
    "e92ed01978a14b2d90c6301ea7715d89": {
     "views": []
    },
    "e94796ec2b7343999f4a4464944762c8": {
     "views": []
    },
    "e94df39059334316bab8847e99e42b39": {
     "views": []
    },
    "e986e7daed084e4587c8b9f9638eb726": {
     "views": []
    },
    "e98aa24dddff48e684a554538b97d8eb": {
     "views": []
    },
    "e998ef15f508497385530718b2c5a7d3": {
     "views": []
    },
    "e9b73035b0284edaa74a362d476b9683": {
     "views": []
    },
    "e9d266639c8d404da70d86b10c1d4f4c": {
     "views": []
    },
    "e9f69a91696e41c5a10b6ae27816d7a3": {
     "views": []
    },
    "ea369ef9716742b1b98a0fb4410b03c1": {
     "views": []
    },
    "ea4c8dcc26384f0ab95b16ac422f0ea8": {
     "views": []
    },
    "ea582454f1914fa6a06aa2efa7d582ca": {
     "views": []
    },
    "eaa20db1d2134e2693fd4caaa2e1abe6": {
     "views": []
    },
    "ead8059c72214f0a8d0aaa932b25261d": {
     "views": []
    },
    "eb06664afb404b2aa60898942c69cb6d": {
     "views": []
    },
    "eb1d72e5aba04639855dd2400add60d3": {
     "views": []
    },
    "eb3230734e674e93b9363a02653d5f88": {
     "views": []
    },
    "eb4f33196928436bb8a3d685765ab213": {
     "views": []
    },
    "eb5f28da5d2640b6bae877662fc0a3ea": {
     "views": []
    },
    "eb7b28af41554922baf6c15aec2386d7": {
     "views": []
    },
    "eb943ecfceae4d48a3d9874abdd0fdef": {
     "views": []
    },
    "eba69516cd4b4007abba6f76070ffa5b": {
     "views": []
    },
    "ebfd73f832fd4b4c91d7240918017739": {
     "views": []
    },
    "ec20dfc2dab948e6a9e661f07b4d233c": {
     "views": []
    },
    "ec405c3e8ed145868e5669bad9a57abf": {
     "views": []
    },
    "ec4ff4632ef445f5989877dd5c2acaef": {
     "views": []
    },
    "ec5f29d1f0da4a52b838bc7c08bdddcb": {
     "views": []
    },
    "ec6799ec7b9842c89d3bee986f9ee427": {
     "views": []
    },
    "ec8068f2efb34932833b4c55657e1e2a": {
     "views": []
    },
    "ec955d09630d472388edf95aa2ffa96a": {
     "views": []
    },
    "ec985448432e4e37ab60a9bb4153b7d5": {
     "views": []
    },
    "ecc08ee99dcd4a81980a0418d8533e7f": {
     "views": []
    },
    "ecf628302f0349e9aaebf9e86cec9ca3": {
     "views": []
    },
    "ed1b0f5f870848c38eedcc4d902f7efe": {
     "views": []
    },
    "ed36d880676446e7afbbc4e72dae925d": {
     "views": []
    },
    "ed3a28734b9049638c60d728eb7fff70": {
     "views": []
    },
    "ed4148b73a6e4f3091cfcafe0410ede0": {
     "views": []
    },
    "eda3b2831ed748efa152f50d2d6e81d8": {
     "views": []
    },
    "ede38ec446a64090b7931584b9031bd7": {
     "views": []
    },
    "edfbbeeb5e4f40e5bd3d692b1b1a5840": {
     "views": []
    },
    "ee1781226a2f4a30ab0799ced5f79ce3": {
     "views": []
    },
    "ee1829a7a3d84623a76d42db5edd01b1": {
     "views": []
    },
    "ee2076a488124766a4e6bf61a610d973": {
     "views": []
    },
    "ee23407b3e5d4e90ac4bcc8aff77c510": {
     "views": []
    },
    "ee235f6ddd224108a607db2631b7b36e": {
     "views": []
    },
    "ee38548c12dc468198c4fcb181cd5aa1": {
     "views": []
    },
    "ee3c38139bfe469d96f34440be904e31": {
     "views": []
    },
    "ee78906e4b5b4c3a9ec94cb44db5d1ae": {
     "views": []
    },
    "ee8cf0c1a2cb4c41aad1e1beb76f6258": {
     "views": []
    },
    "eeb2e875ceb74f6a99f9c0d2801c60b0": {
     "views": []
    },
    "eef487f0c5964eca8a03e7b84d4038f2": {
     "views": []
    },
    "ef0972288a6f437388fbd7c65fb144e1": {
     "views": []
    },
    "ef242c71af8f4da8b0d0a159b04e530f": {
     "views": []
    },
    "ef46b3ac27cb4549aa297d063b625d56": {
     "views": []
    },
    "ef534de397624a8a90c02aed176dc46f": {
     "views": []
    },
    "ef5e211728fd4dec88f301ea4c2448a0": {
     "views": []
    },
    "ef6e6be9fbff463aa75a38dba9099464": {
     "views": [
      {
       "cell_index": 28
      }
     ]
    },
    "ef6e7450ac1c468ca345f52d2f39da65": {
     "views": []
    },
    "ef89605c85ec4edfac396956b71502da": {
     "views": []
    },
    "ef9440f59c674db69b4eee625a4fa013": {
     "views": []
    },
    "ef9d7ce68f3a4e6389280ddc65f15990": {
     "views": []
    },
    "efa2765b99be4196a248ffb3738815d7": {
     "views": []
    },
    "efbc66604997478581d8aace3800a0f6": {
     "views": []
    },
    "efe5d2ef3d7a47bc9b1749e5213d1604": {
     "views": []
    },
    "efe86be84cbf40078dd58cab632f08dd": {
     "views": []
    },
    "eff6c94c5a6f4390957393745038fffb": {
     "views": []
    },
    "f04c02b58f4f4bc2bb5de6e7f1631c39": {
     "views": []
    },
    "f05b0b882c5d41db834dc80775d43a29": {
     "views": []
    },
    "f070fb28778f4c6ab54b5c826febe429": {
     "views": []
    },
    "f0be7243f41e4cac85a727f15254d3a5": {
     "views": []
    },
    "f0cb184c214e4b8c9674fe139b96f75e": {
     "views": []
    },
    "f0e2f3aa3431466bb08bc55ed80a6c6f": {
     "views": []
    },
    "f0f95d1e77dc4ad89f499b4a654b40de": {
     "views": []
    },
    "f0fc6f36b78a48d3b0aeff9fd13d97ac": {
     "views": []
    },
    "f12d604ebb94401ba25e92635c17bc2e": {
     "views": []
    },
    "f14711970d6446f69a8502ea6a583aff": {
     "views": []
    },
    "f1c55ec99e634987b2d7a4aa7dd8cc72": {
     "views": []
    },
    "f2049c99c86244cf9317d3b9697b73ec": {
     "views": []
    },
    "f2284959e2614d41a407e52d48b8d798": {
     "views": []
    },
    "f2361b598c124148ba557b5002926c72": {
     "views": []
    },
    "f26484ad5415482aa3ea7d92616e911e": {
     "views": []
    },
    "f26bf4e7c49e4cafa09b8b75ace4fc13": {
     "views": []
    },
    "f279dec18768451b957c35f72252c26d": {
     "views": []
    },
    "f282ccf534a643c18d12dcef851461ee": {
     "views": []
    },
    "f2b371181efc46168c1d807e513bec2a": {
     "views": []
    },
    "f2ebd152a4f04fefa7ecad360b5818e0": {
     "views": []
    },
    "f37300b9d477469db86543d7bff49e63": {
     "views": []
    },
    "f399484937bd4230ac98c77890053515": {
     "views": []
    },
    "f39ed7c20c6a473a9e93f2954538bb7a": {
     "views": []
    },
    "f3a3a0954dae4ab196edf252950c2da4": {
     "views": []
    },
    "f3c0db061f1b497c8473960a7424bc4c": {
     "views": []
    },
    "f3c5bf725a4e4dc1be3df5fee7ea5f38": {
     "views": []
    },
    "f3e033f8517c41039e0b74e760107eb5": {
     "views": []
    },
    "f3e962c89ec94b19aa1832d6d37d657c": {
     "views": []
    },
    "f3f7c796534a47019d24eca14096dac2": {
     "views": []
    },
    "f47d73d482fd492a9d7c9373dcbd5e7c": {
     "views": []
    },
    "f4da707a78c2424d92735ac484f497dc": {
     "views": []
    },
    "f4e81904f2cc465fb06b8bae49da18ff": {
     "views": []
    },
    "f4fce02cc5d04db6b8609cab3854ee3b": {
     "views": []
    },
    "f4fe2fec774e41f29523ff5a73811203": {
     "views": []
    },
    "f56bc2b07c77478791d3f394652e7320": {
     "views": []
    },
    "f577aa6d8c3a4edf8d1efe4443e56bda": {
     "views": []
    },
    "f5ab3e7f446f4a8382096c5aa72ce8b9": {
     "views": []
    },
    "f5c91627169e430891cfcd4639a03d0e": {
     "views": []
    },
    "f5d374af953d4b6289dce9bd5d945fd0": {
     "views": []
    },
    "f5ea54f1b1a247c1b8f0864a054e0a4b": {
     "views": []
    },
    "f6069ecb39cb4370827361a10b325551": {
     "views": []
    },
    "f635e7224347472abdf3943a66c34bdc": {
     "views": []
    },
    "f67d724874824804ab74a4fbcf7f0471": {
     "views": []
    },
    "f6bd698022e04ca4b062b1598d92eaed": {
     "views": []
    },
    "f6d0b8ffde1d4a31bc6465a8a7266d1a": {
     "views": []
    },
    "f6e513582c474b94bab08db9050a6474": {
     "views": []
    },
    "f6f83c3acdcd41a9942ae46f4435f307": {
     "views": []
    },
    "f743f556a3bd42be8a13063c703daef4": {
     "views": []
    },
    "f77c3b4ad8524f6d969e06769d58112b": {
     "views": []
    },
    "f7c2080a50744c4cada8b179ba217a1b": {
     "views": []
    },
    "f7cfe5b9e842432f9485dbf07a1bcaf4": {
     "views": []
    },
    "f7efcebf4fb8401d965a94a06dc5a76c": {
     "views": []
    },
    "f7f418fada9f40dbb84b3122f4a3d4d3": {
     "views": []
    },
    "f80181a2f5af42098aca77d750c98463": {
     "views": []
    },
    "f82f684525d94d999bd112ed22427cce": {
     "views": []
    },
    "f85cd33fa07745ec8663d38264fcbcc1": {
     "views": []
    },
    "f85eee2271244f198241c713a8628d13": {
     "views": []
    },
    "f865da02b50d4a698b9cff45c01b7cd8": {
     "views": []
    },
    "f86bd377f9c94e99b83fa1fbfd4d00c6": {
     "views": []
    },
    "f86ed08c857541afbd51b67ff30ae5ac": {
     "views": []
    },
    "f8b2bb74e8d24a14ab216c0b3eb038d4": {
     "views": []
    },
    "f8b81f87f278436c9199d0afc04edeb3": {
     "views": []
    },
    "f8dd0d1d404d419b8fc023f6e637c42f": {
     "views": []
    },
    "f91317b6b1a44f7d8eaf347f9143a0a4": {
     "views": []
    },
    "f91bed84156d403ba37e93aabf5c1894": {
     "views": []
    },
    "f936a141aa6d4fd3a1b7bc6a5cad77f0": {
     "views": []
    },
    "f95349e80b6348979f7733ac6d3b2526": {
     "views": []
    },
    "f957c44dd1cc4a22842962ecf31ca3cb": {
     "views": []
    },
    "f96fb09bb85e40fe8c06cc0411671cb1": {
     "views": []
    },
    "f973560cb21343a78654b5bdac2ca6db": {
     "views": []
    },
    "f9a9c68e23e340a683f27486d38a4f2d": {
     "views": []
    },
    "f9d08fffe13b41ad8aa56fa2fe195fb7": {
     "views": []
    },
    "fa1af81a824e4d03beee54a73b832944": {
     "views": []
    },
    "fa3f1d325b684e87b7e0015b699c5b6f": {
     "views": []
    },
    "fa5f8f738e6e43dd98ead7417b3053a4": {
     "views": []
    },
    "fa64d6fc3f2b44e29d86501df71c62f2": {
     "views": []
    },
    "fa7dec7917c049f0965832b548500306": {
     "views": []
    },
    "fa8185885c4a499abad5039711e63f3a": {
     "views": []
    },
    "fa8a89f8afef4238a0451316691dff5c": {
     "views": []
    },
    "fa9194f2b14c4b339b13e9c425691c4c": {
     "views": []
    },
    "fa9471a53fa44a2a9969f10e784960b6": {
     "views": []
    },
    "fa9a2bd930424b31a43a478b719629b4": {
     "views": []
    },
    "faad2e780e6543fe93aa7f9bf589e5dc": {
     "views": []
    },
    "fb23e17e2a5943c4a5108a4e15f1cbd8": {
     "views": []
    },
    "fb293adc4d4945f9a213dc56f1720207": {
     "views": []
    },
    "fb2e0ae4ab7646ce814c574895bfb0c0": {
     "views": []
    },
    "fb315417436246a5ad88a11dbba9b139": {
     "views": []
    },
    "fb6c0c3d76174a1fac76fac80c718d2e": {
     "views": []
    },
    "fbc794c0d927493d81d3b08f0fad95fb": {
     "views": []
    },
    "fbd15f30974349c297ff10f2eb85c734": {
     "views": []
    },
    "fbd94e434bdc4e8e9f934c6b30658514": {
     "views": []
    },
    "fbda62e6bcde4a65bf9079aae9547846": {
     "views": []
    },
    "fbed529966c947518d83685b283caa78": {
     "views": []
    },
    "fc135b946c934a789b91eff4374fc6e6": {
     "views": []
    },
    "fc436a03e05b49ec9098f32f29edff46": {
     "views": []
    },
    "fc4e65dd174547c79d26f4484248a8a2": {
     "views": []
    },
    "fc5da73e14804d6ba25d88b6db2e8a53": {
     "views": []
    },
    "fc94ffdaa23e42b7a06e42ded2456f99": {
     "views": []
    },
    "fcbeb461f9e143ee9c1c2fd233c69a6c": {
     "views": []
    },
    "fcc57443565d42aca47f3e0c5fb463a9": {
     "views": []
    },
    "fcc58ed26c264e55be3506d114ef88f4": {
     "views": []
    },
    "fd0c7462243d4c49a0a5fc4c099e4bd0": {
     "views": []
    },
    "fd1d292a162d40bbb57ff8b1cd2b28e8": {
     "views": []
    },
    "fd5fa91764f245d9b56f0ff6a589a0e8": {
     "views": []
    },
    "fd7740e0fdc84059b87526fe27c5b102": {
     "views": []
    },
    "fdc0f7cc0025405bbf1fe5f7ac7784c5": {
     "views": []
    },
    "fde5bb7a664a459f870529471b00d114": {
     "views": []
    },
    "fdf106e4d03145bfbad6c6378e3a08a7": {
     "views": []
    },
    "fe1174f42c644ba3809fca2be8fd2590": {
     "views": []
    },
    "fe4ee1402112445ea812e20f910fcb44": {
     "views": []
    },
    "fe7e2808350e471d92c18830697276db": {
     "views": []
    },
    "fe830683ca684afd9151e24a572f284b": {
     "views": []
    },
    "fe990b164194430bbf41ef60c62a4206": {
     "views": []
    },
    "fe9c1b46d5254982a9fa15625eb370ee": {
     "views": []
    },
    "fea1cdbd0d2a4755bddd1debfb9c119b": {
     "views": []
    },
    "feb137226def45808fe7c5b9635ff0f0": {
     "views": []
    },
    "febf6651bf854046899568e894b34461": {
     "views": []
    },
    "fed01d8bdd7049da9cbb9b179279914d": {
     "views": []
    },
    "fed9159d83ed40baa3544b4baa5e338b": {
     "views": []
    },
    "fef409a3c59e4ea198f961118c8b833d": {
     "views": []
    },
    "ff106c5d869d491999c903df44609463": {
     "views": []
    },
    "ff1af2c56c894dfcaaa975f87f531fa6": {
     "views": []
    },
    "ff4e71248c3c47f58f56e804f6e4a106": {
     "views": []
    },
    "ff5d0e4b51a349018151394651061a36": {
     "views": []
    },
    "ff6241ac737f48498ce77d5c36d1f578": {
     "views": []
    },
    "ff6af7e53c694b7f975c15d8c939c92c": {
     "views": []
    },
    "ff747ae011014029a316b79d10a7be82": {
     "views": []
    },
    "ff83275014744304b24520ad555675e9": {
     "views": []
    },
    "ff9ee782c7724d4ab3f671021dfe2146": {
     "views": []
    },
    "ffe1392505764fac992190df1f66e44c": {
     "views": []
    },
    "fff051b787ca4b64a57171a027eaa1cc": {
     "views": []
    }
   },
   "version": "1.1.2"
  }
 },
 "nbformat": 4,
 "nbformat_minor": 0
}
