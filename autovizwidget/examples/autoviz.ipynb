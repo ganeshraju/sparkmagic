{
 "cells": [
  {
   "cell_type": "markdown",
   "metadata": {},
   "source": [
    "# AutoVizWidget\n",
    "\n",
    "This is a library that allows you to visualize a [Pandas DataFrame](http://pandas.pydata.org/pandas-docs/stable/generated/pandas.DataFrame.html) with a series of visualizations produced via [plotly](https://plot.ly/python/).\n",
    "\n",
    "The GUI displayed so that the user can easily select the features of the graph is produced via [ipywidgets](https://github.com/ipython/ipywidgets)"
   ]
  },
  {
   "cell_type": "markdown",
   "metadata": {},
   "source": [
    "## Creating a Pandas DataFrame\n",
    "\n",
    "We'll create a Pandas DataFrame to visualize."
   ]
  },
  {
   "cell_type": "code",
   "execution_count": 1,
   "metadata": {
    "collapsed": true
   },
   "outputs": [],
   "source": [
    "import pandas as pd\n",
    "df = pd.DataFrame({'a': [1,2,3], 'b': [1,2,3], 'c': [\"hi\",\"hello\",\"hey\"]})"
   ]
  },
  {
   "cell_type": "markdown",
   "metadata": {},
   "source": [
    "## Creating an Encoding\n",
    "\n",
    "Encodings is how we indicate to the library which features it will use to create visualizations declaratively.\n",
    "\n",
    "Below, we'll select column `c` as the X axis, column `b` as the Y axis, and we'll take the `min` of the `b` column when plotting against the `c` column."
   ]
  },
  {
   "cell_type": "code",
   "execution_count": 2,
   "metadata": {
    "collapsed": true
   },
   "outputs": [],
   "source": [
    "from autovizwidget.widget.encoding import Encoding\n",
    "\n",
    "encoding = Encoding(chart_type=Encoding.chart_type_table, x='c', y='b', y_aggregation=Encoding.y_agg_min)"
   ]
  },
  {
   "cell_type": "markdown",
   "metadata": {},
   "source": [
    "## Visualizing\n",
    "\n",
    "We can now create an `AutoVizWidget` with our Pandas Dataframe (`df`) and the `encoding` we created."
   ]
  },
  {
   "cell_type": "code",
   "execution_count": 3,
   "metadata": {
    "collapsed": false
   },
   "outputs": [],
   "source": [
    "from autovizwidget.widget.autovizwidget import AutoVizWidget\n",
    "AutoVizWidget(df, encoding)"
   ]
  },
  {
   "cell_type": "markdown",
   "metadata": {},
   "source": [
    "![widget2](Capture0.PNG)"
   ]
  },
  {
   "cell_type": "markdown",
   "metadata": {},
   "source": [
    "# Convenience methods\n",
    "\n",
    "Alternatively, you can let the library inspect your pandas DataFrame and select the X and Y axis automatically for you.\n",
    "Simply use the `display_dataframe` method:"
   ]
  },
  {
   "cell_type": "code",
   "execution_count": 4,
   "metadata": {
    "collapsed": false
   },
   "outputs": [],
   "source": [
    "from autovizwidget.widget.utils import display_dataframe\n",
    "\n",
    "display_dataframe(df)"
   ]
  },
  {
   "cell_type": "markdown",
   "metadata": {},
   "source": [
    "![widget2](Capture1.PNG)"
   ]
  }
 ],
 "metadata": {
  "kernelspec": {
   "display_name": "Python 2",
   "language": "python",
   "name": "python2"
  },
  "language_info": {
   "codemirror_mode": {
    "name": "ipython",
    "version": 2
   },
   "file_extension": ".py",
   "mimetype": "text/x-python",
   "name": "python",
   "nbconvert_exporter": "python",
   "pygments_lexer": "ipython2",
   "version": "2.7.11"
  },
  "widgets": {
   "state": {
    "003434365d9748b285a9f48a935fd6d5": {
     "views": []
    },
    "039c551f6ca3405ba0aa4205640ca0ce": {
     "views": [
      {
       "cell_index": 6
      }
     ]
    },
    "05271b63628c49ddad34add452278eda": {
     "views": []
    },
    "05483fc2d4f84d8f985ff3e863a49d0c": {
     "views": []
    },
    "05d2f5004ec74de1afd87c63a0b349ef": {
     "views": []
    },
    "06ee89a22e6a47f38406f0c9ccd90f28": {
     "views": []
    },
    "08a60c25e36e404184443644414ce319": {
     "views": []
    },
    "0983585e9a46402ca2a5a377552fe16b": {
     "views": []
    },
    "0ad5b45687944d40b4a69d81adec7311": {
     "views": []
    },
    "0adbfe54b86b44f58d53e24e75590157": {
     "views": []
    },
    "0d7e173f86dd4f5aa629988353f504ba": {
     "views": []
    },
    "0e9b0777d2654d28a8f05c87b08aea74": {
     "views": []
    },
    "140a6bdb087448b292a2bda21b7a8b2b": {
     "views": []
    },
    "146a40acfa6c4cfc8c7aab807661fba7": {
     "views": []
    },
    "154733ec85a74fae87221858c513e2bf": {
     "views": []
    },
    "19085ef344744d179cb32bd1a8e8461c": {
     "views": []
    },
    "19539229e2cd4630aa90853eff8bbbe1": {
     "views": []
    },
    "1bee11eb93974eb0b6244f486ec244f4": {
     "views": []
    },
    "1cff1add441a4e1aa570dba2d1f1a647": {
     "views": []
    },
    "1f0d4c56e4e7449e80d2f6abda084710": {
     "views": []
    },
    "22f4da33b95c4a2980e52cbd93b0f931": {
     "views": []
    },
    "23a67ee5d0a1454eb6d782cc03b74374": {
     "views": []
    },
    "26361d57ec624c96ab98a8e7334a1754": {
     "views": []
    },
    "26af6fe579e948aab0ba0dff53025500": {
     "views": []
    },
    "26fc17faf28e4c5dbd0cfae523cf5888": {
     "views": []
    },
    "2a1f670efbea454fad20a9a81823a8b5": {
     "views": []
    },
    "2a2a16c11d964756b348f276f8793058": {
     "views": []
    },
    "2a6c66f677e04b3ba4f0f1d54ad9189f": {
     "views": []
    },
    "2c5bf47a27544bd68648e8fc4e1c0093": {
     "views": []
    },
    "2ccf1f882f354b489db042c30b037729": {
     "views": []
    },
    "2d33bb8964f94e6aac60afdbb4d492e9": {
     "views": []
    },
    "2e566e96119540868dbb42296165e87c": {
     "views": []
    },
    "313b88a317a5459090356ff357ea1922": {
     "views": []
    },
    "326793444c5b4decbfa7fd8923bd43d7": {
     "views": []
    },
    "3376e67403bc46d78f660d18bb71dd97": {
     "views": []
    },
    "3589d3144f844ebd849df5e1ed86181b": {
     "views": []
    },
    "36d3da6a4d194bd3a506bbb091ac41b0": {
     "views": []
    },
    "374b86e17e7542f7878ff32bb7fa1011": {
     "views": []
    },
    "38ef16aa956045ecbb1ca9d6a98bc698": {
     "views": []
    },
    "3a1cc2597d72484ea79a4a61d0ed757f": {
     "views": []
    },
    "3b1847d2e05a4ca2ad4b8326e7033b66": {
     "views": []
    },
    "3c346237b178422c8dda7cf6f4a3ccc3": {
     "views": []
    },
    "3c3d1d611f8e4891bc2e2c88fef26a73": {
     "views": []
    },
    "3c54375e3aa4406d9aa8a3291ef3511e": {
     "views": []
    },
    "3c887c2fa2334e07a05fa39bdf58b928": {
     "views": []
    },
    "3c8b168cdf04449984c92731afcd33f4": {
     "views": []
    },
    "3d6b23bd729345b8a70478c4dc57cd02": {
     "views": []
    },
    "3de4057c59b64f299899b7f278d49081": {
     "views": []
    },
    "3ee61deb8f0540e6b9f9fbfe1ed08a7c": {
     "views": []
    },
    "4035557b908242808ea0998ef6d1c719": {
     "views": []
    },
    "40bfa6529713498dbe601139be4c5f75": {
     "views": []
    },
    "42386cd95c174bd69bec293ffc66e8b1": {
     "views": []
    },
    "431affb2ac6d4458b0da739dbdb22629": {
     "views": []
    },
    "4444de82c5714d3e8c96269b76cf237c": {
     "views": []
    },
    "463de7d5dea947a9a35632e164e9f78b": {
     "views": []
    },
    "46538560b9d14f89918eeca3788ad922": {
     "views": []
    },
    "46fe03461f3a46d59f6ecb800c283470": {
     "views": []
    },
    "48acc5c866dc4cf7b90035882efadc23": {
     "views": []
    },
    "493b4dd5427d4f568d267d22ce4b18eb": {
     "views": []
    },
    "4a390d43312749a0a306cfd5290958b8": {
     "views": []
    },
    "4b68ff18bdec4eff93d4afa7891e4044": {
     "views": []
    },
    "4cd0bae6cb274ab6a9035bc67c7eaa87": {
     "views": []
    },
    "4db397a8f63442a4aa95ba1317f480d5": {
     "views": []
    },
    "4e3a2ebf80f546178b1f41abcca976bf": {
     "views": []
    },
    "4f6f153f94394457abf8cf99b1809fb7": {
     "views": [
      {
       "cell_index": 9
      }
     ]
    },
    "523608a45bb1433a811c270064abacda": {
     "views": []
    },
    "54130ace0ff04b84a9d99a11affcc992": {
     "views": []
    },
    "56d6e6b8241d41d7bd81303516cc4b07": {
     "views": []
    },
    "57c3bb70523d4427aab49a7cc278f384": {
     "views": []
    },
    "58e52541ec9140088ab20c993072b512": {
     "views": []
    },
    "590eea86aa4148749b81a132760994ef": {
     "views": []
    },
    "5984bbe4233046fe86ffd7b998189947": {
     "views": []
    },
    "5a4cef2847244057be9538246acd8da2": {
     "views": []
    },
    "5a6ace7995244ca888cc4aac09017655": {
     "views": []
    },
    "5f58298a6f4e4f66ae935767ac8f0be1": {
     "views": []
    },
    "608df666a4a0411cb1f89c2f4367323b": {
     "views": []
    },
    "60fc4fbc98214159a6aa444ec3e43877": {
     "views": []
    },
    "615fef9dbeca45e99f42de6442b96e9f": {
     "views": []
    },
    "629efe64738248839cd0c1a5cd66aa1c": {
     "views": []
    },
    "63647df2ad3a4540825e89598c9a636f": {
     "views": []
    },
    "65706899295143dfb62d857b4fb07741": {
     "views": []
    },
    "6693165dfd214ed58a6f79b8e9f5d3cd": {
     "views": []
    },
    "67fb6ccd8fb74a02b175d26020fb5e8d": {
     "views": []
    },
    "6c41c5a15457458f80fb95cdbbde3308": {
     "views": []
    },
    "6e9289ad6ba9401e9b5ada4e3bb7f6d1": {
     "views": []
    },
    "6ff3d1ddb30f43c2a5d199a29d4a2bf6": {
     "views": []
    },
    "70a3a05ddfd440c3bfbdfac515b9e38b": {
     "views": []
    },
    "73e83fe61e884f6bbef0b125e0b7cf88": {
     "views": []
    },
    "7649e8d299604b1b90598cc0fd6960ad": {
     "views": []
    },
    "773729bee4964b19a05ced8b4f036580": {
     "views": []
    },
    "77b3fd20e6e54a4e8d5662776beb9ee2": {
     "views": []
    },
    "79672a4cbf1045ebb008d90d84b90aef": {
     "views": []
    },
    "7fc099ae45b44117b347256e33892a98": {
     "views": []
    },
    "8230a36b2c774cf48305a4eec9a2bfec": {
     "views": []
    },
    "825eb7f57fec4313b4f804fe31734df2": {
     "views": []
    },
    "83fd84019ccc4866912a36c23428dcc5": {
     "views": []
    },
    "846cdf279d0443be81763d5072447c33": {
     "views": []
    },
    "84f8e764bdf54c03bad6d7c28593e9e8": {
     "views": []
    },
    "8674ceead36548b3b8769f82c3d44a6a": {
     "views": []
    },
    "8811ec3489714561ac1b55ee4ff49cc2": {
     "views": []
    },
    "8adaa27880874d52873a13e8579bd51b": {
     "views": []
    },
    "8b70a5a12cd14019966d54474f0c3da9": {
     "views": []
    },
    "8b7ea2957e30453fa4ac443ccc55a8d2": {
     "views": []
    },
    "8ce90fd5edc8431bae2a299e2d299022": {
     "views": []
    },
    "8d4326aa1b1e4ad59c3dfb4aecb54cc9": {
     "views": []
    },
    "9388ea52189c4580b995f8ea65e3b96b": {
     "views": []
    },
    "96ae3523c08d44ddb40f3fd526e9d2bd": {
     "views": []
    },
    "96b77f434ba8443f9ddbbbf30fe7573c": {
     "views": []
    },
    "97aacb752ca24976abf876858e6c8dfe": {
     "views": []
    },
    "9b49ec6f77b74daf840d332d921ffed4": {
     "views": []
    },
    "9c3818f8f42c43b081f704bfa28244b5": {
     "views": []
    },
    "9cb8138c3ce64a6197ed3e3546992718": {
     "views": []
    },
    "9eafc500f5864bf184c4dae2312457fb": {
     "views": []
    },
    "a13d8c73d3704c619dc4196bac8e17f3": {
     "views": []
    },
    "a1d6136f53c64d74a6122bf3b2e9932a": {
     "views": []
    },
    "a399ad0e62bd4156b25873251754574e": {
     "views": []
    },
    "a74aaf189cb44b12a17a1e1819b74b09": {
     "views": []
    },
    "a778ce8355254d15af57df9ed87d0832": {
     "views": []
    },
    "a787a39090ce4595bdd19bf4cd7eda24": {
     "views": []
    },
    "a79680921da14549a9c6de1dfba300fc": {
     "views": []
    },
    "a7cb19502c8f4327ac71d1a608493669": {
     "views": []
    },
    "a859a0891b5c497884a0f386c7e85ca8": {
     "views": []
    },
    "a87132af4bb946a691dafa11a43b8b93": {
     "views": []
    },
    "a9dfe8b937f749d5abe8c04bf8f9f960": {
     "views": []
    },
    "ae0d8dc9fe884ecba7c9ebd2c5c656ab": {
     "views": []
    },
    "af233ab66bcf42b49dd7e36f0ae522ab": {
     "views": []
    },
    "af92b3c38b774fd694c0c9b1f66cf55b": {
     "views": []
    },
    "b1adf31372fe4af0a8235663c7457306": {
     "views": []
    },
    "b36ec48039994fa8b08b869eaceecb65": {
     "views": []
    },
    "b4ace9d78ecc49da84c0ed1c8891e3a3": {
     "views": []
    },
    "b7751ba9a536451b8b59c2c769056f22": {
     "views": []
    },
    "b7fe6a2bad6e414097c596adcc3b0f8f": {
     "views": []
    },
    "b85e4d38231043e68358d84a77188931": {
     "views": []
    },
    "b9d2de1b90424449a150fdf462fc2fbd": {
     "views": []
    },
    "bb21cdee897b491b91453c8a3924e865": {
     "views": []
    },
    "bbf8dba7ac444a15bd3786cd207cc9f7": {
     "views": []
    },
    "bf2a2d625d0d4043b7facb8c2d054992": {
     "views": []
    },
    "bf602c4e5e774270a6af1148146f7909": {
     "views": []
    },
    "c00ec1225c5a4e1988ffb252bbf4002b": {
     "views": []
    },
    "c147d0d24e724a7fb1a64d2ec6a4136b": {
     "views": []
    },
    "c3059ef665bd406fa06fc83e339bf189": {
     "views": []
    },
    "c4a8756cacfd411c8af6bb964769c73a": {
     "views": []
    },
    "c4b2841efe76488f9742c350c51ec0f5": {
     "views": []
    },
    "c4b5d080767d44a085e966b9d81c5b91": {
     "views": []
    },
    "c6409eedb963436d8655f262c0a20c50": {
     "views": []
    },
    "c958cba719b642cbb433f33e0f7b7c31": {
     "views": []
    },
    "c96effaf685848ad99bcd68af0c96e02": {
     "views": []
    },
    "cbdaff776c94467eb3d3aed1dbd2cb00": {
     "views": []
    },
    "cdf51ad1d7234b5f9c8841dbb89127df": {
     "views": []
    },
    "d0b90afdcee84c42ad960432f8eedc9e": {
     "views": []
    },
    "d246d50436bd46ea9fe8dac7d6786e06": {
     "views": []
    },
    "d324b4d40a59471ba977ed4c4446577b": {
     "views": []
    },
    "d4e79696d65b4647bffe6f894abe1d01": {
     "views": []
    },
    "d5f786859de34903b90330aa3735c0c7": {
     "views": []
    },
    "daa88ef86faa4b6d8c49b5847877d1c3": {
     "views": []
    },
    "dbc0f76012d745a6828077c3fe656f75": {
     "views": []
    },
    "dcdd74eac9494ac28cd60bc390f09cbb": {
     "views": []
    },
    "dda9d01601d644289c6ff51bb6268d56": {
     "views": []
    },
    "df071e49f28b4f44b9dd3daac5506439": {
     "views": []
    },
    "df7d7a968a9b40f6b950e9a1a9139a81": {
     "views": []
    },
    "e13034523f5641049df127689eca56bd": {
     "views": []
    },
    "e1e10ab385364d3cadbf1461418c91fb": {
     "views": []
    },
    "e64a5c09be0a46e69a752008333fd0d7": {
     "views": []
    },
    "e65c10f059dd4fb1a8d224379e1fa388": {
     "views": []
    },
    "e7ea8f6b2b2e40d28da1980d5dff608c": {
     "views": []
    },
    "e928263c0cf8443888726d4adcb79198": {
     "views": []
    },
    "ea3456c3beda4415bac08fee4b0a01d0": {
     "views": []
    },
    "ea36b67a3b034374a5fdad0a17326b52": {
     "views": []
    },
    "ecec0d0f2b5d4f4bb703e67052da4ba8": {
     "views": []
    },
    "ed174e6dff2a4b12ba1593d8c90085f0": {
     "views": [
      {
       "cell_index": 8
      }
     ]
    },
    "f1e761d017404a9bb3fa12a04f51c000": {
     "views": []
    },
    "f27ecada253a4477a1f9742870f9985e": {
     "views": []
    },
    "f34b5e7cf1854e309d8084302e664bf3": {
     "views": [
      {
       "cell_index": 6
      }
     ]
    },
    "f8b5aac8d4e04860a6ca09e83549d133": {
     "views": []
    },
    "fc84fe0776404883accf22da3007af11": {
     "views": []
    },
    "ffde21a4d8214917b6de3fe1dcfdec0c": {
     "views": []
    }
   },
   "version": "1.1.2"
  }
 },
 "nbformat": 4,
 "nbformat_minor": 0
}
